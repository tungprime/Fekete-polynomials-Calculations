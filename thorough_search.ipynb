{
 "cells": [
  {
   "cell_type": "code",
   "execution_count": 1,
   "metadata": {
    "collapsed": false
   },
   "outputs": [
   ],
   "source": [
    "R.<x> = PolynomialRing(ZZ)"
   ]
  },
  {
   "cell_type": "code",
   "execution_count": 5,
   "metadata": {
    "collapsed": false
   },
   "outputs": [
   ],
   "source": [
    "def fekete(p):\n",
    "    #compute f_p(x) \n",
    "    v=[kronecker(a+1,p) for a in range(0,p-1)]\n",
    "    F_p=R(v)\n",
    "    if p%4==3:\n",
    "        coef=[1, -1]\n",
    "        factor=R(coef)\n",
    "        f,r =F_p.quo_rem(factor)\n",
    "    if p%4==1:\n",
    "        coef1=[1, -1, -1, 1]\n",
    "        factor1=R(coef1)\n",
    "        f,r=F_p.quo_rem(factor1)\n",
    "    return f\n",
    "    \n",
    "def reduced_fekete(p):\n",
    "    f_p=fekete(p)\n",
    "    u=f_p.trace_polynomial()\n",
    "    g_p=u[0]\n",
    "    return g_p\n",
    "\n",
    "def fekete_reduction(p, q):\n",
    "    g_p=reduced_fekete(p)\n",
    "    g=g_p.change_ring(GF(q))\n",
    "    return g.factor()\n",
    "    \n",
    "def cycle(p,n):\n",
    "    for q in range(n):\n",
    "        if is_prime(q): \n",
    "            factor=fekete_reduction(p,q)\n",
    "            if len(factor)==2: \n",
    "                factor1=factor[0][0]\n",
    "                degree_1=factor1.degree()\n",
    "                if degree_1==1 and factor[0][1]==1 and factor[1][1]==1: \n",
    "                    return q\n",
    "    return  -1         \n",
    "                \n",
    "def irreducible(p,n):\n",
    "    for q in range(n):\n",
    "        if is_prime(q): \n",
    "            factor=fekete_reduction(p,q)\n",
    "            if len(factor)==1 and factor[0][1]==1:\n",
    "                    return q\n",
    "    return  -1         \n",
    "                \n",
    "       \n",
    "    \n",
    "def length_test(v):\n",
    "    #count the number of even entries in v\n",
    "    count2=0\n",
    "    for item in v:\n",
    "        if item==2:\n",
    "            count2 +=1\n",
    "    count_even=0     \n",
    "    for item in v:        \n",
    "        if item %2 ==0:\n",
    "            count_even +=1\n",
    "    if count2==count_even==1:\n",
    "        return True\n",
    "    return False    \n",
    "    \n",
    "def tranposition(p,n):\n",
    "    result=[]\n",
    "    g=reduced_fekete(p)\n",
    "    for q in range(n):\n",
    "        v=[]\n",
    "        if is_prime(q):\n",
    "            factor=fekete_reduction(p,q)\n",
    "            for item in factor:\n",
    "                v.append(item[0].degree())\n",
    "        if sum(v)==g.degree() and length_test(v) and length_test and len(v)>1:\n",
    "            return q\n"
   ]
  },
  {
   "cell_type": "markdown",
   "metadata": {
    "collapsed": false
   },
   "source": [
    "We test the above codes for small $p$. "
   ]
  },
  {
   "cell_type": "code",
   "execution_count": 3,
   "metadata": {
    "collapsed": false
   },
   "outputs": [
    {
     "data": {
      "text/plain": [
       "x^4 + 2*x^3 + x^2 + 2*x + 1"
      ]
     },
     "execution_count": 3,
     "metadata": {
     },
     "output_type": "execute_result"
    }
   ],
   "source": [
    "p=7\n",
    "fekete(p)\n"
   ]
  },
  {
   "cell_type": "code",
   "execution_count": 4,
   "metadata": {
    "collapsed": false
   },
   "outputs": [
    {
     "name": "stdout",
     "output_type": "stream",
     "text": [
      "x^8 + x^6 + 2*x^5 + 3*x^4 + 2*x^3 + x^2 + 1\n",
      "x^4 - 3*x^2 + 2*x + 3\n"
     ]
    }
   ],
   "source": [
    "p=11\n",
    "print(fekete(p))\n",
    "print(reduced_fekete(p))"
   ]
  },
  {
   "cell_type": "code",
   "execution_count": 5,
   "metadata": {
    "collapsed": false
   },
   "outputs": [
    {
     "name": "stdout",
     "output_type": "stream",
     "text": [
      "x^8 + 2*x^6 + 2*x^5 + 3*x^4 + 2*x^3 + 2*x^2 + 1\n",
      "x^4 - 2*x^2 + 2*x + 1\n"
     ]
    }
   ],
   "source": [
    "p=13\n",
    "print(fekete(p))\n",
    "print(reduced_fekete(p))"
   ]
  },
  {
   "cell_type": "markdown",
   "metadata": {
    "collapsed": false
   },
   "source": [
    "In the following codes, we will find the first prime q such that the factorization of $g_p(x)$ modulo $q$ has the one of the following properties. \n",
    "\n",
    "(1) $g_p(x)$ is irreducible modul $q$. This will show that $g_p(x)$ is irreducible. \n",
    "\n",
    "(2) $g_p(x)$ has the form $(x+c) h(x)$ where $h(x)$ is an irreducible polynomial. This will show that the Galois group of $g_p(x)$ contains a cycle of length $n-1$ where $n=deg(g_p(x))$. \n",
    "\n",
    "(3) $g_p(x)$ has the form $(x^2+ax+b) k(x)$ where $k(x)$ is the product of irreducible polynomials of odd degrees. This show that the Galois group of $g_p(x)$ contains a transposition. \n",
    "\n",
    "If all of these conditions are satisfied then we can conclude that the Galois group of $g_p(x)$ is $S_n$ where $n=\\deg(g_p)$."
   ]
  },
  {
   "cell_type": "code",
   "execution_count": 3,
   "metadata": {
    "collapsed": false
   },
   "outputs": [
   ],
   "source": [
    "def search(p,n):\n",
    "    #find the triple (q_1, q_2,q_3)\n",
    "    irr=irreducible(p,n)\n",
    "    print(f\"The first prime that g is irreducible is: q=\",irr)\n",
    "    q_cycle=cycle(p,n)\n",
    "    print(f\"The first prime that g has a cycle is: q=\", q_cycle)\n",
    "    q_tranposition=tranposition(p,n)\n",
    "    print(f\"The first prime that g has a tranposition is q=\", q_tranposition)\n",
    "    \n",
    "\n",
    "\n"
   ]
  },
  {
   "cell_type": "code",
   "execution_count": 7,
   "metadata": {
    "collapsed": false
   },
   "outputs": [
    {
     "name": "stdout",
     "output_type": "stream",
     "text": [
      "The first prime that g is irreducible is: q= 5\n",
      "The first prime that g has a cycle is: q= 7\n",
      "The first prime that g has a tranposition is q= 53\n"
     ]
    }
   ],
   "source": [
    "p=11\n",
    "n=100\n",
    "search(p,n)"
   ]
  },
  {
   "cell_type": "code",
   "execution_count": 8,
   "metadata": {
    "collapsed": false
   },
   "outputs": [
    {
     "name": "stdout",
     "output_type": "stream",
     "text": [
      "The prime we are considering is p= 13\n",
      "The first prime that g is irreducible is: q= 3\n",
      "The first prime that g has a cycle is: q= 5\n",
      "The first prime that g has a tranposition is q= 61\n"
     ]
    }
   ],
   "source": [
    "P=Primes()\n",
    "p=P.next(p)\n",
    "n=1000\n",
    "print(\"The prime we are considering is p=\", p)\n",
    "search(p,n)"
   ]
  },
  {
   "cell_type": "code",
   "execution_count": 9,
   "metadata": {
    "collapsed": false
   },
   "outputs": [
    {
     "name": "stdout",
     "output_type": "stream",
     "text": [
      "The prime we are considering is p= 17\n",
      "The first prime that g is irreducible is: q= 19\n",
      "The first prime that g has a cycle is: q= 3\n",
      "The first prime that g has a tranposition is q= 11\n"
     ]
    }
   ],
   "source": [
    "P=Primes()\n",
    "p=P.next(p)\n",
    "n=1000\n",
    "print(\"The prime we are considering is p=\", p)\n",
    "search(p,n)"
   ]
  },
  {
   "cell_type": "code",
   "execution_count": 10,
   "metadata": {
    "collapsed": false
   },
   "outputs": [
    {
     "name": "stdout",
     "output_type": "stream",
     "text": [
      "The prime we are considering is p= 19\n",
      "The first prime that g is irreducible is: q= 5\n",
      "The first prime that g has a cycle is: q= 31\n",
      "The first prime that g has a tranposition is q= 43\n"
     ]
    }
   ],
   "source": [
    "P=Primes()\n",
    "p=P.next(p)\n",
    "n=1000\n",
    "print(\"The prime we are considering is p=\", p)\n",
    "search(p,n)"
   ]
  },
  {
   "cell_type": "code",
   "execution_count": 11,
   "metadata": {
    "collapsed": false
   },
   "outputs": [
    {
     "name": "stdout",
     "output_type": "stream",
     "text": [
      "The prime we are considering is p= 23\n",
      "The first prime that g is irreducible is: q= 7\n",
      "The first prime that g has a cycle is: q= 13\n",
      "The first prime that g has a tranposition is q= 101\n"
     ]
    }
   ],
   "source": [
    "P=Primes()\n",
    "p=P.next(p)\n",
    "n=1000\n",
    "print(\"The prime we are considering is p=\", p)\n",
    "search(p,n)"
   ]
  },
  {
   "cell_type": "code",
   "execution_count": 12,
   "metadata": {
    "collapsed": false
   },
   "outputs": [
    {
     "name": "stdout",
     "output_type": "stream",
     "text": [
      "The prime we are considering is p= 29\n",
      "The first prime that g is irreducible is: q= 53\n",
      "The first prime that g has a cycle is: q= 5\n"
     ]
    },
    {
     "name": "stdout",
     "output_type": "stream",
     "text": [
      "The first prime that g has a tranposition is q= 83\n"
     ]
    }
   ],
   "source": [
    "P=Primes()\n",
    "p=P.next(p)\n",
    "n=1000\n",
    "print(\"The prime we are considering is p=\", p)\n",
    "search(p,n)"
   ]
  },
  {
   "cell_type": "code",
   "execution_count": 13,
   "metadata": {
    "collapsed": false
   },
   "outputs": [
    {
     "name": "stdout",
     "output_type": "stream",
     "text": [
      "The prime we are considering is p= 31\n",
      "The first prime that g is irreducible is: q= 61\n",
      "The first prime that g has a cycle is: q= 13\n",
      "The first prime that g has a tranposition is q= 17\n"
     ]
    }
   ],
   "source": [
    "P=Primes()\n",
    "p=P.next(p)\n",
    "n=1000\n",
    "print(\"The prime we are considering is p=\", p)\n",
    "search(p,n)"
   ]
  },
  {
   "cell_type": "code",
   "execution_count": 14,
   "metadata": {
    "collapsed": false
   },
   "outputs": [
    {
     "name": "stdout",
     "output_type": "stream",
     "text": [
      "The prime we are considering is p= 37\n",
      "The first prime that g is irreducible is: q= 7\n",
      "The first prime that g has a cycle is: q= 13\n",
      "The first prime that g has a tranposition is q= 31\n"
     ]
    }
   ],
   "source": [
    "P=Primes()\n",
    "p=P.next(p)\n",
    "n=1000\n",
    "print(\"The prime we are considering is p=\", p)\n",
    "search(p,n)"
   ]
  },
  {
   "cell_type": "code",
   "execution_count": 15,
   "metadata": {
    "collapsed": false
   },
   "outputs": [
    {
     "name": "stdout",
     "output_type": "stream",
     "text": [
      "The prime we are considering is p= 41\n",
      "The first prime that g is irreducible is: q= 11\n",
      "The first prime that g has a cycle is: q= 103\n",
      "The first prime that g has a tranposition is q= 43\n"
     ]
    }
   ],
   "source": [
    "P=Primes()\n",
    "p=P.next(p)\n",
    "n=1000\n",
    "print(\"The prime we are considering is p=\", p)\n",
    "search(p,n)"
   ]
  },
  {
   "cell_type": "code",
   "execution_count": 16,
   "metadata": {
    "collapsed": false
   },
   "outputs": [
    {
     "name": "stdout",
     "output_type": "stream",
     "text": [
      "The prime we are considering is p= 43\n",
      "The first prime that g is irreducible is: q= 5\n",
      "The first prime that g has a cycle is: q= 31\n",
      "The first prime that g has a tranposition is q= 23\n"
     ]
    }
   ],
   "source": [
    "P=Primes()\n",
    "p=P.next(p)\n",
    "n=1000\n",
    "print(\"The prime we are considering is p=\", p)\n",
    "search(p,n)"
   ]
  },
  {
   "cell_type": "code",
   "execution_count": 17,
   "metadata": {
    "collapsed": false
   },
   "outputs": [
    {
     "name": "stdout",
     "output_type": "stream",
     "text": [
      "The first prime that g is irreducible is: q= 107\n",
      "The first prime that g has a cycle is: q= 7\n"
     ]
    },
    {
     "name": "stdout",
     "output_type": "stream",
     "text": [
      "The first prime that g has a tranposition is q= 53\n"
     ]
    }
   ],
   "source": [
    "p=47\n",
    "n=1000\n",
    "search(p,n)"
   ]
  },
  {
   "cell_type": "markdown",
   "metadata": {
    "collapsed": false
   },
   "source": [
    "Let us test the factorization at these primes. "
   ]
  },
  {
   "cell_type": "code",
   "execution_count": 18,
   "metadata": {
    "collapsed": false
   },
   "outputs": [
    {
     "data": {
      "text/plain": [
       "x^22 + 2*x^21 + 88*x^20 + 69*x^19 + 45*x^18 + 92*x^17 + 88*x^16 + 33*x^15 + 67*x^14 + 81*x^13 + 67*x^12 + 35*x^11 + 86*x^10 + 2*x^9 + 34*x^8 + 10*x^7 + 93*x^6 + 60*x^5 + 79*x^4 + 48*x^3 + 101*x^2 + 103*x + 102"
      ]
     },
     "execution_count": 18,
     "metadata": {
     },
     "output_type": "execute_result"
    }
   ],
   "source": [
    "p=47\n",
    "q=107\n",
    "fekete_reduction(p,q)"
   ]
  },
  {
   "cell_type": "code",
   "execution_count": 19,
   "metadata": {
    "collapsed": false
   },
   "outputs": [
    {
     "data": {
      "text/plain": [
       "(x + 3) * (x^21 + 6*x^20 + 5*x^19 + 3*x^18 + 3*x^17 + 3*x^16 + 2*x^15 + x^14 + 3*x^13 + 5*x^12 + 6*x^11 + 5*x^10 + x^9 + 5*x^8 + 5*x^4 + 5*x^3 + 5*x^2 + 3)"
      ]
     },
     "execution_count": 19,
     "metadata": {
     },
     "output_type": "execute_result"
    }
   ],
   "source": [
    "p=47\n",
    "q=7\n",
    "fekete_reduction(p,q)"
   ]
  },
  {
   "cell_type": "code",
   "execution_count": 20,
   "metadata": {
    "collapsed": false
   },
   "outputs": [
    {
     "data": {
      "text/plain": [
       "(x^2 + 22*x + 10) * (x^7 + 28*x^6 + 37*x^5 + 14*x^4 + 2*x^3 + x^2 + 8*x + 35) * (x^13 + 5*x^12 + 22*x^11 + 4*x^10 + 28*x^9 + 40*x^8 + 13*x^7 + 20*x^6 + 52*x^5 + 47*x^4 + 28*x^3 + 14*x^2 + 18*x + 28)"
      ]
     },
     "execution_count": 20,
     "metadata": {
     },
     "output_type": "execute_result"
    }
   ],
   "source": [
    "p=47\n",
    "q=53\n",
    "fekete_reduction(p,q)"
   ]
  },
  {
   "cell_type": "markdown",
   "metadata": {
    "collapsed": false
   },
   "source": [
    "Let us check $p=53$"
   ]
  },
  {
   "cell_type": "code",
   "execution_count": 21,
   "metadata": {
    "collapsed": false
   },
   "outputs": [
    {
     "name": "stdout",
     "output_type": "stream",
     "text": [
      "The first prime that g is irreducible is: q= 11\n",
      "The first prime that g has a cycle is: q= 59\n",
      "The first prime that g has a tranposition is q= 17\n"
     ]
    }
   ],
   "source": [
    "p=53\n",
    "n=1000\n",
    "search(p,n)"
   ]
  },
  {
   "cell_type": "markdown",
   "metadata": {
    "collapsed": false
   },
   "source": [
    "Let us double check this calculation"
   ]
  },
  {
   "cell_type": "code",
   "execution_count": 22,
   "metadata": {
    "collapsed": false
   },
   "outputs": [
    {
     "data": {
      "text/plain": [
       "x^24 + 9*x^22 + 9*x^20 + 7*x^18 + 2*x^16 + 2*x^15 + 4*x^14 + 7*x^13 + 4*x^12 + 2*x^11 + 3*x^10 + 6*x^9 + 3*x^8 + 2*x^7 + x^6 + 6*x^5 + 9*x^4 + x^3 + 5*x^2 + 7*x + 3"
      ]
     },
     "execution_count": 22,
     "metadata": {
     },
     "output_type": "execute_result"
    }
   ],
   "source": [
    "p=53\n",
    "q=11\n",
    "fekete_reduction(p,q)"
   ]
  },
  {
   "cell_type": "code",
   "execution_count": 23,
   "metadata": {
    "collapsed": false
   },
   "outputs": [
    {
     "data": {
      "text/plain": [
       "(x + 55) * (x^23 + 4*x^22 + 51*x^21 + 27*x^20 + 5*x^19 + 20*x^18 + 55*x^17 + 43*x^16 + 35*x^15 + 24*x^14 + 2*x^13 + 41*x^12 + 40*x^11 + 58*x^10 + 26*x^9 + 53*x^8 + 51*x^6 + 55*x^5 + 36*x^4 + 30*x^3 + 21*x^2 + 34*x + 14)"
      ]
     },
     "execution_count": 23,
     "metadata": {
     },
     "output_type": "execute_result"
    }
   ],
   "source": [
    "p=53\n",
    "q=59\n",
    "g=reduced_fekete(p)\n",
    "fekete_reduction(p,q)"
   ]
  },
  {
   "cell_type": "code",
   "execution_count": 24,
   "metadata": {
    "collapsed": false
   },
   "outputs": [
    {
     "data": {
      "text/plain": [
       "(x + 3) * (x^2 + 8*x + 11) * (x^21 + 6*x^20 + 11*x^19 + 10*x^18 + x^16 + 12*x^15 + 3*x^14 + 8*x^13 + 8*x^12 + 15*x^11 + 13*x^10 + 10*x^9 + 9*x^8 + 15*x^7 + 9*x^5 + 6*x^4 + 16*x^3 + x^2 + x + 14)"
      ]
     },
     "execution_count": 24,
     "metadata": {
     },
     "output_type": "execute_result"
    }
   ],
   "source": [
    "p=53\n",
    "q=17\n",
    "g=reduced_fekete(p)\n",
    "fekete_reduction(p,q)"
   ]
  },
  {
   "cell_type": "markdown",
   "metadata": {
    "collapsed": false
   },
   "source": [
    "Let us check $p=59$\n"
   ]
  },
  {
   "cell_type": "code",
   "execution_count": 25,
   "metadata": {
    "collapsed": false
   },
   "outputs": [
    {
     "name": "stdout",
     "output_type": "stream",
     "text": [
      "The first prime that g is irreducible is: q= 211\n",
      "The first prime that g has a cycle is: q= 257\n",
      "The first prime that g has a tranposition is q= 41\n"
     ]
    }
   ],
   "source": [
    "p=59\n",
    "n=1000\n",
    "search(p,n)"
   ]
  },
  {
   "cell_type": "markdown",
   "metadata": {
    "collapsed": false
   },
   "source": [
    "Let us double check this calculation."
   ]
  },
  {
   "cell_type": "code",
   "execution_count": 26,
   "metadata": {
    "collapsed": false
   },
   "outputs": [
    {
     "data": {
      "text/plain": [
       "x^28 + 184*x^26 + 2*x^25 + 116*x^24 + 163*x^23 + 186*x^22 + 84*x^21 + 116*x^20 + 85*x^19 + 192*x^18 + 154*x^17 + 148*x^16 + 7*x^15 + 117*x^14 + 67*x^13 + 63*x^12 + 105*x^11 + 54*x^10 + 9*x^9 + 2*x^8 + 49*x^7 + 60*x^6 + 38*x^5 + 10*x^4 + 37*x^3 + 11*x^2 + 50*x + 9"
      ]
     },
     "execution_count": 26,
     "metadata": {
     },
     "output_type": "execute_result"
    }
   ],
   "source": [
    "p=59\n",
    "q=211\n",
    "fekete_reduction(p,q)"
   ]
  },
  {
   "cell_type": "code",
   "execution_count": 27,
   "metadata": {
    "collapsed": false
   },
   "outputs": [
    {
     "data": {
      "text/plain": [
       "(x + 51) * (x^27 + 206*x^26 + 4*x^25 + 55*x^24 + 92*x^23 + 143*x^22 + 127*x^21 + 197*x^20 + 13*x^19 + 112*x^18 + 125*x^17 + 198*x^16 + 223*x^15 + 22*x^14 + 195*x^13 + 145*x^12 + 102*x^11 + 103*x^10 + 229*x^9 + 228*x^8 + 141*x^7 + 112*x^6 + 198*x^5 + 33*x^4 + 142*x^3 + 221*x^2 + 140*x + 106)"
      ]
     },
     "execution_count": 27,
     "metadata": {
     },
     "output_type": "execute_result"
    }
   ],
   "source": [
    "p=59\n",
    "q=257\n",
    "fekete_reduction(p,q)"
   ]
  },
  {
   "cell_type": "code",
   "execution_count": 28,
   "metadata": {
    "collapsed": false
   },
   "outputs": [
    {
     "data": {
      "text/plain": [
       "(x + 9) * (x^2 + 19*x + 25) * (x^25 + 13*x^24 + 28*x^23 + 12*x^22 + 24*x^21 + 17*x^20 + 24*x^19 + 40*x^18 + 4*x^17 + 9*x^16 + 24*x^15 + 24*x^14 + 20*x^13 + 23*x^12 + 33*x^11 + 11*x^9 + 25*x^8 + 7*x^7 + 27*x^6 + 7*x^4 + 22*x^3 + 5*x^2 + 19*x + 23)"
      ]
     },
     "execution_count": 28,
     "metadata": {
     },
     "output_type": "execute_result"
    }
   ],
   "source": [
    "p=59\n",
    "q=41\n",
    "fekete_reduction(p,q)"
   ]
  },
  {
   "cell_type": "markdown",
   "metadata": {
    "collapsed": false
   },
   "source": [
    "Let us check $p=61$."
   ]
  },
  {
   "cell_type": "code",
   "execution_count": 29,
   "metadata": {
    "collapsed": false
   },
   "outputs": [
    {
     "name": "stdout",
     "output_type": "stream",
     "text": [
      "The first prime that g is irreducible is: q= 197\n",
      "The first prime that g has a cycle is: q= 5\n",
      "The first prime that g has a tranposition is q= 41\n"
     ]
    }
   ],
   "source": [
    "p=61\n",
    "n=1000\n",
    "search(p,n)"
   ]
  },
  {
   "cell_type": "code",
   "execution_count": 30,
   "metadata": {
    "collapsed": false
   },
   "outputs": [
    {
     "data": {
      "text/plain": [
       "x^28 + 171*x^26 + 2*x^25 + 106*x^24 + 151*x^23 + 75*x^22 + 68*x^21 + 72*x^20 + 98*x^19 + 184*x^18 + 37*x^17 + 36*x^16 + 189*x^15 + 164*x^14 + 68*x^13 + 154*x^12 + 23*x^11 + 150*x^10 + 91*x^9 + 76*x^8 + 64*x^7 + 71*x^6 + 179*x^5 + 189*x^4 + 9*x^3 + 124*x^2 + 10*x + 3"
      ]
     },
     "execution_count": 30,
     "metadata": {
     },
     "output_type": "execute_result"
    }
   ],
   "source": [
    "p=61\n",
    "q=197\n",
    "fekete_reduction(p,q)"
   ]
  },
  {
   "cell_type": "code",
   "execution_count": 31,
   "metadata": {
    "collapsed": false
   },
   "outputs": [
    {
     "data": {
      "text/plain": [
       "(x + 2) * (x^27 + 3*x^26 + 3*x^25 + x^24 + x^23 + 2*x^22 + 4*x^21 + 4*x^20 + x^17 + 3*x^16 + x^14 + 2*x^13 + x^11 + 2*x^10 + 3*x^9 + 3*x^8 + 3*x^7 + 3*x^6 + x^5 + 3*x^3 + x^2 + 3*x + 4)"
      ]
     },
     "execution_count": 31,
     "metadata": {
     },
     "output_type": "execute_result"
    }
   ],
   "source": [
    "p=61\n",
    "q=5\n",
    "fekete_reduction(p,q)"
   ]
  },
  {
   "cell_type": "code",
   "execution_count": 32,
   "metadata": {
    "collapsed": false
   },
   "outputs": [
    {
     "data": {
      "text/plain": [
       "(x^2 + 20*x + 21) * (x^9 + 11*x^8 + 20*x^7 + 24*x^6 + 5*x^5 + 8*x^4 + 16*x^3 + 19*x^2 + 29*x + 18) * (x^17 + 10*x^16 + 18*x^15 + 33*x^14 + x^13 + 34*x^12 + 11*x^11 + 22*x^10 + 29*x^9 + 9*x^8 + 22*x^7 + x^6 + 16*x^5 + 23*x^4 + 31*x^3 + 30*x^2 + 29*x + 14)"
      ]
     },
     "execution_count": 32,
     "metadata": {
     },
     "output_type": "execute_result"
    }
   ],
   "source": [
    "p=61\n",
    "q=41\n",
    "fekete_reduction(p,q)"
   ]
  },
  {
   "cell_type": "markdown",
   "metadata": {
    "collapsed": false
   },
   "source": [
    "Let us check the same for $p=67$"
   ]
  },
  {
   "cell_type": "code",
   "execution_count": 33,
   "metadata": {
    "collapsed": false
   },
   "outputs": [
    {
     "name": "stdout",
     "output_type": "stream",
     "text": [
      "The first prime that g is irreducible is: q= 113\n",
      "The first prime that g has a cycle is: q= 41\n",
      "The first prime that g has a tranposition is q= 29\n"
     ]
    }
   ],
   "source": [
    "p=67\n",
    "n=1000\n",
    "search(p,n)"
   ]
  },
  {
   "cell_type": "code",
   "execution_count": 34,
   "metadata": {
    "collapsed": false
   },
   "outputs": [
    {
     "name": "stdout",
     "output_type": "stream",
     "text": [
      "The prime we are considering is p= 71\n",
      "The first prime that g is irreducible is: q= 31\n",
      "The first prime that g has a cycle is: q= 37\n",
      "The first prime that g has a tranposition is q= 5\n"
     ]
    }
   ],
   "source": [
    "P=Primes()\n",
    "p=P.next(p)\n",
    "n=1000\n",
    "print(\"The prime we are considering is p=\", p)\n",
    "search(p,n)"
   ]
  },
  {
   "cell_type": "code",
   "execution_count": 35,
   "metadata": {
    "collapsed": false
   },
   "outputs": [
    {
     "name": "stdout",
     "output_type": "stream",
     "text": [
      "The prime we are considering is p= 73\n",
      "The first prime that g is irreducible is: q= 97\n"
     ]
    },
    {
     "name": "stdout",
     "output_type": "stream",
     "text": [
      "The first prime that g has a cycle is: q= 149\n"
     ]
    },
    {
     "name": "stdout",
     "output_type": "stream",
     "text": [
      "The first prime that g has a tranposition is q= 47\n"
     ]
    }
   ],
   "source": [
    "P=Primes()\n",
    "p=P.next(p)\n",
    "n=1000\n",
    "print(\"The prime we are considering is p=\", p)\n",
    "search(p,n)"
   ]
  },
  {
   "cell_type": "code",
   "execution_count": 36,
   "metadata": {
    "collapsed": false
   },
   "outputs": [
    {
     "name": "stdout",
     "output_type": "stream",
     "text": [
      "The prime we are considering is p= 79\n",
      "The first prime that g is irreducible is: q= 73\n",
      "The first prime that g has a cycle is: q= 113\n",
      "The first prime that g has a tranposition is q= 53\n"
     ]
    }
   ],
   "source": [
    "P=Primes()\n",
    "p=P.next(p)\n",
    "n=1000\n",
    "print(\"The prime we are considering is p=\", p)\n",
    "search(p,n)"
   ]
  },
  {
   "cell_type": "code",
   "execution_count": 37,
   "metadata": {
    "collapsed": false
   },
   "outputs": [
    {
     "name": "stdout",
     "output_type": "stream",
     "text": [
      "The prime we are considering is p= 83\n"
     ]
    },
    {
     "name": "stdout",
     "output_type": "stream",
     "text": [
      "The first prime that g is irreducible is: q= 617\n",
      "The first prime that g has a cycle is: q= 61\n",
      "The first prime that g has a tranposition is q= 101\n"
     ]
    }
   ],
   "source": [
    "P=Primes()\n",
    "p=P.next(p)\n",
    "n=1000\n",
    "print(\"The prime we are considering is p=\", p)\n",
    "search(p,n)"
   ]
  },
  {
   "cell_type": "code",
   "execution_count": 38,
   "metadata": {
    "collapsed": false
   },
   "outputs": [
    {
     "name": "stdout",
     "output_type": "stream",
     "text": [
      "The prime we are considering is p= 89\n",
      "The first prime that g is irreducible is: q= 127\n"
     ]
    },
    {
     "name": "stdout",
     "output_type": "stream",
     "text": [
      "The first prime that g has a cycle is: q= 151\n",
      "The first prime that g has a tranposition is q= 103\n"
     ]
    }
   ],
   "source": [
    "P=Primes()\n",
    "p=P.next(p)\n",
    "n=1000\n",
    "print(\"The prime we are considering is p=\", p)\n",
    "search(p,n)"
   ]
  },
  {
   "cell_type": "code",
   "execution_count": 39,
   "metadata": {
    "collapsed": false
   },
   "outputs": [
    {
     "name": "stdout",
     "output_type": "stream",
     "text": [
      "The prime we are considering is p= 97\n"
     ]
    },
    {
     "name": "stdout",
     "output_type": "stream",
     "text": [
      "The first prime that g is irreducible is: q= 53\n",
      "The first prime that g has a cycle is: q= 61\n",
      "The first prime that g has a tranposition is q= 41\n"
     ]
    }
   ],
   "source": [
    "P=Primes()\n",
    "p=P.next(p)\n",
    "n=1000\n",
    "print(\"The prime we are considering is p=\", p)\n",
    "search(p,n)"
   ]
  },
  {
   "cell_type": "code",
   "execution_count": 40,
   "metadata": {
    "collapsed": false
   },
   "outputs": [
    {
     "name": "stdout",
     "output_type": "stream",
     "text": [
      "The prime we are considering is p= 101\n"
     ]
    },
    {
     "name": "stdout",
     "output_type": "stream",
     "text": [
      "The first prime that g is irreducible is: q= 547\n",
      "The first prime that g has a cycle is: q= 149\n",
      "The first prime that g has a tranposition is q= 89\n"
     ]
    }
   ],
   "source": [
    "P=Primes()\n",
    "p=P.next(p)\n",
    "n=1000\n",
    "print(\"The prime we are considering is p=\", p)\n",
    "search(p,n)"
   ]
  },
  {
   "cell_type": "code",
   "execution_count": 41,
   "metadata": {
    "collapsed": false
   },
   "outputs": [
    {
     "name": "stdout",
     "output_type": "stream",
     "text": [
      "The prime we are considering is p= 103\n"
     ]
    },
    {
     "name": "stdout",
     "output_type": "stream",
     "text": [
      "The first prime that g is irreducible is: q= 457\n"
     ]
    },
    {
     "name": "stdout",
     "output_type": "stream",
     "text": [
      "The first prime that g has a cycle is: q= 277\n",
      "The first prime that g has a tranposition is q= 127\n"
     ]
    }
   ],
   "source": [
    "P=Primes()\n",
    "p=P.next(p)\n",
    "n=1000\n",
    "print(\"The prime we are considering is p=\", p)\n",
    "search(p,n)"
   ]
  },
  {
   "cell_type": "code",
   "execution_count": 42,
   "metadata": {
    "collapsed": false
   },
   "outputs": [
    {
     "name": "stdout",
     "output_type": "stream",
     "text": [
      "The prime we are considering is p= 107\n",
      "The first prime that g is irreducible is: q= 17\n"
     ]
    },
    {
     "name": "stdout",
     "output_type": "stream",
     "text": [
      "The first prime that g has a cycle is: q= 193\n",
      "The first prime that g has a tranposition is q= 53\n"
     ]
    }
   ],
   "source": [
    "P=Primes()\n",
    "p=P.next(p)\n",
    "n=1000\n",
    "print(\"The prime we are considering is p=\", p)\n",
    "search(p,n)"
   ]
  },
  {
   "cell_type": "code",
   "execution_count": 43,
   "metadata": {
    "collapsed": false
   },
   "outputs": [
    {
     "name": "stdout",
     "output_type": "stream",
     "text": [
      "The prime we are considering is p= 109\n",
      "The first prime that g is irreducible is: q= 127\n"
     ]
    },
    {
     "name": "stdout",
     "output_type": "stream",
     "text": [
      "The first prime that g has a cycle is: q= 293\n",
      "The first prime that g has a tranposition is q= 157\n"
     ]
    }
   ],
   "source": [
    "P=Primes()\n",
    "p=P.next(p)\n",
    "n=1000\n",
    "print(\"The prime we are considering is p=\", p)\n",
    "search(p,n)"
   ]
  },
  {
   "cell_type": "code",
   "execution_count": 44,
   "metadata": {
    "collapsed": false
   },
   "outputs": [
    {
     "name": "stdout",
     "output_type": "stream",
     "text": [
      "The prime we are considering is p= 113\n",
      "The first prime that g is irreducible is: q= 23\n"
     ]
    },
    {
     "name": "stdout",
     "output_type": "stream",
     "text": [
      "The first prime that g has a cycle is: q= 491\n",
      "The first prime that g has a tranposition is q= 101\n"
     ]
    }
   ],
   "source": [
    "P=Primes()\n",
    "p=P.next(p)\n",
    "n=1000\n",
    "print(\"The prime we are considering is p=\", p)\n",
    "search(p,n)"
   ]
  },
  {
   "cell_type": "code",
   "execution_count": 45,
   "metadata": {
    "collapsed": false
   },
   "outputs": [
    {
     "name": "stdout",
     "output_type": "stream",
     "text": [
      "The prime we are considering is p= 127\n"
     ]
    },
    {
     "name": "stdout",
     "output_type": "stream",
     "text": [
      "The first prime that g is irreducible is: q= 223\n"
     ]
    },
    {
     "name": "stdout",
     "output_type": "stream",
     "text": [
      "The first prime that g has a cycle is: q= 197\n",
      "The first prime that g has a tranposition is q= 41\n"
     ]
    }
   ],
   "source": [
    "P=Primes()\n",
    "p=P.next(p)\n",
    "n=1000\n",
    "print(\"The prime we are considering is p=\", p)\n",
    "search(p,n)"
   ]
  },
  {
   "cell_type": "code",
   "execution_count": 46,
   "metadata": {
    "collapsed": false
   },
   "outputs": [
    {
     "name": "stdout",
     "output_type": "stream",
     "text": [
      "The prime we are considering is p= 131\n"
     ]
    },
    {
     "name": "stdout",
     "output_type": "stream",
     "text": [
      "The first prime that g is irreducible is: q= 499\n"
     ]
    },
    {
     "name": "stdout",
     "output_type": "stream",
     "text": [
      "The first prime that g has a cycle is: q= -1\n",
      "The first prime that g has a tranposition is q= 19\n"
     ]
    }
   ],
   "source": [
    "P=Primes()\n",
    "p=131\n",
    "n=1000\n",
    "print(\"The prime we are considering is p=\", p)\n",
    "search(p,n)"
   ]
  },
  {
   "cell_type": "markdown",
   "metadata": {
    "collapsed": false
   },
   "source": [
    "This is the first time that our algorithm cannot find $q$. We now increase $n$ to $10^4$. "
   ]
  },
  {
   "cell_type": "code",
   "execution_count": 47,
   "metadata": {
    "collapsed": false
   },
   "outputs": [
    {
     "name": "stdout",
     "output_type": "stream",
     "text": [
      "The prime we are considering is p= 131\n"
     ]
    },
    {
     "name": "stdout",
     "output_type": "stream",
     "text": [
      "The first prime that g is irreducible is: q= 499\n"
     ]
    },
    {
     "name": "stdout",
     "output_type": "stream",
     "text": [
      "The first prime that g has a cycle is: q= 1193\n",
      "The first prime that g has a tranposition is q= 19\n"
     ]
    }
   ],
   "source": [
    "p=131\n",
    "n=10**4\n",
    "print(\"The prime we are considering is p=\", p)\n",
    "search(p,n)"
   ]
  },
  {
   "cell_type": "code",
   "execution_count": 48,
   "metadata": {
    "collapsed": false
   },
   "outputs": [
    {
     "name": "stdout",
     "output_type": "stream",
     "text": [
      "The prime we are considering is p= 137\n"
     ]
    },
    {
     "name": "stdout",
     "output_type": "stream",
     "text": [
      "The first prime that g is irreducible is: q= 839\n"
     ]
    },
    {
     "name": "stdout",
     "output_type": "stream",
     "text": [
      "The first prime that g has a cycle is: q= 523\n",
      "The first prime that g has a tranposition is q= 59\n"
     ]
    }
   ],
   "source": [
    "P=Primes()\n",
    "p=P.next(p)\n",
    "n=10**4\n",
    "print(\"The prime we are considering is p=\", p)\n",
    "search(p,n)"
   ]
  },
  {
   "cell_type": "code",
   "execution_count": 49,
   "metadata": {
    "collapsed": false
   },
   "outputs": [
    {
     "name": "stdout",
     "output_type": "stream",
     "text": [
      "The prime we are considering is p= 139\n"
     ]
    },
    {
     "name": "stdout",
     "output_type": "stream",
     "text": [
      "The first prime that g is irreducible is: q= 673\n",
      "The first prime that g has a cycle is: q= 103\n"
     ]
    },
    {
     "name": "stdout",
     "output_type": "stream",
     "text": [
      "The first prime that g has a tranposition is q= 157\n"
     ]
    }
   ],
   "source": [
    "P=Primes()\n",
    "p=P.next(p)\n",
    "n=10**4\n",
    "print(\"The prime we are considering is p=\", p)\n",
    "search(p,n)"
   ]
  },
  {
   "cell_type": "code",
   "execution_count": 50,
   "metadata": {
    "collapsed": false
   },
   "outputs": [
    {
     "name": "stdout",
     "output_type": "stream",
     "text": [
      "The prime we are considering is p= 149\n",
      "The first prime that g is irreducible is: q= 107\n"
     ]
    },
    {
     "name": "stdout",
     "output_type": "stream",
     "text": [
      "The first prime that g has a cycle is: q= 43\n"
     ]
    },
    {
     "name": "stdout",
     "output_type": "stream",
     "text": [
      "The first prime that g has a tranposition is q= 179\n"
     ]
    }
   ],
   "source": [
    "P=Primes()\n",
    "p=P.next(p)\n",
    "n=10**4\n",
    "print(\"The prime we are considering is p=\", p)\n",
    "search(p,n)"
   ]
  },
  {
   "cell_type": "code",
   "execution_count": 51,
   "metadata": {
    "collapsed": false
   },
   "outputs": [
    {
     "name": "stdout",
     "output_type": "stream",
     "text": [
      "The prime we are considering is p= 151\n"
     ]
    },
    {
     "name": "stdout",
     "output_type": "stream",
     "text": [
      "The first prime that g is irreducible is: q= 1217\n",
      "The first prime that g has a cycle is: q= 37\n",
      "The first prime that g has a tranposition is q= 67\n"
     ]
    }
   ],
   "source": [
    "P=Primes()\n",
    "p=P.next(p)\n",
    "n=10**4\n",
    "print(\"The prime we are considering is p=\", p)\n",
    "search(p,n)"
   ]
  },
  {
   "cell_type": "code",
   "execution_count": 52,
   "metadata": {
    "collapsed": false
   },
   "outputs": [
    {
     "name": "stdout",
     "output_type": "stream",
     "text": [
      "The prime we are considering is p= 157\n"
     ]
    },
    {
     "name": "stdout",
     "output_type": "stream",
     "text": [
      "The first prime that g is irreducible is: q= 229\n",
      "The first prime that g has a cycle is: q= 67\n"
     ]
    },
    {
     "name": "stdout",
     "output_type": "stream",
     "text": [
      "The first prime that g has a tranposition is q= 191\n"
     ]
    }
   ],
   "source": [
    "P=Primes()\n",
    "p=P.next(p)\n",
    "n=10**4\n",
    "print(\"The prime we are considering is p=\", p)\n",
    "search(p,n)"
   ]
  },
  {
   "cell_type": "code",
   "execution_count": 53,
   "metadata": {
    "collapsed": false
   },
   "outputs": [
    {
     "name": "stdout",
     "output_type": "stream",
     "text": [
      "The prime we are considering is p= 163\n",
      "The first prime that g is irreducible is: q= 23\n"
     ]
    },
    {
     "name": "stdout",
     "output_type": "stream",
     "text": [
      "The first prime that g has a cycle is: q= 239\n",
      "The first prime that g has a tranposition is q= 103\n"
     ]
    }
   ],
   "source": [
    "P=Primes()\n",
    "p=P.next(p)\n",
    "n=10**4\n",
    "print(\"The prime we are considering is p=\", p)\n",
    "search(p,n)"
   ]
  },
  {
   "cell_type": "code",
   "execution_count": 54,
   "metadata": {
    "collapsed": false
   },
   "outputs": [
    {
     "name": "stdout",
     "output_type": "stream",
     "text": [
      "The prime we are considering is p= 167\n"
     ]
    },
    {
     "name": "stdout",
     "output_type": "stream",
     "text": [
      "The first prime that g is irreducible is: q= 199\n"
     ]
    },
    {
     "name": "stdout",
     "output_type": "stream",
     "text": [
      "The first prime that g has a cycle is: q= 379\n",
      "The first prime that g has a tranposition is q= 73\n"
     ]
    }
   ],
   "source": [
    "P=Primes()\n",
    "p=P.next(p)\n",
    "n=10**4\n",
    "print(\"The prime we are considering is p=\", p)\n",
    "search(p,n)"
   ]
  },
  {
   "cell_type": "code",
   "execution_count": 55,
   "metadata": {
    "collapsed": false
   },
   "outputs": [
    {
     "name": "stdout",
     "output_type": "stream",
     "text": [
      "The prime we are considering is p= 173\n"
     ]
    },
    {
     "name": "stdout",
     "output_type": "stream",
     "text": [
      "The first prime that g is irreducible is: q= 127\n"
     ]
    },
    {
     "name": "stdout",
     "output_type": "stream",
     "text": [
      "The first prime that g has a cycle is: q= 139\n"
     ]
    },
    {
     "name": "stdout",
     "output_type": "stream",
     "text": [
      "The first prime that g has a tranposition is q= 29\n"
     ]
    }
   ],
   "source": [
    "P=Primes()\n",
    "p=P.next(p)\n",
    "n=10**4\n",
    "print(\"The prime we are considering is p=\", p)\n",
    "search(p,n)"
   ]
  },
  {
   "cell_type": "code",
   "execution_count": 56,
   "metadata": {
    "collapsed": false
   },
   "outputs": [
    {
     "name": "stdout",
     "output_type": "stream",
     "text": [
      "The prime we are considering is p= 179\n"
     ]
    },
    {
     "name": "stdout",
     "output_type": "stream",
     "text": [
      "The first prime that g is irreducible is: q= 131\n"
     ]
    },
    {
     "name": "stdout",
     "output_type": "stream",
     "text": [
      "The first prime that g has a cycle is: q= 211\n"
     ]
    },
    {
     "name": "stdout",
     "output_type": "stream",
     "text": [
      "The first prime that g has a tranposition is q= 101\n"
     ]
    }
   ],
   "source": [
    "P=Primes()\n",
    "p=P.next(p)\n",
    "n=10**4\n",
    "print(\"The prime we are considering is p=\", p)\n",
    "search(p,n)"
   ]
  },
  {
   "cell_type": "code",
   "execution_count": 57,
   "metadata": {
    "collapsed": false
   },
   "outputs": [
    {
     "name": "stdout",
     "output_type": "stream",
     "text": [
      "The prime we are considering is p= 181\n"
     ]
    },
    {
     "name": "stdout",
     "output_type": "stream",
     "text": [
      "The first prime that g is irreducible is: q= 569\n"
     ]
    },
    {
     "name": "stdout",
     "output_type": "stream",
     "text": [
      "The first prime that g has a cycle is: q= 347\n"
     ]
    },
    {
     "name": "stdout",
     "output_type": "stream",
     "text": [
      "The first prime that g has a tranposition is q= 613\n"
     ]
    }
   ],
   "source": [
    "P=Primes()\n",
    "p=P.next(p)\n",
    "n=10**4\n",
    "print(\"The prime we are considering is p=\", p)\n",
    "search(p,n)"
   ]
  },
  {
   "cell_type": "code",
   "execution_count": 58,
   "metadata": {
    "collapsed": false
   },
   "outputs": [
    {
     "name": "stdout",
     "output_type": "stream",
     "text": [
      "The prime we are considering is p= 191\n"
     ]
    },
    {
     "name": "stdout",
     "output_type": "stream",
     "text": [
      "The first prime that g is irreducible is: q= 509\n"
     ]
    },
    {
     "name": "stdout",
     "output_type": "stream",
     "text": [
      "The first prime that g has a cycle is: q= 281\n",
      "The first prime that g has a tranposition is q= 101\n"
     ]
    }
   ],
   "source": [
    "P=Primes()\n",
    "p=P.next(p)\n",
    "n=10**4\n",
    "print(\"The prime we are considering is p=\", p)\n",
    "search(p,n)"
   ]
  },
  {
   "cell_type": "code",
   "execution_count": 59,
   "metadata": {
    "collapsed": false
   },
   "outputs": [
    {
     "name": "stdout",
     "output_type": "stream",
     "text": [
      "The prime we are considering is p= 193\n"
     ]
    },
    {
     "name": "stdout",
     "output_type": "stream",
     "text": [
      "The first prime that g is irreducible is: q= 13\n"
     ]
    },
    {
     "name": "stdout",
     "output_type": "stream",
     "text": [
      "The first prime that g has a cycle is: q= 307\n"
     ]
    },
    {
     "name": "stdout",
     "output_type": "stream",
     "text": [
      "The first prime that g has a tranposition is q= 107\n"
     ]
    }
   ],
   "source": [
    "P=Primes()\n",
    "p=P.next(p)\n",
    "n=10**4\n",
    "print(\"The prime we are considering is p=\", p)\n",
    "search(p,n)"
   ]
  },
  {
   "cell_type": "code",
   "execution_count": 60,
   "metadata": {
    "collapsed": false
   },
   "outputs": [
    {
     "name": "stdout",
     "output_type": "stream",
     "text": [
      "The prime we are considering is p= 197\n"
     ]
    },
    {
     "name": "stdout",
     "output_type": "stream",
     "text": [
      "The first prime that g is irreducible is: q= 2141\n"
     ]
    },
    {
     "name": "stdout",
     "output_type": "stream",
     "text": [
      "The first prime that g has a cycle is: q= 257\n",
      "The first prime that g has a tranposition is q= 17\n"
     ]
    }
   ],
   "source": [
    "P=Primes()\n",
    "p=P.next(p)\n",
    "n=10**4\n",
    "print(\"The prime we are considering is p=\", p)\n",
    "search(p,n)"
   ]
  },
  {
   "cell_type": "code",
   "execution_count": 61,
   "metadata": {
    "collapsed": false
   },
   "outputs": [
    {
     "name": "stdout",
     "output_type": "stream",
     "text": [
      "The prime we are considering is p= 199\n"
     ]
    },
    {
     "name": "stdout",
     "output_type": "stream",
     "text": [
      "The first prime that g is irreducible is: q= 547\n"
     ]
    },
    {
     "name": "stdout",
     "output_type": "stream",
     "text": [
      "The first prime that g has a cycle is: q= 787\n",
      "The first prime that g has a tranposition is q= 17\n"
     ]
    }
   ],
   "source": [
    "P=Primes()\n",
    "p=P.next(p)\n",
    "n=10**4\n",
    "print(\"The prime we are considering is p=\", p)\n",
    "search(p,n)"
   ]
  },
  {
   "cell_type": "code",
   "execution_count": 62,
   "metadata": {
    "collapsed": false
   },
   "outputs": [
    {
     "name": "stdout",
     "output_type": "stream",
     "text": [
      "The prime we are considering is p= 211\n"
     ]
    },
    {
     "name": "stdout",
     "output_type": "stream",
     "text": [
      "The first prime that g is irreducible is: q= 47\n"
     ]
    },
    {
     "name": "stdout",
     "output_type": "stream",
     "text": [
      "The first prime that g has a cycle is: q= 311\n",
      "The first prime that g has a tranposition is q= 23\n"
     ]
    }
   ],
   "source": [
    "P=Primes()\n",
    "p=P.next(p)\n",
    "n=10**4\n",
    "print(\"The prime we are considering is p=\", p)\n",
    "search(p,n)"
   ]
  },
  {
   "cell_type": "code",
   "execution_count": 63,
   "metadata": {
    "collapsed": false
   },
   "outputs": [
    {
     "name": "stdout",
     "output_type": "stream",
     "text": [
      "The prime we are considering is p= 223\n"
     ]
    },
    {
     "name": "stdout",
     "output_type": "stream",
     "text": [
      "The first prime that g is irreducible is: q= 1481\n"
     ]
    },
    {
     "name": "stdout",
     "output_type": "stream",
     "text": [
      "The first prime that g has a cycle is: q= 179\n"
     ]
    },
    {
     "name": "stdout",
     "output_type": "stream",
     "text": [
      "The first prime that g has a tranposition is q= 103\n"
     ]
    }
   ],
   "source": [
    "P=Primes()\n",
    "p=P.next(p)\n",
    "n=10**4\n",
    "print(\"The prime we are considering is p=\", p)\n",
    "search(p,n)"
   ]
  },
  {
   "cell_type": "code",
   "execution_count": 64,
   "metadata": {
    "collapsed": false
   },
   "outputs": [
    {
     "name": "stdout",
     "output_type": "stream",
     "text": [
      "The prime we are considering is p= 227\n"
     ]
    },
    {
     "name": "stdout",
     "output_type": "stream",
     "text": [
      "The first prime that g is irreducible is: q= 317\n"
     ]
    },
    {
     "name": "stdout",
     "output_type": "stream",
     "text": [
      "The first prime that g has a cycle is: q= 439\n"
     ]
    },
    {
     "name": "stdout",
     "output_type": "stream",
     "text": [
      "The first prime that g has a tranposition is q= 223\n"
     ]
    }
   ],
   "source": [
    "P=Primes()\n",
    "p=P.next(p)\n",
    "n=10**4\n",
    "print(\"The prime we are considering is p=\", p)\n",
    "search(p,n)"
   ]
  },
  {
   "cell_type": "code",
   "execution_count": 65,
   "metadata": {
    "collapsed": false
   },
   "outputs": [
    {
     "name": "stdout",
     "output_type": "stream",
     "text": [
      "The prime we are considering is p= 229\n"
     ]
    },
    {
     "name": "stdout",
     "output_type": "stream",
     "text": [
      "The first prime that g is irreducible is: q= 631\n"
     ]
    },
    {
     "name": "stdout",
     "output_type": "stream",
     "text": [
      "The first prime that g has a cycle is: q= 719\n"
     ]
    },
    {
     "name": "stdout",
     "output_type": "stream",
     "text": [
      "The first prime that g has a tranposition is q= 89\n"
     ]
    }
   ],
   "source": [
    "P=Primes()\n",
    "p=P.next(p)\n",
    "n=10**4\n",
    "print(\"The prime we are considering is p=\", p)\n",
    "search(p,n)"
   ]
  },
  {
   "cell_type": "code",
   "execution_count": 66,
   "metadata": {
    "collapsed": false
   },
   "outputs": [
    {
     "name": "stdout",
     "output_type": "stream",
     "text": [
      "The prime we are considering is p= 233\n"
     ]
    },
    {
     "name": "stdout",
     "output_type": "stream",
     "text": [
      "The first prime that g is irreducible is: q= 1559\n"
     ]
    },
    {
     "name": "stdout",
     "output_type": "stream",
     "text": [
      "The first prime that g has a cycle is: q= 977\n",
      "The first prime that g has a tranposition is q= 29\n"
     ]
    }
   ],
   "source": [
    "P=Primes()\n",
    "p=P.next(p)\n",
    "n=10**4\n",
    "print(\"The prime we are considering is p=\", p)\n",
    "search(p,n)"
   ]
  },
  {
   "cell_type": "code",
   "execution_count": 67,
   "metadata": {
    "collapsed": false
   },
   "outputs": [
    {
     "name": "stdout",
     "output_type": "stream",
     "text": [
      "The prime we are considering is p= 239\n"
     ]
    },
    {
     "name": "stdout",
     "output_type": "stream",
     "text": [
      "The first prime that g is irreducible is: q= 199\n",
      "The first prime that g has a cycle is: q= 17\n"
     ]
    },
    {
     "name": "stdout",
     "output_type": "stream",
     "text": [
      "The first prime that g has a tranposition is q= 59\n"
     ]
    }
   ],
   "source": [
    "P=Primes()\n",
    "p=P.next(p)\n",
    "n=10**4\n",
    "print(\"The prime we are considering is p=\", p)\n",
    "search(p,n)"
   ]
  },
  {
   "cell_type": "code",
   "execution_count": 68,
   "metadata": {
    "collapsed": false
   },
   "outputs": [
    {
     "name": "stdout",
     "output_type": "stream",
     "text": [
      "The prime we are considering is p= 241\n"
     ]
    },
    {
     "name": "stdout",
     "output_type": "stream",
     "text": [
      "The first prime that g is irreducible is: q= 2857\n"
     ]
    },
    {
     "name": "stdout",
     "output_type": "stream",
     "text": [
      "The first prime that g has a cycle is: q= 1231\n"
     ]
    },
    {
     "name": "stdout",
     "output_type": "stream",
     "text": [
      "The first prime that g has a tranposition is q= 83\n"
     ]
    }
   ],
   "source": [
    "P=Primes()\n",
    "p=P.next(p)\n",
    "n=10**4\n",
    "print(\"The prime we are considering is p=\", p)\n",
    "search(p,n)"
   ]
  },
  {
   "cell_type": "code",
   "execution_count": 69,
   "metadata": {
    "collapsed": false
   },
   "outputs": [
    {
     "name": "stdout",
     "output_type": "stream",
     "text": [
      "The prime we are considering is p= 251\n"
     ]
    },
    {
     "name": "stdout",
     "output_type": "stream",
     "text": [
      "The first prime that g is irreducible is: q= 41\n"
     ]
    },
    {
     "name": "stdout",
     "output_type": "stream",
     "text": [
      "The first prime that g has a cycle is: q= 73\n"
     ]
    },
    {
     "name": "stdout",
     "output_type": "stream",
     "text": [
      "The first prime that g has a tranposition is q= 277\n"
     ]
    }
   ],
   "source": [
    "P=Primes()\n",
    "p=P.next(p)\n",
    "n=10**4\n",
    "print(\"The prime we are considering is p=\", p)\n",
    "search(p,n)"
   ]
  },
  {
   "cell_type": "code",
   "execution_count": 70,
   "metadata": {
    "collapsed": false
   },
   "outputs": [
    {
     "name": "stdout",
     "output_type": "stream",
     "text": [
      "The prime we are considering is p= 257\n"
     ]
    },
    {
     "name": "stdout",
     "output_type": "stream",
     "text": [
      "The first prime that g is irreducible is: q= 1129\n"
     ]
    },
    {
     "name": "stdout",
     "output_type": "stream",
     "text": [
      "The first prime that g has a cycle is: q= 919\n"
     ]
    },
    {
     "name": "stdout",
     "output_type": "stream",
     "text": [
      "The first prime that g has a tranposition is q= 227\n"
     ]
    }
   ],
   "source": [
    "P=Primes()\n",
    "p=P.next(p)\n",
    "n=10**4\n",
    "print(\"The prime we are considering is p=\", p)\n",
    "search(p,n)"
   ]
  },
  {
   "cell_type": "code",
   "execution_count": 71,
   "metadata": {
    "collapsed": false
   },
   "outputs": [
    {
     "name": "stdout",
     "output_type": "stream",
     "text": [
      "The prime we are considering is p= 263\n"
     ]
    },
    {
     "name": "stdout",
     "output_type": "stream",
     "text": [
      "The first prime that g is irreducible is: q= 1571\n"
     ]
    },
    {
     "name": "stdout",
     "output_type": "stream",
     "text": [
      "The first prime that g has a cycle is: q= 239\n",
      "The first prime that g has a tranposition is q= 17\n"
     ]
    }
   ],
   "source": [
    "P=Primes()\n",
    "p=P.next(p)\n",
    "n=10**4\n",
    "print(\"The prime we are considering is p=\", p)\n",
    "search(p,n)"
   ]
  },
  {
   "cell_type": "code",
   "execution_count": 72,
   "metadata": {
    "collapsed": false
   },
   "outputs": [
    {
     "name": "stdout",
     "output_type": "stream",
     "text": [
      "The prime we are considering is p= 269\n"
     ]
    },
    {
     "name": "stdout",
     "output_type": "stream",
     "text": [
      "The first prime that g is irreducible is: q= 929\n"
     ]
    },
    {
     "name": "stdout",
     "output_type": "stream",
     "text": [
      "The first prime that g has a cycle is: q= 97\n",
      "The first prime that g has a tranposition is q= 43\n"
     ]
    }
   ],
   "source": [
    "P=Primes()\n",
    "p=P.next(p)\n",
    "n=10**4\n",
    "print(\"The prime we are considering is p=\", p)\n",
    "search(p,n)"
   ]
  },
  {
   "cell_type": "code",
   "execution_count": 73,
   "metadata": {
    "collapsed": false
   },
   "outputs": [
    {
     "name": "stdout",
     "output_type": "stream",
     "text": [
      "The prime we are considering is p= "
     ]
    },
    {
     "name": "stdout",
     "output_type": "stream",
     "text": [
      "271\n"
     ]
    },
    {
     "name": "stdout",
     "output_type": "stream",
     "text": [
      "The first prime that g is irreducible is: q= 821\n"
     ]
    },
    {
     "name": "stdout",
     "output_type": "stream",
     "text": [
      "The first prime that g has a cycle is: q= 3343\n"
     ]
    },
    {
     "name": "stdout",
     "output_type": "stream",
     "text": [
      "The first prime that g has a tranposition is q= 239\n"
     ]
    }
   ],
   "source": [
    "P=Primes()\n",
    "p=P.next(p)\n",
    "n=10**4\n",
    "print(\"The prime we are considering is p=\", p)\n",
    "search(p,n)"
   ]
  },
  {
   "cell_type": "code",
   "execution_count": 74,
   "metadata": {
    "collapsed": false
   },
   "outputs": [
    {
     "name": "stdout",
     "output_type": "stream",
     "text": [
      "The prime we are considering is p= 277\n"
     ]
    },
    {
     "name": "stdout",
     "output_type": "stream",
     "text": [
      "The first prime that g is irreducible is: q= 317\n"
     ]
    },
    {
     "name": "stdout",
     "output_type": "stream",
     "text": [
      "The first prime that g has a cycle is: q= 2693\n"
     ]
    },
    {
     "name": "stdout",
     "output_type": "stream",
     "text": [
      "The first prime that g has a tranposition is q= 59\n"
     ]
    }
   ],
   "source": [
    "P=Primes()\n",
    "p=P.next(p)\n",
    "n=10**4\n",
    "print(\"The prime we are considering is p=\", p)\n",
    "search(p,n)"
   ]
  },
  {
   "cell_type": "code",
   "execution_count": 75,
   "metadata": {
    "collapsed": false
   },
   "outputs": [
    {
     "name": "stdout",
     "output_type": "stream",
     "text": [
      "The prime we are considering is p= 281\n"
     ]
    },
    {
     "name": "stdout",
     "output_type": "stream",
     "text": [
      "The first prime that g is irreducible is: q= 283\n"
     ]
    },
    {
     "name": "stdout",
     "output_type": "stream",
     "text": [
      "The first prime that g has a cycle is: q= 131\n"
     ]
    },
    {
     "name": "stdout",
     "output_type": "stream",
     "text": [
      "The first prime that g has a tranposition is q= 71\n"
     ]
    }
   ],
   "source": [
    "P=Primes()\n",
    "p=P.next(p)\n",
    "n=10**4\n",
    "print(\"The prime we are considering is p=\", p)\n",
    "search(p,n)"
   ]
  },
  {
   "cell_type": "code",
   "execution_count": 76,
   "metadata": {
    "collapsed": false
   },
   "outputs": [
    {
     "name": "stdout",
     "output_type": "stream",
     "text": [
      "The prime we are considering is p= 283\n"
     ]
    },
    {
     "name": "stdout",
     "output_type": "stream",
     "text": [
      "The first prime that g is irreducible is: q= 89\n"
     ]
    },
    {
     "name": "stdout",
     "output_type": "stream",
     "text": [
      "The first prime that g has a cycle is: q= 953\n"
     ]
    },
    {
     "name": "stdout",
     "output_type": "stream",
     "text": [
      "The first prime that g has a tranposition is q= 199\n"
     ]
    }
   ],
   "source": [
    "P=Primes()\n",
    "p=P.next(p)\n",
    "n=10**4\n",
    "print(\"The prime we are considering is p=\", p)\n",
    "search(p,n)"
   ]
  },
  {
   "cell_type": "code",
   "execution_count": 77,
   "metadata": {
    "collapsed": false
   },
   "outputs": [
    {
     "name": "stdout",
     "output_type": "stream",
     "text": [
      "The prime we are considering is p= 293\n"
     ]
    },
    {
     "name": "stdout",
     "output_type": "stream",
     "text": [
      "The first prime that g is irreducible is: q= 523\n"
     ]
    },
    {
     "name": "stdout",
     "output_type": "stream",
     "text": [
      "The first prime that g has a cycle is: q= 691\n",
      "The first prime that g has a tranposition is q= 11\n"
     ]
    }
   ],
   "source": [
    "P=Primes()\n",
    "p=P.next(p)\n",
    "n=10**4\n",
    "print(\"The prime we are considering is p=\", p)\n",
    "search(p,n)"
   ]
  },
  {
   "cell_type": "code",
   "execution_count": 78,
   "metadata": {
    "collapsed": false
   },
   "outputs": [
    {
     "name": "stdout",
     "output_type": "stream",
     "text": [
      "The prime we are considering is p= 307\n"
     ]
    },
    {
     "name": "stdout",
     "output_type": "stream",
     "text": [
      "The first prime that g is irreducible is: q= 137\n"
     ]
    },
    {
     "name": "stdout",
     "output_type": "stream",
     "text": [
      "The first prime that g has a cycle is: q= 487\n"
     ]
    },
    {
     "name": "stdout",
     "output_type": "stream",
     "text": [
      "The first prime that g has a tranposition is q= 197\n"
     ]
    }
   ],
   "source": [
    "P=Primes()\n",
    "p=P.next(p)\n",
    "n=10**4\n",
    "print(\"The prime we are considering is p=\", p)\n",
    "search(p,n)"
   ]
  },
  {
   "cell_type": "code",
   "execution_count": 79,
   "metadata": {
    "collapsed": false
   },
   "outputs": [
    {
     "name": "stdout",
     "output_type": "stream",
     "text": [
      "The prime we are considering is p= 311\n"
     ]
    },
    {
     "name": "stdout",
     "output_type": "stream",
     "text": [
      "The first prime that g is irreducible is: q= 1291\n"
     ]
    },
    {
     "name": "stdout",
     "output_type": "stream",
     "text": [
      "The first prime that g has a cycle is: q= 2029\n"
     ]
    },
    {
     "name": "stdout",
     "output_type": "stream",
     "text": [
      "The first prime that g has a tranposition is q= 83\n"
     ]
    }
   ],
   "source": [
    "P=Primes()\n",
    "p=P.next(p)\n",
    "n=10**4\n",
    "print(\"The prime we are considering is p=\", p)\n",
    "search(p,n)"
   ]
  },
  {
   "cell_type": "code",
   "execution_count": 80,
   "metadata": {
    "collapsed": false
   },
   "outputs": [
    {
     "name": "stdout",
     "output_type": "stream",
     "text": [
      "The prime we are considering is p= 313\n"
     ]
    },
    {
     "name": "stdout",
     "output_type": "stream",
     "text": [
      "The first prime that g is irreducible is: q= 197\n"
     ]
    },
    {
     "name": "stdout",
     "output_type": "stream",
     "text": [
      "The first prime that g has a cycle is: q= 661\n"
     ]
    },
    {
     "name": "stdout",
     "output_type": "stream",
     "text": [
      "The first prime that g has a tranposition is q= 31\n"
     ]
    }
   ],
   "source": [
    "P=Primes()\n",
    "p=P.next(p)\n",
    "n=10**4\n",
    "print(\"The prime we are considering is p=\", p)\n",
    "search(p,n)"
   ]
  },
  {
   "cell_type": "code",
   "execution_count": 81,
   "metadata": {
    "collapsed": false
   },
   "outputs": [
    {
     "name": "stdout",
     "output_type": "stream",
     "text": [
      "The prime we are considering is p= 317\n"
     ]
    },
    {
     "name": "stdout",
     "output_type": "stream",
     "text": [
      "The first prime that g is irreducible is: q= 1583\n"
     ]
    },
    {
     "name": "stdout",
     "output_type": "stream",
     "text": [
      "The first prime that g has a cycle is: q= 59\n"
     ]
    },
    {
     "name": "stdout",
     "output_type": "stream",
     "text": [
      "The first prime that g has a tranposition is q= 193\n"
     ]
    }
   ],
   "source": [
    "P=Primes()\n",
    "p=P.next(p)\n",
    "n=10**4\n",
    "print(\"The prime we are considering is p=\", p)\n",
    "search(p,n)"
   ]
  },
  {
   "cell_type": "code",
   "execution_count": 82,
   "metadata": {
    "collapsed": false
   },
   "outputs": [
    {
     "name": "stdout",
     "output_type": "stream",
     "text": [
      "The prime we are considering is p= 331\n"
     ]
    },
    {
     "name": "stdout",
     "output_type": "stream",
     "text": [
      "The first prime that g is irreducible is: q= 53\n"
     ]
    },
    {
     "name": "stdout",
     "output_type": "stream",
     "text": [
      "The first prime that g has a cycle is: q= 1733\n"
     ]
    },
    {
     "name": "stdout",
     "output_type": "stream",
     "text": [
      "The first prime that g has a tranposition is q= 337\n"
     ]
    }
   ],
   "source": [
    "P=Primes()\n",
    "p=P.next(p)\n",
    "n=10**4\n",
    "print(\"The prime we are considering is p=\", p)\n",
    "search(p,n)"
   ]
  },
  {
   "cell_type": "code",
   "execution_count": 83,
   "metadata": {
    "collapsed": false
   },
   "outputs": [
    {
     "name": "stdout",
     "output_type": "stream",
     "text": [
      "The prime we are considering is p= 337\n"
     ]
    },
    {
     "name": "stdout",
     "output_type": "stream",
     "text": [
      "The first prime that g is irreducible is: q= 3257\n"
     ]
    },
    {
     "name": "stdout",
     "output_type": "stream",
     "text": [
      "The first prime that g has a cycle is: q= 599\n"
     ]
    },
    {
     "name": "stdout",
     "output_type": "stream",
     "text": [
      "The first prime that g has a tranposition is q= 79\n"
     ]
    }
   ],
   "source": [
    "P=Primes()\n",
    "p=P.next(p)\n",
    "n=10**4\n",
    "print(\"The prime we are considering is p=\", p)\n",
    "search(p,n)"
   ]
  },
  {
   "cell_type": "code",
   "execution_count": 84,
   "metadata": {
    "collapsed": false
   },
   "outputs": [
    {
     "name": "stdout",
     "output_type": "stream",
     "text": [
      "The prime we are considering is p= 347\n"
     ]
    },
    {
     "name": "stdout",
     "output_type": "stream",
     "text": [
      "The first prime that g is irreducible is: q= 2113\n"
     ]
    },
    {
     "name": "stdout",
     "output_type": "stream",
     "text": [
      "The first prime that g has a cycle is: q= 173\n"
     ]
    },
    {
     "name": "stdout",
     "output_type": "stream",
     "text": [
      "The first prime that g has a tranposition is q= 197\n"
     ]
    }
   ],
   "source": [
    "P=Primes()\n",
    "p=P.next(p)\n",
    "n=10**4\n",
    "print(\"The prime we are considering is p=\", p)\n",
    "search(p,n)"
   ]
  },
  {
   "cell_type": "code",
   "execution_count": 85,
   "metadata": {
    "collapsed": false
   },
   "outputs": [
    {
     "name": "stdout",
     "output_type": "stream",
     "text": [
      "The prime we are considering is p= 349\n"
     ]
    },
    {
     "name": "stdout",
     "output_type": "stream",
     "text": [
      "The first prime that g is irreducible is: q= 53\n"
     ]
    },
    {
     "name": "stdout",
     "output_type": "stream",
     "text": [
      "The first prime that g has a cycle is: q= 421\n",
      "The first prime that g has a tranposition is q= 11\n"
     ]
    }
   ],
   "source": [
    "P=Primes()\n",
    "p=P.next(p)\n",
    "n=10**4\n",
    "print(\"The prime we are considering is p=\", p)\n",
    "search(p,n)"
   ]
  },
  {
   "cell_type": "code",
   "execution_count": 86,
   "metadata": {
    "collapsed": false
   },
   "outputs": [
    {
     "name": "stdout",
     "output_type": "stream",
     "text": [
      "The prime we are considering is p= 353\n"
     ]
    },
    {
     "name": "stdout",
     "output_type": "stream",
     "text": [
      "The first prime that g is irreducible is: q= 1301\n"
     ]
    },
    {
     "name": "stdout",
     "output_type": "stream",
     "text": [
      "The first prime that g has a cycle is: q= 2689\n"
     ]
    },
    {
     "name": "stdout",
     "output_type": "stream",
     "text": [
      "The first prime that g has a tranposition is q= 653\n"
     ]
    }
   ],
   "source": [
    "P=Primes()\n",
    "p=P.next(p)\n",
    "n=10**4\n",
    "print(\"The prime we are considering is p=\", p)\n",
    "search(p,n)"
   ]
  },
  {
   "cell_type": "code",
   "execution_count": 87,
   "metadata": {
    "collapsed": false
   },
   "outputs": [
    {
     "name": "stdout",
     "output_type": "stream",
     "text": [
      "The prime we are considering is p= 359\n"
     ]
    },
    {
     "name": "stdout",
     "output_type": "stream",
     "text": [
      "The first prime that g is irreducible is: q= 1069\n"
     ]
    },
    {
     "name": "stdout",
     "output_type": "stream",
     "text": [
      "The first prime that g has a cycle is: q= 443\n"
     ]
    },
    {
     "name": "stdout",
     "output_type": "stream",
     "text": [
      "The first prime that g has a tranposition is q= 463\n"
     ]
    }
   ],
   "source": [
    "P=Primes()\n",
    "p=P.next(p)\n",
    "n=10**4\n",
    "print(\"The prime we are considering is p=\", p)\n",
    "search(p,n)"
   ]
  },
  {
   "cell_type": "code",
   "execution_count": 88,
   "metadata": {
    "collapsed": false
   },
   "outputs": [
    {
     "name": "stdout",
     "output_type": "stream",
     "text": [
      "The prime we are considering is p= 367\n"
     ]
    },
    {
     "name": "stdout",
     "output_type": "stream",
     "text": [
      "The first prime that g is irreducible is: q= 1459\n"
     ]
    },
    {
     "name": "stdout",
     "output_type": "stream",
     "text": [
      "The first prime that g has a cycle is: q= 677\n"
     ]
    },
    {
     "name": "stdout",
     "output_type": "stream",
     "text": [
      "The first prime that g has a tranposition is q= 269\n"
     ]
    }
   ],
   "source": [
    "P=Primes()\n",
    "p=P.next(p)\n",
    "n=10**4\n",
    "print(\"The prime we are considering is p=\", p)\n",
    "search(p,n)"
   ]
  },
  {
   "cell_type": "code",
   "execution_count": 89,
   "metadata": {
    "collapsed": false
   },
   "outputs": [
    {
     "name": "stdout",
     "output_type": "stream",
     "text": [
      "The prime we are considering is p= 373\n"
     ]
    },
    {
     "name": "stdout",
     "output_type": "stream",
     "text": [
      "The first prime that g is irreducible is: q= 647\n"
     ]
    },
    {
     "name": "stdout",
     "output_type": "stream",
     "text": [
      "The first prime that g has a cycle is: q= 151\n"
     ]
    },
    {
     "name": "stdout",
     "output_type": "stream",
     "text": [
      "The first prime that g has a tranposition is q= 347\n"
     ]
    }
   ],
   "source": [
    "P=Primes()\n",
    "p=P.next(p)\n",
    "n=10**4\n",
    "print(\"The prime we are considering is p=\", p)\n",
    "search(p,n)"
   ]
  },
  {
   "cell_type": "code",
   "execution_count": 90,
   "metadata": {
    "collapsed": false
   },
   "outputs": [
    {
     "name": "stdout",
     "output_type": "stream",
     "text": [
      "The prime we are considering is p= 379\n"
     ]
    },
    {
     "name": "stdout",
     "output_type": "stream",
     "text": [
      "The first prime that g is irreducible is: q= 2003\n"
     ]
    },
    {
     "name": "stdout",
     "output_type": "stream",
     "text": [
      "The first prime that g has a cycle is: q= 9421\n"
     ]
    },
    {
     "name": "stdout",
     "output_type": "stream",
     "text": [
      "The first prime that g has a tranposition is q= 337\n"
     ]
    }
   ],
   "source": [
    "P=Primes()\n",
    "p=P.next(p)\n",
    "n=10**4\n",
    "print(\"The prime we are considering is p=\", p)\n",
    "search(p,n)"
   ]
  },
  {
   "cell_type": "code",
   "execution_count": 91,
   "metadata": {
    "collapsed": false
   },
   "outputs": [
    {
     "name": "stdout",
     "output_type": "stream",
     "text": [
      "The prime we are considering is p= 383\n"
     ]
    },
    {
     "name": "stdout",
     "output_type": "stream",
     "text": [
      "The first prime that g is irreducible is: q= 47\n"
     ]
    },
    {
     "name": "stdout",
     "output_type": "stream",
     "text": [
      "The first prime that g has a cycle is: q= 59\n"
     ]
    },
    {
     "name": "stdout",
     "output_type": "stream",
     "text": [
      "The first prime that g has a tranposition is q= 71\n"
     ]
    }
   ],
   "source": [
    "P=Primes()\n",
    "p=P.next(p)\n",
    "n=10**4\n",
    "print(\"The prime we are considering is p=\", p)\n",
    "search(p,n)"
   ]
  },
  {
   "cell_type": "code",
   "execution_count": 92,
   "metadata": {
    "collapsed": false
   },
   "outputs": [
    {
     "name": "stdout",
     "output_type": "stream",
     "text": [
      "The prime we are considering is p= 389\n"
     ]
    },
    {
     "name": "stdout",
     "output_type": "stream",
     "text": [
      "The first prime that g is irreducible is: q= 167\n"
     ]
    },
    {
     "name": "stdout",
     "output_type": "stream",
     "text": [
      "The first prime that g has a cycle is: q= 1423\n"
     ]
    },
    {
     "name": "stdout",
     "output_type": "stream",
     "text": [
      "The first prime that g has a tranposition is q= 401\n"
     ]
    }
   ],
   "source": [
    "P=Primes()\n",
    "p=P.next(p)\n",
    "n=10**4\n",
    "print(\"The prime we are considering is p=\", p)\n",
    "search(p,n)"
   ]
  },
  {
   "cell_type": "code",
   "execution_count": 93,
   "metadata": {
    "collapsed": false
   },
   "outputs": [
    {
     "name": "stdout",
     "output_type": "stream",
     "text": [
      "The prime we are considering is p= 397\n"
     ]
    },
    {
     "name": "stdout",
     "output_type": "stream",
     "text": [
      "The first prime that g is irreducible is: q= 701\n"
     ]
    },
    {
     "name": "stdout",
     "output_type": "stream",
     "text": [
      "The first prime that g has a cycle is: q= 5741\n"
     ]
    },
    {
     "name": "stdout",
     "output_type": "stream",
     "text": [
      "The first prime that g has a tranposition is q= 23\n"
     ]
    }
   ],
   "source": [
    "P=Primes()\n",
    "p=P.next(p)\n",
    "n=10**4\n",
    "print(\"The prime we are considering is p=\", p)\n",
    "search(p,n)"
   ]
  },
  {
   "cell_type": "code",
   "execution_count": 94,
   "metadata": {
    "collapsed": false
   },
   "outputs": [
    {
     "name": "stdout",
     "output_type": "stream",
     "text": [
      "The prime we are considering is p= 401\n"
     ]
    },
    {
     "name": "stdout",
     "output_type": "stream",
     "text": [
      "The first prime that g is irreducible is: q= 1117\n"
     ]
    },
    {
     "name": "stdout",
     "output_type": "stream",
     "text": [
      "The first prime that g has a cycle is: q= 823\n"
     ]
    },
    {
     "name": "stdout",
     "output_type": "stream",
     "text": [
      "The first prime that g has a tranposition is q= 83\n"
     ]
    }
   ],
   "source": [
    "P=Primes()\n",
    "p=P.next(p)\n",
    "n=10**4\n",
    "print(\"The prime we are considering is p=\", p)\n",
    "search(p,n)"
   ]
  },
  {
   "cell_type": "code",
   "execution_count": 95,
   "metadata": {
    "collapsed": false
   },
   "outputs": [
    {
     "name": "stdout",
     "output_type": "stream",
     "text": [
      "The prime we are considering is p= 409\n"
     ]
    },
    {
     "name": "stdout",
     "output_type": "stream",
     "text": [
      "The first prime that g is irreducible is: q= 59\n"
     ]
    },
    {
     "name": "stdout",
     "output_type": "stream",
     "text": [
      "The first prime that g has a cycle is: q= 157\n"
     ]
    },
    {
     "name": "stdout",
     "output_type": "stream",
     "text": [
      "The first prime that g has a tranposition is q= 107\n"
     ]
    }
   ],
   "source": [
    "P=Primes()\n",
    "p=P.next(p)\n",
    "n=10**4\n",
    "print(\"The prime we are considering is p=\", p)\n",
    "search(p,n)"
   ]
  },
  {
   "cell_type": "code",
   "execution_count": 96,
   "metadata": {
    "collapsed": false
   },
   "outputs": [
    {
     "name": "stdout",
     "output_type": "stream",
     "text": [
      "The prime we are considering is p= 419\n"
     ]
    },
    {
     "name": "stdout",
     "output_type": "stream",
     "text": [
      "The first prime that g is irreducible is: q= 659\n"
     ]
    },
    {
     "name": "stdout",
     "output_type": "stream",
     "text": [
      "The first prime that g has a cycle is: q= 2939\n"
     ]
    },
    {
     "name": "stdout",
     "output_type": "stream",
     "text": [
      "The first prime that g has a tranposition is q= 149\n"
     ]
    }
   ],
   "source": [
    "P=Primes()\n",
    "p=P.next(p)\n",
    "n=10**4\n",
    "print(\"The prime we are considering is p=\", p)\n",
    "search(p,n)"
   ]
  },
  {
   "cell_type": "code",
   "execution_count": 97,
   "metadata": {
    "collapsed": false
   },
   "outputs": [
    {
     "name": "stdout",
     "output_type": "stream",
     "text": [
      "The prime we are considering is p= 421\n"
     ]
    },
    {
     "name": "stdout",
     "output_type": "stream",
     "text": [
      "The first prime that g is irreducible is: q= 1093\n"
     ]
    },
    {
     "name": "stdout",
     "output_type": "stream",
     "text": [
      "The first prime that g has a cycle is: q= 31\n",
      "The first prime that g has a tranposition is q= 11\n"
     ]
    }
   ],
   "source": [
    "P=Primes()\n",
    "p=P.next(p)\n",
    "n=10**4\n",
    "print(\"The prime we are considering is p=\", p)\n",
    "search(p,n)"
   ]
  },
  {
   "cell_type": "code",
   "execution_count": 98,
   "metadata": {
    "collapsed": false
   },
   "outputs": [
    {
     "name": "stdout",
     "output_type": "stream",
     "text": [
      "The prime we are considering is p= 431\n"
     ]
    },
    {
     "name": "stdout",
     "output_type": "stream",
     "text": [
      "The first prime that g is irreducible is: q= 163\n"
     ]
    },
    {
     "name": "stdout",
     "output_type": "stream",
     "text": [
      "The first prime that g has a cycle is: q= 2447\n"
     ]
    },
    {
     "name": "stdout",
     "output_type": "stream",
     "text": [
      "The first prime that g has a tranposition is q= 251\n"
     ]
    }
   ],
   "source": [
    "P=Primes()\n",
    "p=P.next(p)\n",
    "n=10**4\n",
    "print(\"The prime we are considering is p=\", p)\n",
    "search(p,n)"
   ]
  },
  {
   "cell_type": "code",
   "execution_count": 99,
   "metadata": {
    "collapsed": false
   },
   "outputs": [
    {
     "name": "stdout",
     "output_type": "stream",
     "text": [
      "The prime we are considering is p= 433\n"
     ]
    },
    {
     "name": "stdout",
     "output_type": "stream",
     "text": [
      "The first prime that g is irreducible is: q= 811\n"
     ]
    },
    {
     "name": "stdout",
     "output_type": "stream",
     "text": [
      "The first prime that g has a cycle is: q= 809\n"
     ]
    },
    {
     "name": "stdout",
     "output_type": "stream",
     "text": [
      "The first prime that g has a tranposition is q= 149\n"
     ]
    }
   ],
   "source": [
    "P=Primes()\n",
    "p=P.next(p)\n",
    "n=10**4\n",
    "print(\"The prime we are considering is p=\", p)\n",
    "search(p,n)"
   ]
  },
  {
   "cell_type": "code",
   "execution_count": 100,
   "metadata": {
    "collapsed": false
   },
   "outputs": [
    {
     "name": "stdout",
     "output_type": "stream",
     "text": [
      "The prime we are considering is p= 439\n"
     ]
    },
    {
     "name": "stdout",
     "output_type": "stream",
     "text": [
      "The first prime that g is irreducible is: q= 3187\n"
     ]
    },
    {
     "name": "stdout",
     "output_type": "stream",
     "text": [
      "The first prime that g has a cycle is: q= 2143\n"
     ]
    },
    {
     "name": "stdout",
     "output_type": "stream",
     "text": [
      "The first prime that g has a tranposition is q= 593\n"
     ]
    }
   ],
   "source": [
    "P=Primes()\n",
    "p=P.next(p)\n",
    "n=10**4\n",
    "print(\"The prime we are considering is p=\", p)\n",
    "search(p,n)"
   ]
  },
  {
   "cell_type": "code",
   "execution_count": 101,
   "metadata": {
    "collapsed": false
   },
   "outputs": [
    {
     "name": "stdout",
     "output_type": "stream",
     "text": [
      "The prime we are considering is p= 443\n"
     ]
    },
    {
     "name": "stdout",
     "output_type": "stream",
     "text": [
      "The first prime that g is irreducible is: q= 5879\n"
     ]
    },
    {
     "name": "stdout",
     "output_type": "stream",
     "text": [
      "The first prime that g has a cycle is: q= 4973\n"
     ]
    },
    {
     "name": "stdout",
     "output_type": "stream",
     "text": [
      "The first prime that g has a tranposition is q= 149\n"
     ]
    }
   ],
   "source": [
    "P=Primes()\n",
    "p=P.next(p)\n",
    "n=10**4\n",
    "print(\"The prime we are considering is p=\", p)\n",
    "search(p,n)"
   ]
  },
  {
   "cell_type": "code",
   "execution_count": 102,
   "metadata": {
    "collapsed": false
   },
   "outputs": [
    {
     "name": "stdout",
     "output_type": "stream",
     "text": [
      "The prime we are considering is p= 449\n"
     ]
    },
    {
     "name": "stdout",
     "output_type": "stream",
     "text": [
      "The first prime that g is irreducible is: q= 241\n"
     ]
    },
    {
     "name": "stdout",
     "output_type": "stream",
     "text": [
      "The first prime that g has a cycle is: q= 131\n"
     ]
    },
    {
     "name": "stdout",
     "output_type": "stream",
     "text": [
      "The first prime that g has a tranposition is q= 293\n"
     ]
    }
   ],
   "source": [
    "P=Primes()\n",
    "p=P.next(p)\n",
    "n=10**4\n",
    "print(\"The prime we are considering is p=\", p)\n",
    "search(p,n)"
   ]
  },
  {
   "cell_type": "code",
   "execution_count": 103,
   "metadata": {
    "collapsed": false
   },
   "outputs": [
    {
     "name": "stdout",
     "output_type": "stream",
     "text": [
      "The prime we are considering is p= 457\n"
     ]
    },
    {
     "name": "stdout",
     "output_type": "stream",
     "text": [
      "The first prime that g is irreducible is: q= 79\n"
     ]
    },
    {
     "name": "stdout",
     "output_type": "stream",
     "text": [
      "The first prime that g has a cycle is: q= 2393\n"
     ]
    },
    {
     "name": "stdout",
     "output_type": "stream",
     "text": [
      "The first prime that g has a tranposition is q= 233\n"
     ]
    }
   ],
   "source": [
    "P=Primes()\n",
    "p=P.next(p)\n",
    "n=10**4\n",
    "print(\"The prime we are considering is p=\", p)\n",
    "search(p,n)"
   ]
  },
  {
   "cell_type": "code",
   "execution_count": 104,
   "metadata": {
    "collapsed": false
   },
   "outputs": [
    {
     "name": "stdout",
     "output_type": "stream",
     "text": [
      "The prime we are considering is p= 461\n"
     ]
    },
    {
     "name": "stdout",
     "output_type": "stream",
     "text": [
      "The first prime that g is irreducible is: q= 1531\n"
     ]
    },
    {
     "name": "stdout",
     "output_type": "stream",
     "text": [
      "The first prime that g has a cycle is: q= 3691\n"
     ]
    },
    {
     "name": "stdout",
     "output_type": "stream",
     "text": [
      "The first prime that g has a tranposition is q= 173\n"
     ]
    }
   ],
   "source": [
    "P=Primes()\n",
    "p=P.next(p)\n",
    "n=10**4\n",
    "print(\"The prime we are considering is p=\", p)\n",
    "search(p,n)"
   ]
  },
  {
   "cell_type": "code",
   "execution_count": 105,
   "metadata": {
    "collapsed": false
   },
   "outputs": [
    {
     "name": "stdout",
     "output_type": "stream",
     "text": [
      "The prime we are considering is p= 463\n"
     ]
    },
    {
     "name": "stdout",
     "output_type": "stream",
     "text": [
      "The first prime that g is irreducible is: q= 2753\n"
     ]
    },
    {
     "name": "stdout",
     "output_type": "stream",
     "text": [
      "The first prime that g has a cycle is: q= 2999\n"
     ]
    },
    {
     "name": "stdout",
     "output_type": "stream",
     "text": [
      "The first prime that g has a tranposition is q= 97\n"
     ]
    }
   ],
   "source": [
    "P=Primes()\n",
    "p=P.next(p)\n",
    "n=10**4\n",
    "print(\"The prime we are considering is p=\", p)\n",
    "search(p,n)"
   ]
  },
  {
   "cell_type": "code",
   "execution_count": 106,
   "metadata": {
    "collapsed": false
   },
   "outputs": [
    {
     "name": "stdout",
     "output_type": "stream",
     "text": [
      "The prime we are considering is p= 467\n"
     ]
    },
    {
     "name": "stdout",
     "output_type": "stream",
     "text": [
      "The first prime that g is irreducible is: q= 463\n"
     ]
    },
    {
     "name": "stdout",
     "output_type": "stream",
     "text": [
      "The first prime that g has a cycle is: q= 593\n"
     ]
    },
    {
     "name": "stdout",
     "output_type": "stream",
     "text": [
      "The first prime that g has a tranposition is q= 113\n"
     ]
    }
   ],
   "source": [
    "P=Primes()\n",
    "p=P.next(p)\n",
    "n=10**4\n",
    "print(\"The prime we are considering is p=\", p)\n",
    "search(p,n)"
   ]
  },
  {
   "cell_type": "code",
   "execution_count": 107,
   "metadata": {
    "collapsed": false
   },
   "outputs": [
    {
     "name": "stdout",
     "output_type": "stream",
     "text": [
      "The prime we are considering is p= 479\n"
     ]
    },
    {
     "name": "stdout",
     "output_type": "stream",
     "text": [
      "The first prime that g is irreducible is: q= 5527\n"
     ]
    },
    {
     "name": "stdout",
     "output_type": "stream",
     "text": [
      "The first prime that g has a cycle is: q= 1187\n"
     ]
    },
    {
     "name": "stdout",
     "output_type": "stream",
     "text": [
      "The first prime that g has a tranposition is q= 509\n"
     ]
    }
   ],
   "source": [
    "P=Primes()\n",
    "p=P.next(p)\n",
    "n=10**4\n",
    "print(\"The prime we are considering is p=\", p)\n",
    "search(p,n)"
   ]
  },
  {
   "cell_type": "code",
   "execution_count": 108,
   "metadata": {
    "collapsed": false
   },
   "outputs": [
    {
     "name": "stdout",
     "output_type": "stream",
     "text": [
      "The prime we are considering is p= 487\n"
     ]
    },
    {
     "name": "stdout",
     "output_type": "stream",
     "text": [
      "The first prime that g is irreducible is: q= 991\n"
     ]
    },
    {
     "name": "stdout",
     "output_type": "stream",
     "text": [
      "The first prime that g has a cycle is: q= 3323\n"
     ]
    },
    {
     "name": "stdout",
     "output_type": "stream",
     "text": [
      "The first prime that g has a tranposition is q= 179\n"
     ]
    }
   ],
   "source": [
    "P=Primes()\n",
    "p=P.next(p)\n",
    "n=10**4\n",
    "print(\"The prime we are considering is p=\", p)\n",
    "search(p,n)"
   ]
  },
  {
   "cell_type": "code",
   "execution_count": 109,
   "metadata": {
    "collapsed": false
   },
   "outputs": [
    {
     "name": "stdout",
     "output_type": "stream",
     "text": [
      "The prime we are considering is p= 491\n"
     ]
    },
    {
     "name": "stdout",
     "output_type": "stream",
     "text": [
      "The first prime that g is irreducible is: q= 89\n"
     ]
    },
    {
     "name": "stdout",
     "output_type": "stream",
     "text": [
      "The first prime that g has a cycle is: q= 3347\n"
     ]
    },
    {
     "name": "stdout",
     "output_type": "stream",
     "text": [
      "The first prime that g has a tranposition is q= 103\n"
     ]
    }
   ],
   "source": [
    "P=Primes()\n",
    "p=P.next(p)\n",
    "n=10**4\n",
    "print(\"The prime we are considering is p=\", p)\n",
    "search(p,n)"
   ]
  },
  {
   "cell_type": "code",
   "execution_count": 110,
   "metadata": {
    "collapsed": false
   },
   "outputs": [
    {
     "name": "stdout",
     "output_type": "stream",
     "text": [
      "The prime we are considering is p= 499\n"
     ]
    },
    {
     "name": "stdout",
     "output_type": "stream",
     "text": [
      "The first prime that g is irreducible is: q= 947\n"
     ]
    },
    {
     "name": "stdout",
     "output_type": "stream",
     "text": [
      "The first prime that g has a cycle is: q= 887\n"
     ]
    },
    {
     "name": "stdout",
     "output_type": "stream",
     "text": [
      "The first prime that g has a tranposition is q= 59\n"
     ]
    }
   ],
   "source": [
    "P=Primes()\n",
    "p=P.next(p)\n",
    "n=10**4\n",
    "print(\"The prime we are considering is p=\", p)\n",
    "search(p,n)"
   ]
  },
  {
   "cell_type": "code",
   "execution_count": 111,
   "metadata": {
    "collapsed": false
   },
   "outputs": [
    {
     "name": "stdout",
     "output_type": "stream",
     "text": [
      "The prime we are considering is p= 503\n"
     ]
    },
    {
     "name": "stdout",
     "output_type": "stream",
     "text": [
      "The first prime that g is irreducible is: q= 89\n"
     ]
    },
    {
     "name": "stdout",
     "output_type": "stream",
     "text": [
      "The first prime that g has a cycle is: q= 1913\n"
     ]
    },
    {
     "name": "stdout",
     "output_type": "stream",
     "text": [
      "The first prime that g has a tranposition is q= 19\n"
     ]
    }
   ],
   "source": [
    "P=Primes()\n",
    "p=P.next(p)\n",
    "n=10**4\n",
    "print(\"The prime we are considering is p=\", p)\n",
    "search(p,n)"
   ]
  },
  {
   "cell_type": "code",
   "execution_count": 112,
   "metadata": {
    "collapsed": false
   },
   "outputs": [
    {
     "name": "stdout",
     "output_type": "stream",
     "text": [
      "The prime we are considering is p= 509\n"
     ]
    },
    {
     "name": "stdout",
     "output_type": "stream",
     "text": [
      "The first prime that g is irreducible is: q= 2729\n"
     ]
    },
    {
     "name": "stdout",
     "output_type": "stream",
     "text": [
      "The first prime that g has a cycle is: q= 617\n"
     ]
    },
    {
     "name": "stdout",
     "output_type": "stream",
     "text": [
      "The first prime that g has a tranposition is q= 71\n"
     ]
    }
   ],
   "source": [
    "P=Primes()\n",
    "p=P.next(p)\n",
    "n=10**4\n",
    "print(\"The prime we are considering is p=\", p)\n",
    "search(p,n)"
   ]
  },
  {
   "cell_type": "code",
   "execution_count": 113,
   "metadata": {
    "collapsed": false
   },
   "outputs": [
    {
     "name": "stdout",
     "output_type": "stream",
     "text": [
      "The prime we are considering is p= 521\n"
     ]
    },
    {
     "name": "stdout",
     "output_type": "stream",
     "text": [
      "The first prime that g is irreducible is: q= 701\n"
     ]
    },
    {
     "name": "stdout",
     "output_type": "stream",
     "text": [
      "The first prime that g has a cycle is: q= 1069\n"
     ]
    },
    {
     "name": "stdout",
     "output_type": "stream",
     "text": [
      "The first prime that g has a tranposition is q= 277\n"
     ]
    }
   ],
   "source": [
    "P=Primes()\n",
    "p=P.next(p)\n",
    "n=10**4\n",
    "print(\"The prime we are considering is p=\", p)\n",
    "search(p,n)"
   ]
  },
  {
   "cell_type": "code",
   "execution_count": 114,
   "metadata": {
    "collapsed": false
   },
   "outputs": [
    {
     "name": "stdout",
     "output_type": "stream",
     "text": [
      "The prime we are considering is p= 523\n"
     ]
    },
    {
     "name": "stdout",
     "output_type": "stream",
     "text": [
      "The first prime that g is irreducible is: q= 541\n"
     ]
    },
    {
     "name": "stdout",
     "output_type": "stream",
     "text": [
      "The first prime that g has a cycle is: q= 3557\n"
     ]
    },
    {
     "name": "stdout",
     "output_type": "stream",
     "text": [
      "The first prime that g has a tranposition is q= 151\n"
     ]
    }
   ],
   "source": [
    "P=Primes()\n",
    "p=P.next(p)\n",
    "n=10**4\n",
    "print(\"The prime we are considering is p=\", p)\n",
    "search(p,n)"
   ]
  },
  {
   "cell_type": "code",
   "execution_count": 115,
   "metadata": {
    "collapsed": false
   },
   "outputs": [
    {
     "name": "stdout",
     "output_type": "stream",
     "text": [
      "The prime we are considering is p= 541\n"
     ]
    },
    {
     "name": "stdout",
     "output_type": "stream",
     "text": [
      "The first prime that g is irreducible is: q= 787\n"
     ]
    },
    {
     "name": "stdout",
     "output_type": "stream",
     "text": [
      "The first prime that g has a cycle is: q= 1553\n"
     ]
    },
    {
     "name": "stdout",
     "output_type": "stream",
     "text": [
      "The first prime that g has a tranposition is q= 109\n"
     ]
    }
   ],
   "source": [
    "P=Primes()\n",
    "p=P.next(p)\n",
    "n=10**4\n",
    "print(\"The prime we are considering is p=\", p)\n",
    "search(p,n)"
   ]
  },
  {
   "cell_type": "code",
   "execution_count": 116,
   "metadata": {
    "collapsed": false
   },
   "outputs": [
    {
     "name": "stdout",
     "output_type": "stream",
     "text": [
      "The prime we are considering is p= 547\n"
     ]
    },
    {
     "name": "stdout",
     "output_type": "stream",
     "text": [
      "The first prime that g is irreducible is: q= 241\n"
     ]
    },
    {
     "name": "stdout",
     "output_type": "stream",
     "text": [
      "The first prime that g has a cycle is: q= 1049\n"
     ]
    },
    {
     "name": "stdout",
     "output_type": "stream",
     "text": [
      "The first prime that g has a tranposition is q= 73\n"
     ]
    }
   ],
   "source": [
    "P=Primes()\n",
    "p=P.next(p)\n",
    "n=10**4\n",
    "print(\"The prime we are considering is p=\", p)\n",
    "search(p,n)"
   ]
  },
  {
   "cell_type": "code",
   "execution_count": 117,
   "metadata": {
    "collapsed": false
   },
   "outputs": [
    {
     "name": "stdout",
     "output_type": "stream",
     "text": [
      "The prime we are considering is p= 557\n"
     ]
    },
    {
     "name": "stdout",
     "output_type": "stream",
     "text": [
      "The first prime that g is irreducible is: q= 2027\n"
     ]
    },
    {
     "name": "stdout",
     "output_type": "stream",
     "text": [
      "The first prime that g has a cycle is: q= 271\n"
     ]
    },
    {
     "name": "stdout",
     "output_type": "stream",
     "text": [
      "The first prime that g has a tranposition is q= 131\n"
     ]
    }
   ],
   "source": [
    "P=Primes()\n",
    "p=P.next(p)\n",
    "n=10**4\n",
    "print(\"The prime we are considering is p=\", p)\n",
    "search(p,n)"
   ]
  },
  {
   "cell_type": "code",
   "execution_count": 118,
   "metadata": {
    "collapsed": false
   },
   "outputs": [
    {
     "name": "stdout",
     "output_type": "stream",
     "text": [
      "The prime we are considering is p= 563\n"
     ]
    },
    {
     "name": "stdout",
     "output_type": "stream",
     "text": [
      "The first prime that g is irreducible is: q= 593\n"
     ]
    },
    {
     "name": "stdout",
     "output_type": "stream",
     "text": [
      "The first prime that g has a cycle is: q= 929\n"
     ]
    },
    {
     "name": "stdout",
     "output_type": "stream",
     "text": [
      "The first prime that g has a tranposition is q= 107\n"
     ]
    }
   ],
   "source": [
    "P=Primes()\n",
    "p=P.next(p)\n",
    "n=10**4\n",
    "print(\"The prime we are considering is p=\", p)\n",
    "search(p,n)"
   ]
  },
  {
   "cell_type": "code",
   "execution_count": 119,
   "metadata": {
    "collapsed": false
   },
   "outputs": [
    {
     "name": "stdout",
     "output_type": "stream",
     "text": [
      "The prime we are considering is p= 569\n"
     ]
    },
    {
     "name": "stdout",
     "output_type": "stream",
     "text": [
      "The first prime that g is irreducible is: q= 4153\n"
     ]
    },
    {
     "name": "stdout",
     "output_type": "stream",
     "text": [
      "The first prime that g has a cycle is: q= 197\n"
     ]
    },
    {
     "name": "stdout",
     "output_type": "stream",
     "text": [
      "The first prime that g has a tranposition is q= 487\n"
     ]
    }
   ],
   "source": [
    "P=Primes()\n",
    "p=P.next(p)\n",
    "n=10**4\n",
    "print(\"The prime we are considering is p=\", p)\n",
    "search(p,n)"
   ]
  },
  {
   "cell_type": "code",
   "execution_count": 120,
   "metadata": {
    "collapsed": false
   },
   "outputs": [
    {
     "name": "stdout",
     "output_type": "stream",
     "text": [
      "The prime we are considering is p= 571\n"
     ]
    },
    {
     "name": "stdout",
     "output_type": "stream",
     "text": [
      "The first prime that g is irreducible is: q= 79\n"
     ]
    },
    {
     "name": "stdout",
     "output_type": "stream",
     "text": [
      "The first prime that g has a cycle is: q= 683\n"
     ]
    },
    {
     "name": "stdout",
     "output_type": "stream",
     "text": [
      "The first prime that g has a tranposition is q= 71\n"
     ]
    }
   ],
   "source": [
    "P=Primes()\n",
    "p=P.next(p)\n",
    "n=10**4\n",
    "print(\"The prime we are considering is p=\", p)\n",
    "search(p,n)"
   ]
  },
  {
   "cell_type": "code",
   "execution_count": 121,
   "metadata": {
    "collapsed": false
   },
   "outputs": [
    {
     "name": "stdout",
     "output_type": "stream",
     "text": [
      "The prime we are considering is p= 577\n"
     ]
    },
    {
     "name": "stdout",
     "output_type": "stream",
     "text": [
      "The first prime that g is irreducible is: q= 223\n"
     ]
    },
    {
     "name": "stdout",
     "output_type": "stream",
     "text": [
      "The first prime that g has a cycle is: q= 1759\n"
     ]
    },
    {
     "name": "stdout",
     "output_type": "stream",
     "text": [
      "The first prime that g has a tranposition is q= 229\n"
     ]
    }
   ],
   "source": [
    "P=Primes()\n",
    "p=P.next(p)\n",
    "n=10**4\n",
    "print(\"The prime we are considering is p=\", p)\n",
    "search(p,n)"
   ]
  },
  {
   "cell_type": "code",
   "execution_count": 122,
   "metadata": {
    "collapsed": false
   },
   "outputs": [
    {
     "name": "stdout",
     "output_type": "stream",
     "text": [
      "The prime we are considering is p= 587\n"
     ]
    },
    {
     "name": "stdout",
     "output_type": "stream",
     "text": [
      "The first prime that g is irreducible is: q= 7457\n"
     ]
    },
    {
     "name": "stdout",
     "output_type": "stream",
     "text": [
      "The first prime that g has a cycle is: q= 2099\n"
     ]
    },
    {
     "name": "stdout",
     "output_type": "stream",
     "text": [
      "The first prime that g has a tranposition is q= 13\n"
     ]
    }
   ],
   "source": [
    "P=Primes()\n",
    "p=P.next(p)\n",
    "n=10**4\n",
    "print(\"The prime we are considering is p=\", p)\n",
    "search(p,n)"
   ]
  },
  {
   "cell_type": "code",
   "execution_count": 123,
   "metadata": {
    "collapsed": false
   },
   "outputs": [
    {
     "name": "stdout",
     "output_type": "stream",
     "text": [
      "The prime we are considering is p= 593\n"
     ]
    },
    {
     "name": "stdout",
     "output_type": "stream",
     "text": [
      "The first prime that g is irreducible is: q= 43\n"
     ]
    },
    {
     "name": "stdout",
     "output_type": "stream",
     "text": [
      "The first prime that g has a cycle is: q= 1367\n"
     ]
    },
    {
     "name": "stdout",
     "output_type": "stream",
     "text": [
      "The first prime that g has a tranposition is q= 439\n"
     ]
    }
   ],
   "source": [
    "P=Primes()\n",
    "p=P.next(p)\n",
    "n=10**4\n",
    "print(\"The prime we are considering is p=\", p)\n",
    "search(p,n)"
   ]
  },
  {
   "cell_type": "code",
   "execution_count": 124,
   "metadata": {
    "collapsed": false
   },
   "outputs": [
    {
     "name": "stdout",
     "output_type": "stream",
     "text": [
      "The prime we are considering is p= 599\n"
     ]
    },
    {
     "name": "stdout",
     "output_type": "stream",
     "text": [
      "The first prime that g is irreducible is: q= 13\n"
     ]
    },
    {
     "name": "stdout",
     "output_type": "stream",
     "text": [
      "The first prime that g has a cycle is: q= 3709\n"
     ]
    },
    {
     "name": "stdout",
     "output_type": "stream",
     "text": [
      "The first prime that g has a tranposition is q= 811\n"
     ]
    }
   ],
   "source": [
    "P=Primes()\n",
    "p=P.next(p)\n",
    "n=10**4\n",
    "print(\"The prime we are considering is p=\", p)\n",
    "search(p,n)"
   ]
  },
  {
   "cell_type": "code",
   "execution_count": 125,
   "metadata": {
    "collapsed": false
   },
   "outputs": [
    {
     "name": "stdout",
     "output_type": "stream",
     "text": [
      "The prime we are considering is p= 601\n"
     ]
    },
    {
     "name": "stdout",
     "output_type": "stream",
     "text": [
      "The first prime that g is irreducible is: q= 1697\n"
     ]
    },
    {
     "name": "stdout",
     "output_type": "stream",
     "text": [
      "The first prime that g has a cycle is: q= 2459\n"
     ]
    },
    {
     "name": "stdout",
     "output_type": "stream",
     "text": [
      "The first prime that g has a tranposition is q= 103\n"
     ]
    }
   ],
   "source": [
    "P=Primes()\n",
    "p=P.next(p)\n",
    "n=10**4\n",
    "print(\"The prime we are considering is p=\", p)\n",
    "search(p,n)"
   ]
  },
  {
   "cell_type": "code",
   "execution_count": 126,
   "metadata": {
    "collapsed": false
   },
   "outputs": [
    {
     "name": "stdout",
     "output_type": "stream",
     "text": [
      "The prime we are considering is p= 607\n"
     ]
    },
    {
     "name": "stdout",
     "output_type": "stream",
     "text": [
      "The first prime that g is irreducible is: q= 599\n"
     ]
    },
    {
     "name": "stdout",
     "output_type": "stream",
     "text": [
      "The first prime that g has a cycle is: q= 7207\n"
     ]
    },
    {
     "name": "stdout",
     "output_type": "stream",
     "text": [
      "The first prime that g has a tranposition is q= 211\n"
     ]
    }
   ],
   "source": [
    "P=Primes()\n",
    "p=P.next(p)\n",
    "n=10**4\n",
    "print(\"The prime we are considering is p=\", p)\n",
    "search(p,n)"
   ]
  },
  {
   "cell_type": "code",
   "execution_count": 127,
   "metadata": {
    "collapsed": false
   },
   "outputs": [
    {
     "name": "stdout",
     "output_type": "stream",
     "text": [
      "The prime we are considering is p= 613\n"
     ]
    },
    {
     "name": "stdout",
     "output_type": "stream",
     "text": [
      "The first prime that g is irreducible is: q= 401\n"
     ]
    },
    {
     "name": "stdout",
     "output_type": "stream",
     "text": [
      "The first prime that g has a cycle is: q= 7559\n"
     ]
    },
    {
     "name": "stdout",
     "output_type": "stream",
     "text": [
      "The first prime that g has a tranposition is q= 331\n"
     ]
    }
   ],
   "source": [
    "P=Primes()\n",
    "p=P.next(p)\n",
    "n=10**4\n",
    "print(\"The prime we are considering is p=\", p)\n",
    "search(p,n)"
   ]
  },
  {
   "cell_type": "code",
   "execution_count": 128,
   "metadata": {
    "collapsed": false
   },
   "outputs": [
    {
     "name": "stdout",
     "output_type": "stream",
     "text": [
      "The prime we are considering is p= 617\n"
     ]
    },
    {
     "name": "stdout",
     "output_type": "stream",
     "text": [
      "The first prime that g is irreducible is: q= 659\n"
     ]
    },
    {
     "name": "stdout",
     "output_type": "stream",
     "text": [
      "The first prime that g has a cycle is: q= 641\n"
     ]
    },
    {
     "name": "stdout",
     "output_type": "stream",
     "text": [
      "The first prime that g has a tranposition is q= 47\n"
     ]
    }
   ],
   "source": [
    "P=Primes()\n",
    "p=P.next(p)\n",
    "n=10**4\n",
    "print(\"The prime we are considering is p=\", p)\n",
    "search(p,n)"
   ]
  },
  {
   "cell_type": "code",
   "execution_count": 129,
   "metadata": {
    "collapsed": false
   },
   "outputs": [
    {
     "name": "stdout",
     "output_type": "stream",
     "text": [
      "The prime we are considering is p= 619\n"
     ]
    },
    {
     "name": "stdout",
     "output_type": "stream",
     "text": [
      "The first prime that g is irreducible is: q= 31\n"
     ]
    },
    {
     "name": "stdout",
     "output_type": "stream",
     "text": [
      "The first prime that g has a cycle is: q= 1553\n"
     ]
    },
    {
     "name": "stdout",
     "output_type": "stream",
     "text": [
      "The first prime that g has a tranposition is q= 197\n"
     ]
    }
   ],
   "source": [
    "P=Primes()\n",
    "p=P.next(p)\n",
    "n=10**4\n",
    "print(\"The prime we are considering is p=\", p)\n",
    "search(p,n)"
   ]
  },
  {
   "cell_type": "code",
   "execution_count": 130,
   "metadata": {
    "collapsed": false
   },
   "outputs": [
    {
     "name": "stdout",
     "output_type": "stream",
     "text": [
      "The prime we are considering is p= 631\n"
     ]
    },
    {
     "name": "stdout",
     "output_type": "stream",
     "text": [
      "The first prime that g is irreducible is: q= 457\n"
     ]
    },
    {
     "name": "stdout",
     "output_type": "stream",
     "text": [
      "The first prime that g has a cycle is: q= 463\n"
     ]
    },
    {
     "name": "stdout",
     "output_type": "stream",
     "text": [
      "The first prime that g has a tranposition is q= 61\n"
     ]
    }
   ],
   "source": [
    "P=Primes()\n",
    "p=P.next(p)\n",
    "n=10**4\n",
    "print(\"The prime we are considering is p=\", p)\n",
    "search(p,n)"
   ]
  },
  {
   "cell_type": "code",
   "execution_count": 131,
   "metadata": {
    "collapsed": false
   },
   "outputs": [
    {
     "name": "stdout",
     "output_type": "stream",
     "text": [
      "The prime we are considering is p= 641\n"
     ]
    },
    {
     "name": "stdout",
     "output_type": "stream",
     "text": [
      "The first prime that g is irreducible is: q= 751\n"
     ]
    },
    {
     "name": "stdout",
     "output_type": "stream",
     "text": [
      "The first prime that g has a cycle is: q= 6577\n"
     ]
    },
    {
     "name": "stdout",
     "output_type": "stream",
     "text": [
      "The first prime that g has a tranposition is q= 53\n"
     ]
    }
   ],
   "source": [
    "P=Primes()\n",
    "p=P.next(p)\n",
    "n=10**4\n",
    "print(\"The prime we are considering is p=\", p)\n",
    "search(p,n)"
   ]
  },
  {
   "cell_type": "code",
   "execution_count": 132,
   "metadata": {
    "collapsed": false
   },
   "outputs": [
    {
     "name": "stdout",
     "output_type": "stream",
     "text": [
      "The prime we are considering is p= 643\n"
     ]
    },
    {
     "name": "stdout",
     "output_type": "stream",
     "text": [
      "The first prime that g is irreducible is: q= 5623\n"
     ]
    },
    {
     "name": "stdout",
     "output_type": "stream",
     "text": [
      "The first prime that g has a cycle is: q= 1499\n"
     ]
    },
    {
     "name": "stdout",
     "output_type": "stream",
     "text": [
      "The first prime that g has a tranposition is q= 307\n"
     ]
    }
   ],
   "source": [
    "P=Primes()\n",
    "p=P.next(p)\n",
    "n=10**4\n",
    "print(\"The prime we are considering is p=\", p)\n",
    "search(p,n)"
   ]
  },
  {
   "cell_type": "code",
   "execution_count": 133,
   "metadata": {
    "collapsed": false
   },
   "outputs": [
    {
     "name": "stdout",
     "output_type": "stream",
     "text": [
      "The prime we are considering is p= 647\n"
     ]
    },
    {
     "name": "stdout",
     "output_type": "stream",
     "text": [
      "The first prime that g is irreducible is: q= 1879\n"
     ]
    },
    {
     "name": "stdout",
     "output_type": "stream",
     "text": [
      "The first prime that g has a cycle is: q= 41\n"
     ]
    },
    {
     "name": "stdout",
     "output_type": "stream",
     "text": [
      "The first prime that g has a tranposition is q= 13\n"
     ]
    }
   ],
   "source": [
    "P=Primes()\n",
    "p=P.next(p)\n",
    "n=10**4\n",
    "print(\"The prime we are considering is p=\", p)\n",
    "search(p,n)"
   ]
  },
  {
   "cell_type": "code",
   "execution_count": 134,
   "metadata": {
    "collapsed": false
   },
   "outputs": [
    {
     "name": "stdout",
     "output_type": "stream",
     "text": [
      "The prime we are considering is p= 653\n"
     ]
    },
    {
     "name": "stdout",
     "output_type": "stream",
     "text": [
      "The first prime that g is irreducible is: q= 9781\n"
     ]
    },
    {
     "name": "stdout",
     "output_type": "stream",
     "text": [
      "The first prime that g has a cycle is: q= 2711\n"
     ]
    },
    {
     "name": "stdout",
     "output_type": "stream",
     "text": [
      "The first prime that g has a tranposition is q= 19\n"
     ]
    }
   ],
   "source": [
    "P=Primes()\n",
    "p=P.next(p)\n",
    "n=10**4\n",
    "print(\"The prime we are considering is p=\", p)\n",
    "search(p,n)"
   ]
  },
  {
   "cell_type": "code",
   "execution_count": 135,
   "metadata": {
    "collapsed": false
   },
   "outputs": [
    {
     "name": "stdout",
     "output_type": "stream",
     "text": [
      "The prime we are considering is p= 659\n"
     ]
    },
    {
     "name": "stdout",
     "output_type": "stream",
     "text": [
      "The first prime that g is irreducible is: q= 1543\n"
     ]
    },
    {
     "name": "stdout",
     "output_type": "stream",
     "text": [
      "The first prime that g has a cycle is: q= 5743\n"
     ]
    },
    {
     "name": "stdout",
     "output_type": "stream",
     "text": [
      "The first prime that g has a tranposition is q= 677\n"
     ]
    }
   ],
   "source": [
    "P=Primes()\n",
    "p=P.next(p)\n",
    "n=10**4\n",
    "print(\"The prime we are considering is p=\", p)\n",
    "search(p,n)"
   ]
  },
  {
   "cell_type": "code",
   "execution_count": 136,
   "metadata": {
    "collapsed": false
   },
   "outputs": [
    {
     "name": "stdout",
     "output_type": "stream",
     "text": [
      "The prime we are considering is p= 661\n"
     ]
    },
    {
     "name": "stdout",
     "output_type": "stream",
     "text": [
      "The first prime that g is irreducible is: q= 149\n"
     ]
    },
    {
     "name": "stdout",
     "output_type": "stream",
     "text": [
      "The first prime that g has a cycle is: q= 3469\n"
     ]
    },
    {
     "name": "stdout",
     "output_type": "stream",
     "text": [
      "The first prime that g has a tranposition is q= 233\n"
     ]
    }
   ],
   "source": [
    "P=Primes()\n",
    "p=P.next(p)\n",
    "n=10**4\n",
    "print(\"The prime we are considering is p=\", p)\n",
    "search(p,n)"
   ]
  },
  {
   "cell_type": "code",
   "execution_count": 137,
   "metadata": {
    "collapsed": false
   },
   "outputs": [
    {
     "name": "stdout",
     "output_type": "stream",
     "text": [
      "The prime we are considering is p= 673\n"
     ]
    },
    {
     "name": "stdout",
     "output_type": "stream",
     "text": [
      "The first prime that g is irreducible is: q= 59\n"
     ]
    },
    {
     "name": "stdout",
     "output_type": "stream",
     "text": [
      "The first prime that g has a cycle is: q= 127\n"
     ]
    },
    {
     "name": "stdout",
     "output_type": "stream",
     "text": [
      "The first prime that g has a tranposition is q= 37\n"
     ]
    }
   ],
   "source": [
    "P=Primes()\n",
    "p=P.next(p)\n",
    "n=10**4\n",
    "print(\"The prime we are considering is p=\", p)\n",
    "search(p,n)"
   ]
  },
  {
   "cell_type": "code",
   "execution_count": 138,
   "metadata": {
    "collapsed": false
   },
   "outputs": [
    {
     "name": "stdout",
     "output_type": "stream",
     "text": [
      "The prime we are considering is p= 677\n"
     ]
    },
    {
     "name": "stdout",
     "output_type": "stream",
     "text": [
      "The first prime that g is irreducible is: q= 3187\n"
     ]
    },
    {
     "name": "stdout",
     "output_type": "stream",
     "text": [
      "The first prime that g has a cycle is: q= 1451\n"
     ]
    },
    {
     "name": "stdout",
     "output_type": "stream",
     "text": [
      "The first prime that g has a tranposition is q= 97\n"
     ]
    }
   ],
   "source": [
    "P=Primes()\n",
    "p=P.next(p)\n",
    "n=10**4\n",
    "print(\"The prime we are considering is p=\", p)\n",
    "search(p,n)"
   ]
  },
  {
   "cell_type": "code",
   "execution_count": 139,
   "metadata": {
    "collapsed": false
   },
   "outputs": [
    {
     "name": "stdout",
     "output_type": "stream",
     "text": [
      "The prime we are considering is p= 683\n"
     ]
    },
    {
     "name": "stdout",
     "output_type": "stream",
     "text": [
      "The first prime that g is irreducible is: q= 4603\n"
     ]
    },
    {
     "name": "stdout",
     "output_type": "stream",
     "text": [
      "The first prime that g has a cycle is: q= 3307\n"
     ]
    },
    {
     "name": "stdout",
     "output_type": "stream",
     "text": [
      "The first prime that g has a tranposition is q= 83\n"
     ]
    }
   ],
   "source": [
    "P=Primes()\n",
    "p=P.next(p)\n",
    "n=10**4\n",
    "print(\"The prime we are considering is p=\", p)\n",
    "search(p,n)"
   ]
  },
  {
   "cell_type": "code",
   "execution_count": 140,
   "metadata": {
    "collapsed": false
   },
   "outputs": [
    {
     "name": "stdout",
     "output_type": "stream",
     "text": [
      "The prime we are considering is p= 691\n"
     ]
    },
    {
     "name": "stdout",
     "output_type": "stream",
     "text": [
      "The first prime that g is irreducible is: q= 239\n"
     ]
    },
    {
     "name": "stdout",
     "output_type": "stream",
     "text": [
      "The first prime that g has a cycle is: q= 947\n"
     ]
    },
    {
     "name": "stdout",
     "output_type": "stream",
     "text": [
      "The first prime that g has a tranposition is q= 83\n"
     ]
    }
   ],
   "source": [
    "P=Primes()\n",
    "p=P.next(p)\n",
    "n=10**4\n",
    "print(\"The prime we are considering is p=\", p)\n",
    "search(p,n)"
   ]
  },
  {
   "cell_type": "code",
   "execution_count": 141,
   "metadata": {
    "collapsed": false
   },
   "outputs": [
    {
     "name": "stdout",
     "output_type": "stream",
     "text": [
      "The prime we are considering is p= 701\n"
     ]
    },
    {
     "name": "stdout",
     "output_type": "stream",
     "text": [
      "The first prime that g is irreducible is: q= 3023\n"
     ]
    },
    {
     "name": "stdout",
     "output_type": "stream",
     "text": [
      "The first prime that g has a cycle is: q= 1231\n"
     ]
    },
    {
     "name": "stdout",
     "output_type": "stream",
     "text": [
      "The first prime that g has a tranposition is q= 29\n"
     ]
    }
   ],
   "source": [
    "P=Primes()\n",
    "p=P.next(p)\n",
    "n=10**4\n",
    "print(\"The prime we are considering is p=\", p)\n",
    "search(p,n)"
   ]
  },
  {
   "cell_type": "code",
   "execution_count": 142,
   "metadata": {
    "collapsed": false
   },
   "outputs": [
    {
     "name": "stdout",
     "output_type": "stream",
     "text": [
      "The prime we are considering is p= 709\n"
     ]
    },
    {
     "name": "stdout",
     "output_type": "stream",
     "text": [
      "The first prime that g is irreducible is: q= 1217\n"
     ]
    },
    {
     "name": "stdout",
     "output_type": "stream",
     "text": [
      "The first prime that g has a cycle is: q= 997\n"
     ]
    },
    {
     "name": "stdout",
     "output_type": "stream",
     "text": [
      "The first prime that g has a tranposition is q= 263\n"
     ]
    }
   ],
   "source": [
    "P=Primes()\n",
    "p=P.next(p)\n",
    "n=10**4\n",
    "print(\"The prime we are considering is p=\", p)\n",
    "search(p,n)"
   ]
  },
  {
   "cell_type": "code",
   "execution_count": 143,
   "metadata": {
    "collapsed": false
   },
   "outputs": [
    {
     "name": "stdout",
     "output_type": "stream",
     "text": [
      "The prime we are considering is p= 719\n"
     ]
    },
    {
     "name": "stdout",
     "output_type": "stream",
     "text": [
      "The first prime that g is irreducible is: q= 73\n"
     ]
    },
    {
     "name": "stdout",
     "output_type": "stream",
     "text": [
      "The first prime that g has a cycle is: q= 7213\n"
     ]
    },
    {
     "name": "stdout",
     "output_type": "stream",
     "text": [
      "The first prime that g has a tranposition is q= 53\n"
     ]
    }
   ],
   "source": [
    "P=Primes()\n",
    "p=P.next(p)\n",
    "n=10**4\n",
    "print(\"The prime we are considering is p=\", p)\n",
    "search(p,n)"
   ]
  },
  {
   "cell_type": "code",
   "execution_count": 144,
   "metadata": {
    "collapsed": false
   },
   "outputs": [
    {
     "name": "stdout",
     "output_type": "stream",
     "text": [
      "The prime we are considering is p= 727\n"
     ]
    },
    {
     "name": "stdout",
     "output_type": "stream",
     "text": [
      "The first prime that g is irreducible is: q= 5443\n"
     ]
    },
    {
     "name": "stdout",
     "output_type": "stream",
     "text": [
      "The first prime that g has a cycle is: q= 4111\n"
     ]
    },
    {
     "name": "stdout",
     "output_type": "stream",
     "text": [
      "The first prime that g has a tranposition is q= 43\n"
     ]
    }
   ],
   "source": [
    "P=Primes()\n",
    "p=P.next(p)\n",
    "n=10**4\n",
    "print(\"The prime we are considering is p=\", p)\n",
    "search(p,n)"
   ]
  },
  {
   "cell_type": "code",
   "execution_count": 145,
   "metadata": {
    "collapsed": false
   },
   "outputs": [
    {
     "name": "stdout",
     "output_type": "stream",
     "text": [
      "The prime we are considering is p= 733\n"
     ]
    },
    {
     "name": "stdout",
     "output_type": "stream",
     "text": [
      "The first prime that g is irreducible is: q= 1367\n"
     ]
    },
    {
     "name": "stdout",
     "output_type": "stream",
     "text": [
      "The first prime that g has a cycle is: q= 3581\n"
     ]
    },
    {
     "name": "stdout",
     "output_type": "stream",
     "text": [
      "The first prime that g has a tranposition is q= 97\n"
     ]
    }
   ],
   "source": [
    "P=Primes()\n",
    "p=P.next(p)\n",
    "n=10**4\n",
    "print(\"The prime we are considering is p=\", p)\n",
    "search(p,n)"
   ]
  },
  {
   "cell_type": "code",
   "execution_count": 146,
   "metadata": {
    "collapsed": false
   },
   "outputs": [
    {
     "name": "stdout",
     "output_type": "stream",
     "text": [
      "The prime we are considering is p= 739\n"
     ]
    },
    {
     "name": "stdout",
     "output_type": "stream",
     "text": [
      "The first prime that g is irreducible is: q= 4451\n"
     ]
    },
    {
     "name": "stdout",
     "output_type": "stream",
     "text": [
      "The first prime that g has a cycle is: q= 97\n"
     ]
    },
    {
     "name": "stdout",
     "output_type": "stream",
     "text": [
      "The first prime that g has a tranposition is q= 349\n"
     ]
    }
   ],
   "source": [
    "P=Primes()\n",
    "p=P.next(p)\n",
    "n=10**4\n",
    "print(\"The prime we are considering is p=\", p)\n",
    "search(p,n)"
   ]
  },
  {
   "cell_type": "code",
   "execution_count": 147,
   "metadata": {
    "collapsed": false
   },
   "outputs": [
    {
     "name": "stdout",
     "output_type": "stream",
     "text": [
      "The prime we are considering is p= 743\n"
     ]
    },
    {
     "name": "stdout",
     "output_type": "stream",
     "text": [
      "The first prime that g is irreducible is: q= 359\n"
     ]
    },
    {
     "name": "stdout",
     "output_type": "stream",
     "text": [
      "The first prime that g has a cycle is: q= 13\n"
     ]
    },
    {
     "name": "stdout",
     "output_type": "stream",
     "text": [
      "The first prime that g has a tranposition is q= 37\n"
     ]
    }
   ],
   "source": [
    "P=Primes()\n",
    "p=P.next(p)\n",
    "n=10**4\n",
    "print(\"The prime we are considering is p=\", p)\n",
    "search(p,n)"
   ]
  },
  {
   "cell_type": "code",
   "execution_count": 148,
   "metadata": {
    "collapsed": false
   },
   "outputs": [
    {
     "name": "stdout",
     "output_type": "stream",
     "text": [
      "The prime we are considering is p= 751\n"
     ]
    },
    {
     "name": "stdout",
     "output_type": "stream",
     "text": [
      "The first prime that g is irreducible is: q= 19\n"
     ]
    },
    {
     "name": "stdout",
     "output_type": "stream",
     "text": [
      "The first prime that g has a cycle is: q= -1\n"
     ]
    },
    {
     "name": "stdout",
     "output_type": "stream",
     "text": [
      "The first prime that g has a tranposition is q= 601\n"
     ]
    }
   ],
   "source": [
    "P=Primes()\n",
    "p=P.next(p)\n",
    "n=10**4\n",
    "print(\"The prime we are considering is p=\", p)\n",
    "search(p,n)"
   ]
  },
  {
   "cell_type": "markdown",
   "metadata": {
    "collapsed": false
   },
   "source": [
    "This is the first time that the algorithm fails to find $q$ in the range $10^4$. Let us increase $n$ to $10^5$."
   ]
  },
  {
   "cell_type": "code",
   "execution_count": 149,
   "metadata": {
    "collapsed": false
   },
   "outputs": [
    {
     "name": "stdout",
     "output_type": "stream",
     "text": [
      "The prime we are considering is p= 751\n"
     ]
    },
    {
     "name": "stdout",
     "output_type": "stream",
     "text": [
      "The first prime that g is irreducible is: q= 19\n"
     ]
    },
    {
     "name": "stdout",
     "output_type": "stream",
     "text": [
      "The first prime that g has a cycle is: q= 13267\n"
     ]
    },
    {
     "name": "stdout",
     "output_type": "stream",
     "text": [
      "The first prime that g has a tranposition is q= 601\n"
     ]
    }
   ],
   "source": [
    "P=Primes()\n",
    "p=751\n",
    "n=10**5\n",
    "print(\"The prime we are considering is p=\", p)\n",
    "search(p,n)"
   ]
  },
  {
   "cell_type": "code",
   "execution_count": 150,
   "metadata": {
    "collapsed": false
   },
   "outputs": [
    {
     "name": "stdout",
     "output_type": "stream",
     "text": [
      "The prime we are considering is p= 751\n"
     ]
    },
    {
     "name": "stdout",
     "output_type": "stream",
     "text": [
      "The first prime that g is irreducible is: q= 19\n"
     ]
    },
    {
     "name": "stdout",
     "output_type": "stream",
     "text": [
      "The first prime that g has a cycle is: q= 13267\n"
     ]
    },
    {
     "name": "stdout",
     "output_type": "stream",
     "text": [
      "The first prime that g has a tranposition is q= 601\n"
     ]
    }
   ],
   "source": [
    "P=Primes()\n",
    "p=751\n",
    "n=10**5\n",
    "print(\"The prime we are considering is p=\", p)\n",
    "search(p,n)"
   ]
  },
  {
   "cell_type": "code",
   "execution_count": 151,
   "metadata": {
    "collapsed": false
   },
   "outputs": [
    {
     "name": "stdout",
     "output_type": "stream",
     "text": [
      "The prime we are considering is p= 757\n"
     ]
    },
    {
     "name": "stdout",
     "output_type": "stream",
     "text": [
      "The first prime that g is irreducible is: q= 6421\n"
     ]
    },
    {
     "name": "stdout",
     "output_type": "stream",
     "text": [
      "The first prime that g has a cycle is: q= 491\n"
     ]
    },
    {
     "name": "stdout",
     "output_type": "stream",
     "text": [
      "The first prime that g has a tranposition is q= 97\n"
     ]
    }
   ],
   "source": [
    "P=Primes()\n",
    "p=P.next(p)\n",
    "n=10**5\n",
    "print(\"The prime we are considering is p=\", p)\n",
    "search(p,n)"
   ]
  },
  {
   "cell_type": "code",
   "execution_count": 152,
   "metadata": {
    "collapsed": false
   },
   "outputs": [
    {
     "name": "stdout",
     "output_type": "stream",
     "text": [
      "The prime we are considering is p= 761\n"
     ]
    },
    {
     "name": "stdout",
     "output_type": "stream",
     "text": [
      "The first prime that g is irreducible is: q= 523\n"
     ]
    },
    {
     "name": "stdout",
     "output_type": "stream",
     "text": [
      "The first prime that g has a cycle is: q= 5281\n"
     ]
    },
    {
     "name": "stdout",
     "output_type": "stream",
     "text": [
      "The first prime that g has a tranposition is q= 5\n"
     ]
    }
   ],
   "source": [
    "P=Primes()\n",
    "p=P.next(p)\n",
    "n=10**5\n",
    "print(\"The prime we are considering is p=\", p)\n",
    "search(p,n)"
   ]
  },
  {
   "cell_type": "code",
   "execution_count": 153,
   "metadata": {
    "collapsed": false
   },
   "outputs": [
    {
     "name": "stdout",
     "output_type": "stream",
     "text": [
      "The prime we are considering is p= 769\n"
     ]
    },
    {
     "name": "stdout",
     "output_type": "stream",
     "text": [
      "The first prime that g is irreducible is: q= 2099\n"
     ]
    },
    {
     "name": "stdout",
     "output_type": "stream",
     "text": [
      "The first prime that g has a cycle is: q= 2671\n"
     ]
    },
    {
     "name": "stdout",
     "output_type": "stream",
     "text": [
      "The first prime that g has a tranposition is q= 109\n"
     ]
    }
   ],
   "source": [
    "P=Primes()\n",
    "p=P.next(p)\n",
    "n=10**5\n",
    "print(\"The prime we are considering is p=\", p)\n",
    "search(p,n)"
   ]
  },
  {
   "cell_type": "code",
   "execution_count": 154,
   "metadata": {
    "collapsed": false
   },
   "outputs": [
    {
     "name": "stdout",
     "output_type": "stream",
     "text": [
      "The prime we are considering is p= 773\n"
     ]
    },
    {
     "name": "stdout",
     "output_type": "stream",
     "text": [
      "The first prime that g is irreducible is: q= 10369\n"
     ]
    },
    {
     "name": "stdout",
     "output_type": "stream",
     "text": [
      "The first prime that g has a cycle is: q= 3511\n"
     ]
    },
    {
     "name": "stdout",
     "output_type": "stream",
     "text": [
      "The first prime that g has a tranposition is q= 1061\n"
     ]
    }
   ],
   "source": [
    "P=Primes()\n",
    "p=P.next(p)\n",
    "n=10**5\n",
    "print(\"The prime we are considering is p=\", p)\n",
    "search(p,n)"
   ]
  },
  {
   "cell_type": "code",
   "execution_count": 155,
   "metadata": {
    "collapsed": false
   },
   "outputs": [
    {
     "name": "stdout",
     "output_type": "stream",
     "text": [
      "The prime we are considering is p= 787\n"
     ]
    },
    {
     "name": "stdout",
     "output_type": "stream",
     "text": [
      "The first prime that g is irreducible is: q= 2861\n"
     ]
    },
    {
     "name": "stdout",
     "output_type": "stream",
     "text": [
      "The first prime that g has a cycle is: q= 251\n"
     ]
    },
    {
     "name": "stdout",
     "output_type": "stream",
     "text": [
      "The first prime that g has a tranposition is q= 443\n"
     ]
    }
   ],
   "source": [
    "P=Primes()\n",
    "p=P.next(p)\n",
    "n=10**5\n",
    "print(\"The prime we are considering is p=\", p)\n",
    "search(p,n)"
   ]
  },
  {
   "cell_type": "code",
   "execution_count": 156,
   "metadata": {
    "collapsed": false
   },
   "outputs": [
    {
     "name": "stdout",
     "output_type": "stream",
     "text": [
      "The prime we are considering is p= 797\n"
     ]
    },
    {
     "name": "stdout",
     "output_type": "stream",
     "text": [
      "The first prime that g is irreducible is: q= 283\n"
     ]
    },
    {
     "name": "stdout",
     "output_type": "stream",
     "text": [
      "The first prime that g has a cycle is: q= 6091\n"
     ]
    },
    {
     "name": "stdout",
     "output_type": "stream",
     "text": [
      "The first prime that g has a tranposition is q= 7\n"
     ]
    }
   ],
   "source": [
    "P=Primes()\n",
    "p=P.next(p)\n",
    "n=10**5\n",
    "print(\"The prime we are considering is p=\", p)\n",
    "search(p,n)"
   ]
  },
  {
   "cell_type": "code",
   "execution_count": 157,
   "metadata": {
    "collapsed": false
   },
   "outputs": [
    {
     "name": "stdout",
     "output_type": "stream",
     "text": [
      "The prime we are considering is p= 809\n"
     ]
    },
    {
     "name": "stdout",
     "output_type": "stream",
     "text": [
      "The first prime that g is irreducible is: q= 1009\n"
     ]
    },
    {
     "name": "stdout",
     "output_type": "stream",
     "text": [
      "The first prime that g has a cycle is: q= 5417\n"
     ]
    },
    {
     "name": "stdout",
     "output_type": "stream",
     "text": [
      "The first prime that g has a tranposition is q= 1693\n"
     ]
    }
   ],
   "source": [
    "P=Primes()\n",
    "p=P.next(p)\n",
    "n=10**5\n",
    "print(\"The prime we are considering is p=\", p)\n",
    "search(p,n)"
   ]
  },
  {
   "cell_type": "code",
   "execution_count": 158,
   "metadata": {
    "collapsed": false
   },
   "outputs": [
    {
     "name": "stdout",
     "output_type": "stream",
     "text": [
      "The prime we are considering is p= 811\n"
     ]
    },
    {
     "name": "stdout",
     "output_type": "stream",
     "text": [
      "The first prime that g is irreducible is: q= 709\n"
     ]
    },
    {
     "name": "stdout",
     "output_type": "stream",
     "text": [
      "The first prime that g has a cycle is: q= 103\n"
     ]
    },
    {
     "name": "stdout",
     "output_type": "stream",
     "text": [
      "The first prime that g has a tranposition is q= 109\n"
     ]
    }
   ],
   "source": [
    "P=Primes()\n",
    "p=P.next(p)\n",
    "n=10**5\n",
    "print(\"The prime we are considering is p=\", p)\n",
    "search(p,n)"
   ]
  },
  {
   "cell_type": "code",
   "execution_count": 159,
   "metadata": {
    "collapsed": false
   },
   "outputs": [
    {
     "name": "stdout",
     "output_type": "stream",
     "text": [
      "The prime we are considering is p= 821\n"
     ]
    },
    {
     "name": "stdout",
     "output_type": "stream",
     "text": [
      "The first prime that g is irreducible is: q= 2677\n"
     ]
    },
    {
     "name": "stdout",
     "output_type": "stream",
     "text": [
      "The first prime that g has a cycle is: q= 4957\n"
     ]
    },
    {
     "name": "stdout",
     "output_type": "stream",
     "text": [
      "The first prime that g has a tranposition is q= 67\n"
     ]
    }
   ],
   "source": [
    "P=Primes()\n",
    "p=P.next(p)\n",
    "n=10**5\n",
    "print(\"The prime we are considering is p=\", p)\n",
    "search(p,n)"
   ]
  },
  {
   "cell_type": "code",
   "execution_count": 160,
   "metadata": {
    "collapsed": false
   },
   "outputs": [
    {
     "name": "stdout",
     "output_type": "stream",
     "text": [
      "The prime we are considering is p= 823\n"
     ]
    },
    {
     "name": "stdout",
     "output_type": "stream",
     "text": [
      "The first prime that g is irreducible is: q= 443\n"
     ]
    },
    {
     "name": "stdout",
     "output_type": "stream",
     "text": [
      "The first prime that g has a cycle is: q= 8167\n"
     ]
    },
    {
     "name": "stdout",
     "output_type": "stream",
     "text": [
      "The first prime that g has a tranposition is q= 13\n"
     ]
    }
   ],
   "source": [
    "P=Primes()\n",
    "p=P.next(p)\n",
    "n=10**5\n",
    "print(\"The prime we are considering is p=\", p)\n",
    "search(p,n)"
   ]
  },
  {
   "cell_type": "code",
   "execution_count": 161,
   "metadata": {
    "collapsed": false
   },
   "outputs": [
    {
     "name": "stdout",
     "output_type": "stream",
     "text": [
      "The prime we are considering is p= 827\n"
     ]
    },
    {
     "name": "stdout",
     "output_type": "stream",
     "text": [
      "The first prime that g is irreducible is: q= 9769\n"
     ]
    },
    {
     "name": "stdout",
     "output_type": "stream",
     "text": [
      "The first prime that g has a cycle is: q= 199\n"
     ]
    },
    {
     "name": "stdout",
     "output_type": "stream",
     "text": [
      "The first prime that g has a tranposition is q= 13\n"
     ]
    }
   ],
   "source": [
    "P=Primes()\n",
    "p=P.next(p)\n",
    "n=10**5\n",
    "print(\"The prime we are considering is p=\", p)\n",
    "search(p,n)"
   ]
  },
  {
   "cell_type": "code",
   "execution_count": 162,
   "metadata": {
    "collapsed": false
   },
   "outputs": [
    {
     "name": "stdout",
     "output_type": "stream",
     "text": [
      "The prime we are considering is p= 829\n"
     ]
    },
    {
     "name": "stdout",
     "output_type": "stream",
     "text": [
      "The first prime that g is irreducible is: q= 2017\n"
     ]
    },
    {
     "name": "stdout",
     "output_type": "stream",
     "text": [
      "The first prime that g has a cycle is: q= 2129\n"
     ]
    },
    {
     "name": "stdout",
     "output_type": "stream",
     "text": [
      "The first prime that g has a tranposition is q= 457\n"
     ]
    }
   ],
   "source": [
    "P=Primes()\n",
    "p=P.next(p)\n",
    "n=10**5\n",
    "print(\"The prime we are considering is p=\", p)\n",
    "search(p,n)"
   ]
  },
  {
   "cell_type": "code",
   "execution_count": 163,
   "metadata": {
    "collapsed": false
   },
   "outputs": [
    {
     "name": "stdout",
     "output_type": "stream",
     "text": [
      "The prime we are considering is p= 839\n"
     ]
    },
    {
     "name": "stdout",
     "output_type": "stream",
     "text": [
      "The first prime that g is irreducible is: q= 41\n"
     ]
    },
    {
     "name": "stdout",
     "output_type": "stream",
     "text": [
      "The first prime that g has a cycle is: q= 1867\n"
     ]
    },
    {
     "name": "stdout",
     "output_type": "stream",
     "text": [
      "The first prime that g has a tranposition is q= 5\n"
     ]
    }
   ],
   "source": [
    "P=Primes()\n",
    "p=P.next(p)\n",
    "n=10**5\n",
    "print(\"The prime we are considering is p=\", p)\n",
    "search(p,n)"
   ]
  },
  {
   "cell_type": "code",
   "execution_count": 164,
   "metadata": {
    "collapsed": false
   },
   "outputs": [
    {
     "name": "stdout",
     "output_type": "stream",
     "text": [
      "The prime we are considering is p= 853\n"
     ]
    },
    {
     "name": "stdout",
     "output_type": "stream",
     "text": [
      "The first prime that g is irreducible is: q= 8017\n"
     ]
    },
    {
     "name": "stdout",
     "output_type": "stream",
     "text": [
      "The first prime that g has a cycle is: q= 4691\n"
     ]
    },
    {
     "name": "stdout",
     "output_type": "stream",
     "text": [
      "The first prime that g has a tranposition is q= 13\n"
     ]
    }
   ],
   "source": [
    "P=Primes()\n",
    "p=P.next(p)\n",
    "n=10**5\n",
    "print(\"The prime we are considering is p=\", p)\n",
    "search(p,n)"
   ]
  },
  {
   "cell_type": "code",
   "execution_count": 165,
   "metadata": {
    "collapsed": false
   },
   "outputs": [
    {
     "name": "stdout",
     "output_type": "stream",
     "text": [
      "The prime we are considering is p= 857\n"
     ]
    },
    {
     "name": "stdout",
     "output_type": "stream",
     "text": [
      "The first prime that g is irreducible is: q= 919\n"
     ]
    },
    {
     "name": "stdout",
     "output_type": "stream",
     "text": [
      "The first prime that g has a cycle is: q= 3461\n"
     ]
    },
    {
     "name": "stdout",
     "output_type": "stream",
     "text": [
      "The first prime that g has a tranposition is q= 199\n"
     ]
    }
   ],
   "source": [
    "P=Primes()\n",
    "p=P.next(p)\n",
    "n=10**5\n",
    "print(\"The prime we are considering is p=\", p)\n",
    "search(p,n)"
   ]
  },
  {
   "cell_type": "code",
   "execution_count": 166,
   "metadata": {
    "collapsed": false
   },
   "outputs": [
    {
     "name": "stdout",
     "output_type": "stream",
     "text": [
      "The prime we are considering is p= 859\n"
     ]
    },
    {
     "name": "stdout",
     "output_type": "stream",
     "text": [
      "The first prime that g is irreducible is: q= 1129\n"
     ]
    },
    {
     "name": "stdout",
     "output_type": "stream",
     "text": [
      "The first prime that g has a cycle is: q= 3359\n"
     ]
    },
    {
     "name": "stdout",
     "output_type": "stream",
     "text": [
      "The first prime that g has a tranposition is q= 251\n"
     ]
    }
   ],
   "source": [
    "P=Primes()\n",
    "p=P.next(p)\n",
    "n=10**5\n",
    "print(\"The prime we are considering is p=\", p)\n",
    "search(p,n)"
   ]
  },
  {
   "cell_type": "code",
   "execution_count": 167,
   "metadata": {
    "collapsed": false
   },
   "outputs": [
    {
     "name": "stdout",
     "output_type": "stream",
     "text": [
      "The prime we are considering is p= 863\n"
     ]
    },
    {
     "name": "stdout",
     "output_type": "stream",
     "text": [
      "The first prime that g is irreducible is: q= 4493\n"
     ]
    },
    {
     "name": "stdout",
     "output_type": "stream",
     "text": [
      "The first prime that g has a cycle is: q= 331\n"
     ]
    },
    {
     "name": "stdout",
     "output_type": "stream",
     "text": [
      "The first prime that g has a tranposition is q= 1151\n"
     ]
    }
   ],
   "source": [
    "P=Primes()\n",
    "p=P.next(p)\n",
    "n=10**5\n",
    "print(\"The prime we are considering is p=\", p)\n",
    "search(p,n)"
   ]
  },
  {
   "cell_type": "code",
   "execution_count": 168,
   "metadata": {
    "collapsed": false
   },
   "outputs": [
    {
     "name": "stdout",
     "output_type": "stream",
     "text": [
      "The prime we are considering is p= 877\n"
     ]
    },
    {
     "name": "stdout",
     "output_type": "stream",
     "text": [
      "The first prime that g is irreducible is: q= 4999\n"
     ]
    },
    {
     "name": "stdout",
     "output_type": "stream",
     "text": [
      "The first prime that g has a cycle is: q= 1297\n"
     ]
    },
    {
     "name": "stdout",
     "output_type": "stream",
     "text": [
      "The first prime that g has a tranposition is q= 31\n"
     ]
    }
   ],
   "source": [
    "P=Primes()\n",
    "p=P.next(p)\n",
    "n=10**5\n",
    "print(\"The prime we are considering is p=\", p)\n",
    "search(p,n)"
   ]
  },
  {
   "cell_type": "code",
   "execution_count": 169,
   "metadata": {
    "collapsed": false
   },
   "outputs": [
    {
     "name": "stdout",
     "output_type": "stream",
     "text": [
      "The prime we are considering is p= 881\n"
     ]
    },
    {
     "name": "stdout",
     "output_type": "stream",
     "text": [
      "The first prime that g is irreducible is: q= 1213\n"
     ]
    },
    {
     "name": "stdout",
     "output_type": "stream",
     "text": [
      "The first prime that g has a cycle is: q= 2693\n"
     ]
    },
    {
     "name": "stdout",
     "output_type": "stream",
     "text": [
      "The first prime that g has a tranposition is q= 331\n"
     ]
    }
   ],
   "source": [
    "P=Primes()\n",
    "p=P.next(p)\n",
    "n=10**5\n",
    "print(\"The prime we are considering is p=\", p)\n",
    "search(p,n)"
   ]
  },
  {
   "cell_type": "code",
   "execution_count": 170,
   "metadata": {
    "collapsed": false
   },
   "outputs": [
    {
     "name": "stdout",
     "output_type": "stream",
     "text": [
      "The prime we are considering is p= 883\n"
     ]
    },
    {
     "name": "stdout",
     "output_type": "stream",
     "text": [
      "The first prime that g is irreducible is: q= 1621\n"
     ]
    },
    {
     "name": "stdout",
     "output_type": "stream",
     "text": [
      "The first prime that g has a cycle is: q= 1889\n"
     ]
    },
    {
     "name": "stdout",
     "output_type": "stream",
     "text": [
      "The first prime that g has a tranposition is q= 97\n"
     ]
    }
   ],
   "source": [
    "P=Primes()\n",
    "p=P.next(p)\n",
    "n=10**5\n",
    "print(\"The prime we are considering is p=\", p)\n",
    "search(p,n)"
   ]
  },
  {
   "cell_type": "code",
   "execution_count": 171,
   "metadata": {
    "collapsed": false
   },
   "outputs": [
    {
     "name": "stdout",
     "output_type": "stream",
     "text": [
      "The prime we are considering is p= 887\n"
     ]
    },
    {
     "name": "stdout",
     "output_type": "stream",
     "text": [
      "The first prime that g is irreducible is: q= 743\n"
     ]
    },
    {
     "name": "stdout",
     "output_type": "stream",
     "text": [
      "The first prime that g has a cycle is: q= 6547\n"
     ]
    },
    {
     "name": "stdout",
     "output_type": "stream",
     "text": [
      "The first prime that g has a tranposition is q= 29\n"
     ]
    }
   ],
   "source": [
    "P=Primes()\n",
    "p=P.next(p)\n",
    "n=10**5\n",
    "print(\"The prime we are considering is p=\", p)\n",
    "search(p,n)"
   ]
  },
  {
   "cell_type": "code",
   "execution_count": 172,
   "metadata": {
    "collapsed": false
   },
   "outputs": [
    {
     "name": "stdout",
     "output_type": "stream",
     "text": [
      "The prime we are considering is p= 907\n"
     ]
    },
    {
     "name": "stdout",
     "output_type": "stream",
     "text": [
      "The first prime that g is irreducible is: q= 997\n"
     ]
    },
    {
     "name": "stdout",
     "output_type": "stream",
     "text": [
      "The first prime that g has a cycle is: q= 14767\n"
     ]
    },
    {
     "name": "stdout",
     "output_type": "stream",
     "text": [
      "The first prime that g has a tranposition is q= 277\n"
     ]
    }
   ],
   "source": [
    "P=Primes()\n",
    "p=P.next(p)\n",
    "n=10**5\n",
    "print(\"The prime we are considering is p=\", p)\n",
    "search(p,n)"
   ]
  },
  {
   "cell_type": "code",
   "execution_count": 173,
   "metadata": {
    "collapsed": false
   },
   "outputs": [
    {
     "name": "stdout",
     "output_type": "stream",
     "text": [
      "The prime we are considering is p= 911\n"
     ]
    },
    {
     "name": "stdout",
     "output_type": "stream",
     "text": [
      "The first prime that g is irreducible is: q= 3931\n"
     ]
    },
    {
     "name": "stdout",
     "output_type": "stream",
     "text": [
      "The first prime that g has a cycle is: q= 4027\n"
     ]
    },
    {
     "name": "stdout",
     "output_type": "stream",
     "text": [
      "The first prime that g has a tranposition is q= 59\n"
     ]
    }
   ],
   "source": [
    "P=Primes()\n",
    "p=P.next(p)\n",
    "n=10**5\n",
    "print(\"The prime we are considering is p=\", p)\n",
    "search(p,n)"
   ]
  },
  {
   "cell_type": "code",
   "execution_count": 174,
   "metadata": {
    "collapsed": false
   },
   "outputs": [
    {
     "name": "stdout",
     "output_type": "stream",
     "text": [
      "The prime we are considering is p= 919\n"
     ]
    },
    {
     "name": "stdout",
     "output_type": "stream",
     "text": [
      "The first prime that g is irreducible is: q= 839\n"
     ]
    },
    {
     "name": "stdout",
     "output_type": "stream",
     "text": [
      "The first prime that g has a cycle is: q= 9547\n"
     ]
    },
    {
     "name": "stdout",
     "output_type": "stream",
     "text": [
      "The first prime that g has a tranposition is q= 733\n"
     ]
    }
   ],
   "source": [
    "P=Primes()\n",
    "p=P.next(p)\n",
    "n=10**5\n",
    "print(\"The prime we are considering is p=\", p)\n",
    "search(p,n)"
   ]
  },
  {
   "cell_type": "code",
   "execution_count": 6,
   "metadata": {
    "collapsed": false
   },
   "outputs": [
    {
     "name": "stdout",
     "output_type": "stream",
     "text": [
      "The prime we are considering is p= 929\n"
     ]
    },
    {
     "name": "stdout",
     "output_type": "stream",
     "text": [
      "The first prime that g is irreducible is: q= 4583\n"
     ]
    },
    {
     "name": "stdout",
     "output_type": "stream",
     "text": [
      "The first prime that g has a cycle is: q= 9103\n"
     ]
    },
    {
     "name": "stdout",
     "output_type": "stream",
     "text": [
      "The first prime that g has a tranposition is q= 29\n"
     ]
    }
   ],
   "source": [
    "p=919\n",
    "P=Primes()\n",
    "p=P.next(p)\n",
    "n=10**5\n",
    "print(\"The prime we are considering is p=\", p)\n",
    "search(p,n)"
   ]
  },
  {
   "cell_type": "code",
   "execution_count": 7,
   "metadata": {
    "collapsed": false
   },
   "outputs": [
    {
     "name": "stdout",
     "output_type": "stream",
     "text": [
      "The prime we are considering is p= 937\n"
     ]
    },
    {
     "name": "stdout",
     "output_type": "stream",
     "text": [
      "The first prime that g is irreducible is: q= 4871\n"
     ]
    },
    {
     "name": "stdout",
     "output_type": "stream",
     "text": [
      "The first prime that g has a cycle is: q= 15467\n"
     ]
    },
    {
     "name": "stdout",
     "output_type": "stream",
     "text": [
      "The first prime that g has a tranposition is q= 3851\n"
     ]
    }
   ],
   "source": [
    "P=Primes()\n",
    "p=P.next(p)\n",
    "n=10**5\n",
    "print(\"The prime we are considering is p=\", p)\n",
    "search(p,n)"
   ]
  },
  {
   "cell_type": "code",
   "execution_count": 8,
   "metadata": {
    "collapsed": false
   },
   "outputs": [
    {
     "name": "stdout",
     "output_type": "stream",
     "text": [
      "The prime we are considering is p= 941\n"
     ]
    },
    {
     "name": "stdout",
     "output_type": "stream",
     "text": [
      "The first prime that g is irreducible is: q= 3313\n"
     ]
    },
    {
     "name": "stdout",
     "output_type": "stream",
     "text": [
      "The first prime that g has a cycle is: q= 359\n"
     ]
    },
    {
     "name": "stdout",
     "output_type": "stream",
     "text": [
      "The first prime that g has a tranposition is q= 1093\n"
     ]
    }
   ],
   "source": [
    "P=Primes()\n",
    "p=P.next(p)\n",
    "n=10**5\n",
    "print(\"The prime we are considering is p=\", p)\n",
    "search(p,n)"
   ]
  },
  {
   "cell_type": "code",
   "execution_count": 9,
   "metadata": {
    "collapsed": false
   },
   "outputs": [
    {
     "name": "stdout",
     "output_type": "stream",
     "text": [
      "The prime we are considering is p= 947\n"
     ]
    },
    {
     "name": "stdout",
     "output_type": "stream",
     "text": [
      "The first prime that g is irreducible is: q= 17669\n"
     ]
    },
    {
     "name": "stdout",
     "output_type": "stream",
     "text": [
      "The first prime that g has a cycle is: q= 5641\n"
     ]
    },
    {
     "name": "stdout",
     "output_type": "stream",
     "text": [
      "The first prime that g has a tranposition is q= 223\n"
     ]
    }
   ],
   "source": [
    "P=Primes()\n",
    "p=P.next(p)\n",
    "n=10**5\n",
    "print(\"The prime we are considering is p=\", p)\n",
    "search(p,n)"
   ]
  },
  {
   "cell_type": "code",
   "execution_count": 10,
   "metadata": {
    "collapsed": false
   },
   "outputs": [
    {
     "name": "stdout",
     "output_type": "stream",
     "text": [
      "The prime we are considering is p= 953\n"
     ]
    },
    {
     "name": "stdout",
     "output_type": "stream",
     "text": [
      "The first prime that g is irreducible is: q= 1973\n"
     ]
    },
    {
     "name": "stdout",
     "output_type": "stream",
     "text": [
      "The first prime that g has a cycle is: q= 4013\n"
     ]
    },
    {
     "name": "stdout",
     "output_type": "stream",
     "text": [
      "The first prime that g has a tranposition is q= 79\n"
     ]
    }
   ],
   "source": [
    "P=Primes()\n",
    "p=P.next(p)\n",
    "n=10**5\n",
    "print(\"The prime we are considering is p=\", p)\n",
    "search(p,n)"
   ]
  },
  {
   "cell_type": "code",
   "execution_count": 11,
   "metadata": {
    "collapsed": false
   },
   "outputs": [
    {
     "name": "stdout",
     "output_type": "stream",
     "text": [
      "The prime we are considering is p= 967\n"
     ]
    },
    {
     "name": "stdout",
     "output_type": "stream",
     "text": [
      "The first prime that g is irreducible is: q= 859\n"
     ]
    },
    {
     "name": "stdout",
     "output_type": "stream",
     "text": [
      "The first prime that g has a cycle is: q= 4759\n"
     ]
    },
    {
     "name": "stdout",
     "output_type": "stream",
     "text": [
      "The first prime that g has a tranposition is q= 821\n"
     ]
    }
   ],
   "source": [
    "P=Primes()\n",
    "p=P.next(p)\n",
    "n=10**5\n",
    "print(\"The prime we are considering is p=\", p)\n",
    "search(p,n)"
   ]
  },
  {
   "cell_type": "code",
   "execution_count": 12,
   "metadata": {
    "collapsed": false
   },
   "outputs": [
    {
     "name": "stdout",
     "output_type": "stream",
     "text": [
      "The prime we are considering is p= 971\n"
     ]
    },
    {
     "name": "stdout",
     "output_type": "stream",
     "text": [
      "The first prime that g is irreducible is: q= 1973\n"
     ]
    },
    {
     "name": "stdout",
     "output_type": "stream",
     "text": [
      "The first prime that g has a cycle is: q= 1291\n"
     ]
    },
    {
     "name": "stdout",
     "output_type": "stream",
     "text": [
      "The first prime that g has a tranposition is q= 557\n"
     ]
    }
   ],
   "source": [
    "P=Primes()\n",
    "p=P.next(p)\n",
    "n=10**5\n",
    "print(\"The prime we are considering is p=\", p)\n",
    "search(p,n)"
   ]
  },
  {
   "cell_type": "code",
   "execution_count": 13,
   "metadata": {
    "collapsed": false
   },
   "outputs": [
    {
     "name": "stdout",
     "output_type": "stream",
     "text": [
      "The prime we are considering is p= 977\n"
     ]
    },
    {
     "name": "stdout",
     "output_type": "stream",
     "text": [
      "The first prime that g is irreducible is: q= 2617\n"
     ]
    },
    {
     "name": "stdout",
     "output_type": "stream",
     "text": [
      "The first prime that g has a cycle is: q= 2153\n"
     ]
    },
    {
     "name": "stdout",
     "output_type": "stream",
     "text": [
      "The first prime that g has a tranposition is q= 17\n"
     ]
    }
   ],
   "source": [
    "P=Primes()\n",
    "p=P.next(p)\n",
    "n=10**5\n",
    "print(\"The prime we are considering is p=\", p)\n",
    "search(p,n)"
   ]
  },
  {
   "cell_type": "code",
   "execution_count": 14,
   "metadata": {
    "collapsed": false
   },
   "outputs": [
    {
     "name": "stdout",
     "output_type": "stream",
     "text": [
      "The prime we are considering is p= 983\n"
     ]
    },
    {
     "name": "stdout",
     "output_type": "stream",
     "text": [
      "The first prime that g is irreducible is: q= 3637\n"
     ]
    },
    {
     "name": "stdout",
     "output_type": "stream",
     "text": [
      "The first prime that g has a cycle is: q= 947\n"
     ]
    },
    {
     "name": "stdout",
     "output_type": "stream",
     "text": [
      "The first prime that g has a tranposition is q= 89\n"
     ]
    }
   ],
   "source": [
    "P=Primes()\n",
    "p=P.next(p)\n",
    "n=10**5\n",
    "print(\"The prime we are considering is p=\", p)\n",
    "search(p,n)"
   ]
  },
  {
   "cell_type": "code",
   "execution_count": 15,
   "metadata": {
    "collapsed": false
   },
   "outputs": [
    {
     "name": "stdout",
     "output_type": "stream",
     "text": [
      "The prime we are considering is p= 991\n"
     ]
    },
    {
     "name": "stdout",
     "output_type": "stream",
     "text": [
      "The first prime that g is irreducible is: q= 239\n"
     ]
    },
    {
     "name": "stdout",
     "output_type": "stream",
     "text": [
      "The first prime that g has a cycle is: q= 3037\n"
     ]
    },
    {
     "name": "stdout",
     "output_type": "stream",
     "text": [
      "The first prime that g has a tranposition is q= 173\n"
     ]
    }
   ],
   "source": [
    "P=Primes()\n",
    "p=P.next(p)\n",
    "n=10**5\n",
    "print(\"The prime we are considering is p=\", p)\n",
    "search(p,n)"
   ]
  },
  {
   "cell_type": "code",
   "execution_count": 16,
   "metadata": {
    "collapsed": false
   },
   "outputs": [
    {
     "name": "stdout",
     "output_type": "stream",
     "text": [
      "The prime we are considering is p= 997\n"
     ]
    },
    {
     "name": "stdout",
     "output_type": "stream",
     "text": [
      "The first prime that g is irreducible is: q= 4583\n"
     ]
    },
    {
     "name": "stdout",
     "output_type": "stream",
     "text": [
      "The first prime that g has a cycle is: q= 1907\n"
     ]
    },
    {
     "name": "stdout",
     "output_type": "stream",
     "text": [
      "The first prime that g has a tranposition is q= 191\n"
     ]
    }
   ],
   "source": [
    "P=Primes()\n",
    "p=P.next(p)\n",
    "n=10**5\n",
    "print(\"The prime we are considering is p=\", p)\n",
    "search(p,n)"
   ]
  },
  {
   "cell_type": "code",
   "execution_count": 17,
   "metadata": {
    "collapsed": false
   },
   "outputs": [
    {
     "name": "stdout",
     "output_type": "stream",
     "text": [
      "The prime we are considering is p= 1009\n"
     ]
    },
    {
     "name": "stdout",
     "output_type": "stream",
     "text": [
      "The first prime that g is irreducible is: q= 5393\n"
     ]
    },
    {
     "name": "stdout",
     "output_type": "stream",
     "text": [
      "The first prime that g has a cycle is: q= 4211\n"
     ]
    },
    {
     "name": "stdout",
     "output_type": "stream",
     "text": [
      "The first prime that g has a tranposition is q= 593\n"
     ]
    }
   ],
   "source": [
    "P=Primes()\n",
    "p=P.next(p)\n",
    "n=10**5\n",
    "print(\"The prime we are considering is p=\", p)\n",
    "search(p,n)"
   ]
  },
  {
   "cell_type": "code",
   "execution_count": 0,
   "metadata": {
    "collapsed": false
   },
   "outputs": [
   ],
   "source": [
   ]
  }
 ],
 "metadata": {
  "kernelspec": {
   "display_name": "SageMath 9.4",
   "language": "sagemath",
   "metadata": {
    "cocalc": {
     "description": "Open-source mathematical software system",
     "priority": 10,
     "url": "https://www.sagemath.org/"
    }
   },
   "name": "sage-9.4",
   "resource_dir": "/ext/jupyter/kernels/sage-9.4"
  },
  "language_info": {
   "codemirror_mode": {
    "name": "ipython",
    "version": 3
   },
   "file_extension": ".py",
   "mimetype": "text/x-python",
   "name": "python",
   "nbconvert_exporter": "python",
   "pygments_lexer": "ipython3",
   "version": "3.9.5"
  }
 },
 "nbformat": 4,
 "nbformat_minor": 4
}