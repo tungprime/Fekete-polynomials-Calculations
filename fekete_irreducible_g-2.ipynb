{
 "cells": [
  {
   "cell_type": "markdown",
   "metadata": {
    "collapsed": false
   },
   "source": [
    "This file verifies the irreducibility of $f_p(x)$ and $g_p(x)$ for $p<10^4$. Here we use the built-in function is_irreducible() in sagemath instead of studying $g_p(x)$ modulo a suitable prime number $q$. This new approach returns the results rather quickly. "
   ]
  },
  {
   "cell_type": "code",
   "execution_count": 1,
   "metadata": {
    "collapsed": false
   },
   "outputs": [
   ],
   "source": [
    "R.<x> = PolynomialRing(ZZ)\n"
   ]
  },
  {
   "cell_type": "code",
   "execution_count": 2,
   "metadata": {
    "collapsed": false
   },
   "outputs": [
   ],
   "source": [
    "def fekete(p):\n",
    "    #compute f_p(x) \n",
    "    v=[kronecker(a+1,p) for a in range(0,p-1)]\n",
    "    F_p=R(v)\n",
    "    if p%4==3:\n",
    "        coef=[1, -1]\n",
    "        factor=R(coef)\n",
    "        f,r =F_p.quo_rem(factor)\n",
    "    if p%4==1:\n",
    "        coef1=[1, -1, -1, 1]\n",
    "        factor1=R(coef1)\n",
    "        f,r=F_p.quo_rem(factor1)\n",
    "    return f\n",
    "    \n",
    "def reduced_fekete(p):\n",
    "    f_p=fekete(p)\n",
    "    u=f_p.trace_polynomial()\n",
    "    g_p=u[0]\n",
    "    return g_p\n",
    "\n",
    "def fekete_reduction(p, q):\n",
    "    g_p=reduced_fekete(p)\n",
    "    g=g_p.change_ring(GF(q))\n",
    "    return g\n",
    "\n",
    "                \n",
    "def irreducible(p):\n",
    "    g=reduced_fekete(p)\n",
    "    return g.is_irreducible()\n",
    "             \n",
    "                \n",
    "       \n",
    "    \n"
   ]
  },
  {
   "cell_type": "markdown",
   "metadata": {
    "collapsed": false
   },
   "source": [
    "## Test the above codes for small p"
   ]
  },
  {
   "cell_type": "code",
   "execution_count": 3,
   "metadata": {
    "collapsed": false
   },
   "outputs": [
    {
     "name": "stdout",
     "output_type": "stream",
     "text": [
      "x^8 + x^6 + 2*x^5 + 3*x^4 + 2*x^3 + x^2 + 1\n",
      "x^4 - 3*x^2 + 2*x + 3\n"
     ]
    }
   ],
   "source": [
    "p=11\n",
    "print(fekete(p))\n",
    "print(reduced_fekete(p))"
   ]
  },
  {
   "cell_type": "code",
   "execution_count": 4,
   "metadata": {
    "collapsed": false
   },
   "outputs": [
    {
     "name": "stdout",
     "output_type": "stream",
     "text": [
      "x^8 + 2*x^6 + 2*x^5 + 3*x^4 + 2*x^3 + 2*x^2 + 1\n",
      "x^4 - 2*x^2 + 2*x + 1\n"
     ]
    }
   ],
   "source": [
    "p=13\n",
    "print(fekete(p))\n",
    "print(reduced_fekete(p))"
   ]
  },
  {
   "cell_type": "markdown",
   "metadata": {
    "collapsed": false
   },
   "source": [
    "## The syntax that we use to verify the irreducibility of $g_p$"
   ]
  },
  {
   "cell_type": "code",
   "execution_count": 3,
   "metadata": {
    "collapsed": false
   },
   "outputs": [
    {
     "data": {
      "text/plain": [
       "True"
      ]
     },
     "execution_count": 3,
     "metadata": {
     },
     "output_type": "execute_result"
    }
   ],
   "source": [
    "g=reduced_fekete(p=13)\n",
    "g.is_irreducible()\n"
   ]
  },
  {
   "cell_type": "markdown",
   "metadata": {
    "collapsed": false
   },
   "source": [
    "## Verification for $7 \\leq p \\leq 200$ "
   ]
  },
  {
   "cell_type": "code",
   "execution_count": 7,
   "metadata": {
    "collapsed": false
   },
   "outputs": [
    {
     "name": "stdout",
     "output_type": "stream",
     "text": [
      "[[7, True], [11, True], [13, True], [17, True], [19, True], [23, True], [29, True], [31, True], [37, True], [41, True], [43, True], [47, True], [53, True], [59, True], [61, True], [67, True], [71, True], [73, True], [79, True], [83, True], [89, True], [97, True], [101, True], [103, True], [107, True], [109, True], [113, True], [127, True], [131, True], [137, True], [139, True], [149, True], [151, True], [157, True], [163, True], [167, True], [173, True], [179, True], [181, True], [191, True], [193, True], [197, True], [199, True]]\n"
     ]
    }
   ],
   "source": [
    "p=7\n",
    "n=10**6\n",
    "P=Primes()\n",
    "res=[]\n",
    "while p<200:\n",
    "    irr=irreducible(p)\n",
    "    res.append([p, irr])\n",
    "    p=P.next(p)\n",
    "print(res) "
   ]
  },
  {
   "cell_type": "markdown",
   "metadata": {
    "collapsed": false
   },
   "source": [
    "## Verification for $200 \\leq p \\leq 300$ "
   ]
  },
  {
   "cell_type": "code",
   "execution_count": 8,
   "metadata": {
    "collapsed": false
   },
   "outputs": [
    {
     "name": "stdout",
     "output_type": "stream",
     "text": [
      "[[199, True], [211, True], [223, True], [227, True], [229, True], [233, True], [239, True], [241, True], [251, True], [257, True], [263, True], [269, True], [271, True], [277, True], [281, True], [283, True], [293, True]]\n"
     ]
    }
   ],
   "source": [
    "p=199\n",
    "P=Primes()\n",
    "res=[]\n",
    "while p<300:\n",
    "    irr=irreducible(p)\n",
    "    res.append([p, q_irr])\n",
    "    p=P.next(p)\n",
    "print(res)"
   ]
  },
  {
   "cell_type": "markdown",
   "metadata": {
    "collapsed": false
   },
   "source": [
    "## Verification for $300 < p \\leq 401$ "
   ]
  },
  {
   "cell_type": "code",
   "execution_count": 10,
   "metadata": {
    "collapsed": false
   },
   "outputs": [
    {
     "name": "stdout",
     "output_type": "stream",
     "text": [
      "[[313, True], [317, True], [331, True], [337, True], [347, True], [349, True], [353, True], [359, True], [367, True], [373, True], [379, True], [383, True], [389, True], [397, True], [401, True]]\n"
     ]
    }
   ],
   "source": [
    "res=[]\n",
    "while p<400:\n",
    "    p=P.next(p)\n",
    "    irr=irreducible(p)\n",
    "    res.append([p, irr])\n",
    "print(res)"
   ]
  },
  {
   "cell_type": "markdown",
   "metadata": {
    "collapsed": false
   },
   "source": [
    "## Verification for $401 < p \\leq 503$ "
   ]
  },
  {
   "cell_type": "code",
   "execution_count": 12,
   "metadata": {
    "collapsed": false
   },
   "outputs": [
    {
     "name": "stdout",
     "output_type": "stream",
     "text": [
      "[[419, True], [421, True], [431, True], [433, True], [439, True], [443, True], [449, True], [457, True], [461, True], [463, True], [467, True], [479, True], [487, True], [491, True], [499, True], [503, True]]\n",
      "CPU times: user 1.39 s, sys: 3.03 ms, total: 1.39 s\n",
      "Wall time: 1.47 s\n"
     ]
    }
   ],
   "source": [
    "%%time\n",
    "res=[]\n",
    "while p<500:\n",
    "    p=P.next(p)\n",
    "    irr=irreducible(p)\n",
    "    res.append([p, irr])\n",
    "print(res)"
   ]
  },
  {
   "cell_type": "markdown",
   "metadata": {
    "collapsed": false
   },
   "source": [
    "## Verification for $503< p \\leq 601$ "
   ]
  },
  {
   "cell_type": "code",
   "execution_count": 13,
   "metadata": {
    "collapsed": false
   },
   "outputs": [
    {
     "name": "stdout",
     "output_type": "stream",
     "text": [
      "[[509, True], [521, True], [523, True], [541, True], [547, True], [557, True], [563, True], [569, True], [571, True], [577, True], [587, True], [593, True], [599, True], [601, True]]\n",
      "CPU times: user 1.28 s, sys: 4.34 ms, total: 1.28 s\n",
      "Wall time: 1.3 s\n"
     ]
    }
   ],
   "source": [
    "%%time\n",
    "res=[]\n",
    "p=503\n",
    "while p<600:\n",
    "    p=P.next(p)\n",
    "    irr=irreducible(p)\n",
    "    res.append([p, irr])\n",
    "print(res)"
   ]
  },
  {
   "cell_type": "markdown",
   "metadata": {
    "collapsed": false
   },
   "source": [
    "## Verification for $601 < p \\leq 1009$ "
   ]
  },
  {
   "cell_type": "code",
   "execution_count": 14,
   "metadata": {
    "collapsed": false
   },
   "outputs": [
    {
     "name": "stdout",
     "output_type": "stream",
     "text": [
      "[[601, True], [607, True], [613, True], [617, True], [619, True], [631, True], [641, True], [643, True], [647, True], [653, True], [659, True], [661, True], [673, True], [677, True], [683, True], [691, True], [701, True], [709, True], [719, True], [727, True], [733, True], [739, True], [743, True], [751, True], [757, True], [761, True], [769, True], [773, True], [787, True], [797, True], [809, True], [811, True], [821, True], [823, True], [827, True], [829, True], [839, True], [853, True], [857, True], [859, True], [863, True], [877, True], [881, True], [883, True], [887, True], [907, True], [911, True], [919, True], [929, True], [937, True], [941, True], [947, True], [953, True], [967, True], [971, True], [977, True], [983, True], [991, True], [997, True], [1009, True]]\n"
     ]
    }
   ],
   "source": [
    "n=10**6\n",
    "P=Primes()\n",
    "p=600\n",
    "res=[]\n",
    "while p<1000:\n",
    "    p=P.next(p)\n",
    "    q_irr=irreducible(p)\n",
    "    res.append([p, q_irr])\n",
    "print(res)"
   ]
  },
  {
   "cell_type": "markdown",
   "metadata": {
    "collapsed": false
   },
   "source": [
    "## Verification for $1009 < p \\leq 2003$ "
   ]
  },
  {
   "cell_type": "code",
   "execution_count": 17,
   "metadata": {
    "collapsed": false
   },
   "outputs": [
    {
     "name": "stdout",
     "output_type": "stream",
     "text": [
      "[[1013, True], [1019, True], [1021, True], [1031, True], [1033, True], [1039, True], [1049, True], [1051, True], [1061, True], [1063, True], [1069, True], [1087, True], [1091, True], [1093, True], [1097, True], [1103, True], [1109, True], [1117, True], [1123, True], [1129, True], [1151, True], [1153, True], [1163, True], [1171, True], [1181, True], [1187, True], [1193, True], [1201, True], [1213, True], [1217, True], [1223, True], [1229, True], [1231, True], [1237, True], [1249, True], [1259, True], [1277, True], [1279, True], [1283, True], [1289, True], [1291, True], [1297, True], [1301, True], [1303, True], [1307, True], [1319, True], [1321, True], [1327, True], [1361, True], [1367, True], [1373, True], [1381, True], [1399, True], [1409, True], [1423, True], [1427, True], [1429, True], [1433, True], [1439, True], [1447, True], [1451, True], [1453, True], [1459, True], [1471, True], [1481, True], [1483, True], [1487, True], [1489, True], [1493, True], [1499, True], [1511, True], [1523, True], [1531, True], [1543, True], [1549, True], [1553, True], [1559, True], [1567, True], [1571, True], [1579, True], [1583, True], [1597, True], [1601, True], [1607, True], [1609, True], [1613, True], [1619, True], [1621, True], [1627, True], [1637, True], [1657, True], [1663, True], [1667, True], [1669, True], [1693, True], [1697, True], [1699, True], [1709, True], [1721, True], [1723, True], [1733, True], [1741, True], [1747, True], [1753, True], [1759, True], [1777, True], [1783, True], [1787, True], [1789, True], [1801, True], [1811, True], [1823, True], [1831, True], [1847, True], [1861, True], [1867, True], [1871, True], [1873, True], [1877, True], [1879, True], [1889, True], [1901, True], [1907, True], [1913, True], [1931, True], [1933, True], [1949, True], [1951, True], [1973, True], [1979, True], [1987, True], [1993, True], [1997, True], [1999, True], [2003, True]]\n",
      "CPU times: user 1min 38s, sys: 146 ms, total: 1min 38s\n",
      "Wall time: 1min 44s\n"
     ]
    }
   ],
   "source": [
    "%%time\n",
    "p=1009\n",
    "P=Primes()\n",
    "res=[]\n",
    "while p<2000:\n",
    "    p=P.next(p)\n",
    "    irr=irreducible(p)\n",
    "    res.append([p, irr])\n",
    "print(res)"
   ]
  },
  {
   "cell_type": "markdown",
   "metadata": {
    "collapsed": false
   },
   "source": [
    "## Verification for $2003 < p \\leq 3001$ "
   ]
  },
  {
   "cell_type": "code",
   "execution_count": 6,
   "metadata": {
    "collapsed": false
   },
   "outputs": [
    {
     "name": "stdout",
     "output_type": "stream",
     "text": [
      "[[2011, True], [2017, True], [2027, True], [2029, True], [2039, True], [2053, True], [2063, True], [2069, True], [2081, True], [2083, True], [2087, True], [2089, True], [2099, True], [2111, True], [2113, True], [2129, True], [2131, True], [2137, True], [2141, True], [2143, True], [2153, True], [2161, True], [2179, True], [2203, True], [2207, True], [2213, True], [2221, True], [2237, True], [2239, True], [2243, True], [2251, True], [2267, True], [2269, True], [2273, True], [2281, True], [2287, True], [2293, True], [2297, True], [2309, True], [2311, True], [2333, True], [2339, True], [2341, True], [2347, True], [2351, True], [2357, True], [2371, True], [2377, True], [2381, True], [2383, True], [2389, True], [2393, True], [2399, True], [2411, True], [2417, True], [2423, True], [2437, True], [2441, True], [2447, True], [2459, True], [2467, True], [2473, True], [2477, True], [2503, True], [2521, True], [2531, True], [2539, True], [2543, True], [2549, True], [2551, True], [2557, True], [2579, True], [2591, True], [2593, True], [2609, True], [2617, True], [2621, True], [2633, True], [2647, True], [2657, True], [2659, True], [2663, True], [2671, True], [2677, True], [2683, True], [2687, True], [2689, True], [2693, True], [2699, True], [2707, True], [2711, True], [2713, True], [2719, True], [2729, True], [2731, True], [2741, True], [2749, True], [2753, True], [2767, True], [2777, True], [2789, True], [2791, True], [2797, True], [2801, True], [2803, True], [2819, True], [2833, True], [2837, True], [2843, True], [2851, True], [2857, True], [2861, True], [2879, True], [2887, True], [2897, True], [2903, True], [2909, True], [2917, True], [2927, True], [2939, True], [2953, True], [2957, True], [2963, True], [2969, True], [2971, True], [2999, True], [3001, True]]\n",
      "CPU times: user 4min 29s, sys: 215 ms, total: 4min 29s\n",
      "Wall time: 4min 41s\n"
     ]
    }
   ],
   "source": [
    "%%time\n",
    "p=2003\n",
    "P=Primes()\n",
    "res=[]\n",
    "while p<3000:\n",
    "    p=P.next(p)\n",
    "    irr=irreducible(p)\n",
    "    res.append([p, irr])\n",
    "print(res)"
   ]
  },
  {
   "cell_type": "markdown",
   "metadata": {
    "collapsed": false
   },
   "source": [
    "## Verification for $3000 < p \\leq 6007$"
   ]
  },
  {
   "cell_type": "code",
   "execution_count": 3,
   "metadata": {
    "collapsed": false
   },
   "outputs": [
    {
     "name": "stdout",
     "output_type": "stream",
     "text": [
      "[[3001, True], [3011, True], [3019, True], [3023, True], [3037, True], [3041, True], [3049, True], [3061, True], [3067, True], [3079, True], [3083, True], [3089, True], [3109, True], [3119, True], [3121, True], [3137, True], [3163, True], [3167, True], [3169, True], [3181, True], [3187, True], [3191, True], [3203, True], [3209, True], [3217, True], [3221, True], [3229, True], [3251, True], [3253, True], [3257, True], [3259, True], [3271, True], [3299, True], [3301, True], [3307, True], [3313, True], [3319, True], [3323, True], [3329, True], [3331, True], [3343, True], [3347, True], [3359, True], [3361, True], [3371, True], [3373, True], [3389, True], [3391, True], [3407, True], [3413, True], [3433, True], [3449, True], [3457, True], [3461, True], [3463, True], [3467, True], [3469, True], [3491, True], [3499, True], [3511, True], [3517, True], [3527, True], [3529, True], [3533, True], [3539, True], [3541, True], [3547, True], [3557, True], [3559, True], [3571, True], [3581, True], [3583, True], [3593, True], [3607, True], [3613, True], [3617, True], [3623, True], [3631, True], [3637, True], [3643, True], [3659, True], [3671, True], [3673, True], [3677, True], [3691, True], [3697, True], [3701, True], [3709, True], [3719, True], [3727, True], [3733, True], [3739, True], [3761, True], [3767, True], [3769, True], [3779, True], [3793, True], [3797, True], [3803, True], [3821, True], [3823, True], [3833, True], [3847, True], [3851, True], [3853, True], [3863, True], [3877, True], [3881, True], [3889, True], [3907, True], [3911, True], [3917, True], [3919, True], [3923, True], [3929, True], [3931, True], [3943, True], [3947, True], [3967, True], [3989, True], [4001, True], [4003, True], [4007, True], [4013, True], [4019, True], [4021, True], [4027, True], [4049, True], [4051, True], [4057, True], [4073, True], [4079, True], [4091, True], [4093, True], [4099, True], [4111, True], [4127, True], [4129, True], [4133, True], [4139, True], [4153, True], [4157, True], [4159, True], [4177, True], [4201, True], [4211, True], [4217, True], [4219, True], [4229, True], [4231, True], [4241, True], [4243, True], [4253, True], [4259, True], [4261, True], [4271, True], [4273, True], [4283, True], [4289, True], [4297, True], [4327, True], [4337, True], [4339, True], [4349, True], [4357, True], [4363, True], [4373, True], [4391, True], [4397, True], [4409, True], [4421, True], [4423, True], [4441, True], [4447, True], [4451, True], [4457, True], [4463, True], [4481, True], [4483, True], [4493, True], [4507, True], [4513, True], [4517, True], [4519, True], [4523, True], [4547, True], [4549, True], [4561, True], [4567, True], [4583, True], [4591, True], [4597, True], [4603, True], [4621, True], [4637, True], [4639, True], [4643, True], [4649, True], [4651, True], [4657, True], [4663, True], [4673, True], [4679, True], [4691, True], [4703, True], [4721, True], [4723, True], [4729, True], [4733, True], [4751, True], [4759, True], [4783, True], [4787, True], [4789, True], [4793, True], [4799, True], [4801, True], [4813, True], [4817, True], [4831, True], [4861, True], [4871, True], [4877, True], [4889, True], [4903, True], [4909, True], [4919, True], [4931, True], [4933, True], [4937, True], [4943, True], [4951, True], [4957, True], [4967, True], [4969, True], [4973, True], [4987, True], [4993, True], [4999, True], [5003, True], [5009, True], [5011, True], [5021, True], [5023, True], [5039, True], [5051, True], [5059, True], [5077, True], [5081, True], [5087, True], [5099, True], [5101, True], [5107, True], [5113, True], [5119, True], [5147, True], [5153, True], [5167, True], [5171, True], [5179, True], [5189, True], [5197, True], [5209, True], [5227, True], [5231, True], [5233, True], [5237, True], [5261, True], [5273, True], [5279, True], [5281, True], [5297, True], [5303, True], [5309, True], [5323, True], [5333, True], [5347, True], [5351, True], [5381, True], [5387, True], [5393, True], [5399, True], [5407, True], [5413, True], [5417, True], [5419, True], [5431, True], [5437, True], [5441, True], [5443, True], [5449, True], [5471, True], [5477, True], [5479, True], [5483, True], [5501, True], [5503, True], [5507, True], [5519, True], [5521, True], [5527, True], [5531, True], [5557, True], [5563, True], [5569, True], [5573, True], [5581, True], [5591, True], [5623, True], [5639, True], [5641, True], [5647, True], [5651, True], [5653, True], [5657, True], [5659, True], [5669, True], [5683, True], [5689, True], [5693, True], [5701, True], [5711, True], [5717, True], [5737, True], [5741, True], [5743, True], [5749, True], [5779, True], [5783, True], [5791, True], [5801, True], [5807, True], [5813, True], [5821, True], [5827, True], [5839, True], [5843, True], [5849, True], [5851, True], [5857, True], [5861, True], [5867, True], [5869, True], [5879, True], [5881, True], [5897, True], [5903, True], [5923, True], [5927, True], [5939, True], [5953, True], [5981, True], [5987, True], [6007, True]]\n",
      "CPU times: user 59min 56s, sys: 5.19 s, total: 1h 1s\n",
      "Wall time: 1h 2min 46s\n"
     ]
    }
   ],
   "source": [
    "%%time\n",
    "p=3000\n",
    "P=Primes()\n",
    "res=[]\n",
    "while p<6000:\n",
    "    p=P.next(p)\n",
    "    irr=irreducible(p)\n",
    "    res.append([p, irr])\n",
    "print(res)"
   ]
  },
  {
   "cell_type": "markdown",
   "metadata": {
    "collapsed": false
   },
   "source": [
    "## Verification for $6007 < p \\leq 7001$ "
   ]
  },
  {
   "cell_type": "code",
   "execution_count": 3,
   "metadata": {
    "collapsed": false
   },
   "outputs": [
    {
     "name": "stdout",
     "output_type": "stream",
     "text": [
      "[[6011, True], [6029, True], [6037, True], [6043, True], [6047, True], [6053, True], [6067, True], [6073, True], [6079, True], [6089, True], [6091, True], [6101, True], [6113, True], [6121, True], [6131, True], [6133, True], [6143, True], [6151, True], [6163, True], [6173, True], [6197, True], [6199, True], [6203, True], [6211, True], [6217, True], [6221, True], [6229, True], [6247, True], [6257, True], [6263, True], [6269, True], [6271, True], [6277, True], [6287, True], [6299, True], [6301, True], [6311, True], [6317, True], [6323, True], [6329, True], [6337, True], [6343, True], [6353, True], [6359, True], [6361, True], [6367, True], [6373, True], [6379, True], [6389, True], [6397, True], [6421, True], [6427, True], [6449, True], [6451, True], [6469, True], [6473, True], [6481, True], [6491, True], [6521, True], [6529, True], [6547, True], [6551, True], [6553, True], [6563, True], [6569, True], [6571, True], [6577, True], [6581, True], [6599, True], [6607, True], [6619, True], [6637, True], [6653, True], [6659, True], [6661, True], [6673, True], [6679, True], [6689, True], [6691, True], [6701, True], [6703, True], [6709, True], [6719, True], [6733, True], [6737, True], [6761, True], [6763, True], [6779, True], [6781, True], [6791, True], [6793, True], [6803, True], [6823, True], [6827, True], [6829, True], [6833, True], [6841, True], [6857, True], [6863, True], [6869, True], [6871, True], [6883, True], [6899, True], [6907, True], [6911, True], [6917, True], [6947, True], [6949, True], [6959, True], [6961, True], [6967, True], [6971, True], [6977, True], [6983, True], [6991, True], [6997, True], [7001, True]]\n",
      "CPU times: user 48min 36s, sys: 6.85 s, total: 48min 43s\n",
      "Wall time: 50min 46s\n"
     ]
    }
   ],
   "source": [
    "%%time\n",
    "p=6007\n",
    "P=Primes()\n",
    "res=[]\n",
    "while p<7000:\n",
    "    p=P.next(p)\n",
    "    irr=irreducible(p)\n",
    "    res.append([p, irr])\n",
    "print(res)"
   ]
  },
  {
   "cell_type": "markdown",
   "metadata": {
    "collapsed": false
   },
   "source": [
    "## Verification for $7001 < p < 8009$ "
   ]
  },
  {
   "cell_type": "code",
   "execution_count": 4,
   "metadata": {
    "collapsed": false
   },
   "outputs": [
    {
     "name": "stdout",
     "output_type": "stream",
     "text": [
      "[[7013, True], [7019, True], [7027, True], [7039, True], [7043, True], [7057, True], [7069, True], [7079, True], [7103, True], [7109, True], [7121, True], [7127, True], [7129, True], [7151, True], [7159, True], [7177, True], [7187, True], [7193, True], [7207, True], [7211, True], [7213, True], [7219, True], [7229, True], [7237, True], [7243, True], [7247, True], [7253, True], [7283, True], [7297, True], [7307, True], [7309, True], [7321, True], [7331, True], [7333, True], [7349, True], [7351, True], [7369, True], [7393, True], [7411, True], [7417, True], [7433, True], [7451, True], [7457, True], [7459, True], [7477, True], [7481, True], [7487, True], [7489, True], [7499, True], [7507, True], [7517, True], [7523, True], [7529, True], [7537, True], [7541, True], [7547, True], [7549, True], [7559, True], [7561, True], [7573, True], [7577, True], [7583, True], [7589, True], [7591, True], [7603, True], [7607, True], [7621, True], [7639, True], [7643, True], [7649, True], [7669, True], [7673, True], [7681, True], [7687, True], [7691, True], [7699, True], [7703, True], [7717, True], [7723, True], [7727, True], [7741, True], [7753, True], [7757, True], [7759, True], [7789, True], [7793, True], [7817, True], [7823, True], [7829, True], [7841, True], [7853, True], [7867, True], [7873, True], [7877, True], [7879, True], [7883, True], [7901, True], [7907, True], [7919, True], [7927, True], [7933, True], [7937, True], [7949, True], [7951, True], [7963, True], [7993, True], [8009, True]]\n",
      "CPU times: user 1h 26min 34s, sys: 8.91 s, total: 1h 26min 43s\n",
      "Wall time: 1h 30min 31s\n"
     ]
    }
   ],
   "source": [
    "%%time\n",
    "p=7001\n",
    "P=Primes()\n",
    "res=[]\n",
    "while p<8000:\n",
    "    p=P.next(p)\n",
    "    irr=irreducible(p)\n",
    "    res.append([p, irr])\n",
    "print(res)"
   ]
  },
  {
   "cell_type": "markdown",
   "metadata": {
    "collapsed": false
   },
   "source": [
    "## Verification for $8009 < p \\leq 9001$ "
   ]
  },
  {
   "cell_type": "code",
   "execution_count": 3,
   "metadata": {
    "collapsed": false
   },
   "outputs": [
    {
     "name": "stdout",
     "output_type": "stream",
     "text": [
      "[[8009, True], [8011, True], [8017, True], [8039, True], [8053, True], [8059, True], [8069, True], [8081, True], [8087, True], [8089, True], [8093, True], [8101, True], [8111, True], [8117, True], [8123, True], [8147, True], [8161, True], [8167, True], [8171, True], [8179, True], [8191, True], [8209, True], [8219, True], [8221, True], [8231, True], [8233, True], [8237, True], [8243, True], [8263, True], [8269, True], [8273, True], [8287, True], [8291, True], [8293, True], [8297, True], [8311, True], [8317, True], [8329, True], [8353, True], [8363, True], [8369, True], [8377, True], [8387, True], [8389, True], [8419, True], [8423, True], [8429, True], [8431, True], [8443, True], [8447, True], [8461, True], [8467, True], [8501, True], [8513, True], [8521, True], [8527, True], [8537, True], [8539, True], [8543, True], [8563, True], [8573, True], [8581, True], [8597, True], [8599, True], [8609, True], [8623, True], [8627, True], [8629, True], [8641, True], [8647, True], [8663, True], [8669, True], [8677, True], [8681, True], [8689, True], [8693, True], [8699, True], [8707, True], [8713, True], [8719, True], [8731, True], [8737, True], [8741, True], [8747, True], [8753, True], [8761, True], [8779, True], [8783, True], [8803, True], [8807, True], [8819, True], [8821, True], [8831, True], [8837, True], [8839, True], [8849, True], [8861, True], [8863, True], [8867, True], [8887, True], [8893, True], [8923, True], [8929, True], [8933, True], [8941, True], [8951, True], [8963, True], [8969, True], [8971, True], [8999, True], [9001, True]]\n",
      "CPU times: user 2h 37min 20s, sys: 14.6 s, total: 2h 37min 35s\n",
      "Wall time: 2h 44min 7s\n"
     ]
    }
   ],
   "source": [
    "%%time\n",
    "p=8001\n",
    "P=Primes()\n",
    "res=[]\n",
    "while p<9000:\n",
    "    p=P.next(p)\n",
    "    irr=irreducible(p)\n",
    "    res.append([p, irr])\n",
    "print(res)"
   ]
  },
  {
   "cell_type": "markdown",
   "metadata": {
    "collapsed": false
   },
   "source": [
    "## Verification for $9001< p \\leq 9311$ "
   ]
  },
  {
   "cell_type": "code",
   "execution_count": 3,
   "metadata": {
    "collapsed": false
   },
   "outputs": [
    {
     "name": "stdout",
     "output_type": "stream",
     "text": [
      "[[9007, True], [9011, True], [9013, True], [9029, True], [9041, True], [9043, True], [9049, True], [9059, True], [9067, True], [9091, True], [9103, True], [9109, True], [9127, True], [9133, True], [9137, True], [9151, True], [9157, True], [9161, True], [9173, True], [9181, True], [9187, True], [9199, True], [9203, True], [9209, True], [9221, True], [9227, True], [9239, True], [9241, True], [9257, True], [9277, True], [9281, True], [9283, True], [9293, True], [9311, True]]\n",
      "CPU times: user 52min 18s, sys: 4.87 s, total: 52min 23s\n",
      "Wall time: 54min 33s\n"
     ]
    }
   ],
   "source": [
    "%%time\n",
    "p=9001\n",
    "P=Primes()\n",
    "res=[]\n",
    "while p<9300:\n",
    "    p=P.next(p)\n",
    "    irr=irreducible(p)\n",
    "    res.append([p, irr])\n",
    "print(res)"
   ]
  },
  {
   "cell_type": "markdown",
   "metadata": {
    "collapsed": false
   },
   "source": [
    "## Verification for $9311 < p \\leq 9403$ "
   ]
  },
  {
   "cell_type": "code",
   "execution_count": 3,
   "metadata": {
    "collapsed": false
   },
   "outputs": [
    {
     "name": "stdout",
     "output_type": "stream",
     "text": [
      "[[9319, True], [9323, True], [9337, True], [9341, True], [9343, True], [9349, True], [9371, True], [9377, True], [9391, True], [9397, True], [9403, True]]\n",
      "CPU times: user 21min 34s, sys: 7.29 s, total: 21min 41s\n",
      "Wall time: 22min 54s\n"
     ]
    }
   ],
   "source": [
    "%%time\n",
    "p=9311\n",
    "P=Primes()\n",
    "res=[]\n",
    "while p<9400:\n",
    "    p=P.next(p)\n",
    "    irr=irreducible(p)\n",
    "    res.append([p, irr])\n",
    "print(res)"
   ]
  },
  {
   "cell_type": "markdown",
   "metadata": {
    "collapsed": false
   },
   "source": [
    "## Verification for $9403 < p \\leq 9511$"
   ]
  },
  {
   "cell_type": "code",
   "execution_count": 4,
   "metadata": {
    "collapsed": false
   },
   "outputs": [
    {
     "name": "stdout",
     "output_type": "stream",
     "text": [
      "[[9413, True], [9419, True], [9421, True], [9431, True], [9433, True], [9437, True], [9439, True], [9461, True], [9463, True], [9467, True], [9473, True], [9479, True], [9491, True], [9497, True], [9511, True]]\n",
      "CPU times: user 31min 31s, sys: 9.32 s, total: 31min 41s\n",
      "Wall time: 33min 31s\n"
     ]
    }
   ],
   "source": [
    "%%time\n",
    "p=9403\n",
    "P=Primes()\n",
    "res=[]\n",
    "while p<9500:\n",
    "    p=P.next(p)\n",
    "    irr=irreducible(p)\n",
    "    res.append([p, irr])\n",
    "print(res)"
   ]
  },
  {
   "cell_type": "markdown",
   "metadata": {
    "collapsed": false
   },
   "source": [
    "## Verification for $9511 < p \\leq 9601$ "
   ]
  },
  {
   "cell_type": "code",
   "execution_count": 5,
   "metadata": {
    "collapsed": false
   },
   "outputs": [
    {
     "name": "stdout",
     "output_type": "stream",
     "text": [
      "[[9521, True], [9533, True], [9539, True], [9547, True], [9551, True], [9587, True], [9601, True]]\n",
      "CPU times: user 13min 41s, sys: 2.21 s, total: 13min 43s\n",
      "Wall time: 14min 27s\n"
     ]
    }
   ],
   "source": [
    "%%time\n",
    "p=9511\n",
    "P=Primes()\n",
    "res=[]\n",
    "while p<9600:\n",
    "    p=P.next(p)\n",
    "    irr=irreducible(p)\n",
    "    res.append([p, irr])\n",
    "print(res)"
   ]
  },
  {
   "cell_type": "markdown",
   "metadata": {
    "collapsed": false
   },
   "source": [
    "## Verification for $9601 < p \\leq 9719$ "
   ]
  },
  {
   "cell_type": "code",
   "execution_count": 6,
   "metadata": {
    "collapsed": false
   },
   "outputs": [
    {
     "name": "stdout",
     "output_type": "stream",
     "text": [
      "[[9613, True], [9619, True], [9623, True], [9629, True], [9631, True], [9643, True], [9649, True], [9661, True], [9677, True], [9679, True], [9689, True], [9697, True], [9719, True]]\n",
      "CPU times: user 27min 4s, sys: 3.19 s, total: 27min 7s\n",
      "Wall time: 28min 41s\n"
     ]
    }
   ],
   "source": [
    "%%time\n",
    "p=9601\n",
    "P=Primes()\n",
    "res=[]\n",
    "while p<9700:\n",
    "    p=P.next(p)\n",
    "    irr=irreducible(p)\n",
    "    res.append([p, irr])\n",
    "print(res)"
   ]
  },
  {
   "cell_type": "markdown",
   "metadata": {
    "collapsed": false
   },
   "source": [
    "## Verification for $9719 < p \\leq 9803$"
   ]
  },
  {
   "cell_type": "code",
   "execution_count": 7,
   "metadata": {
    "collapsed": false
   },
   "outputs": [
    {
     "name": "stdout",
     "output_type": "stream",
     "text": [
      "[[9721, True], [9733, True], [9739, True], [9743, True], [9749, True], [9767, True], [9769, True], [9781, True], [9787, True], [9791, True], [9803, True]]\n",
      "CPU times: user 17min 29s, sys: 1.93 s, total: 17min 31s\n",
      "Wall time: 18min 24s\n"
     ]
    }
   ],
   "source": [
    "%%time\n",
    "p=9719\n",
    "P=Primes()\n",
    "res=[]\n",
    "while p<9800:\n",
    "    p=P.next(p)\n",
    "    irr=irreducible(p)\n",
    "    res.append([p, irr])\n",
    "print(res)"
   ]
  },
  {
   "cell_type": "markdown",
   "metadata": {
    "collapsed": false
   },
   "source": [
    "## Verification for $9803 < p \\leq 9901$ "
   ]
  },
  {
   "cell_type": "code",
   "execution_count": 4,
   "metadata": {
    "collapsed": false
   },
   "outputs": [
    {
     "name": "stdout",
     "output_type": "stream",
     "text": [
      "[[9811, True], [9817, True], [9829, True], [9833, True], [9839, True], [9851, True], [9857, True], [9859, True], [9871, True], [9883, True], [9887, True], [9901, True]]\n",
      "CPU times: user 21min 44s, sys: 3.19 s, total: 21min 47s\n",
      "Wall time: 22min 49s\n"
     ]
    }
   ],
   "source": [
    "%%time\n",
    "p=9803\n",
    "P=Primes()\n",
    "res=[]\n",
    "while p<9900:\n",
    "    p=P.next(p)\n",
    "    irr=irreducible(p)\n",
    "    res.append([p, irr])\n",
    "print(res)"
   ]
  },
  {
   "cell_type": "markdown",
   "metadata": {
    "collapsed": false
   },
   "source": [
    "## Verification for $9901 < p \\leq 10007$ "
   ]
  },
  {
   "cell_type": "code",
   "execution_count": 3,
   "metadata": {
    "collapsed": false
   },
   "outputs": [
    {
     "name": "stdout",
     "output_type": "stream",
     "text": [
      "[[9907, True], [9923, True], [9929, True], [9931, True], [9941, True], [9949, True], [9967, True], [9973, True], [10007, True]]\n",
      "CPU times: user 13min 35s, sys: 1.16 s, total: 13min 36s\n",
      "Wall time: 14min 7s\n"
     ]
    }
   ],
   "source": [
    "%%time\n",
    "p=9901\n",
    "P=Primes()\n",
    "res=[]\n",
    "while p<10000:\n",
    "    p=P.next(p)\n",
    "    irr=irreducible(p)\n",
    "    res.append([p, irr])\n",
    "print(res)"
   ]
  },
  {
   "cell_type": "code",
   "execution_count": 0,
   "metadata": {
    "collapsed": false
   },
   "outputs": [
   ],
   "source": [
   ]
  }
 ],
 "metadata": {
  "kernelspec": {
   "display_name": "SageMath 9.4",
   "language": "sagemath",
   "metadata": {
    "cocalc": {
     "description": "Open-source mathematical software system",
     "priority": 2,
     "url": "https://www.sagemath.org/"
    }
   },
   "name": "sage-9.4",
   "resource_dir": "/ext/jupyter/kernels/sage-9.4"
  },
  "language_info": {
   "codemirror_mode": {
    "name": "ipython",
    "version": 3
   },
   "file_extension": ".py",
   "mimetype": "text/x-python",
   "name": "python",
   "nbconvert_exporter": "python",
   "pygments_lexer": "ipython3",
   "version": "3.9.5"
  }
 },
 "nbformat": 4,
 "nbformat_minor": 4
}