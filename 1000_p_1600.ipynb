{
 "cells": [
  {
   "cell_type": "code",
   "execution_count": 1,
   "metadata": {
    "collapsed": false
   },
   "outputs": [
   ],
   "source": [
    "R.<x> = PolynomialRing(ZZ)"
   ]
  },
  {
   "cell_type": "code",
   "execution_count": 2,
   "metadata": {
    "collapsed": false
   },
   "outputs": [
   ],
   "source": [
    "def fekete(p):\n",
    "    #compute f_p(x) \n",
    "    v=[kronecker(a+1,p) for a in range(0,p-1)]\n",
    "    F_p=R(v)\n",
    "    if p%4==3:\n",
    "        coef=[1, -1]\n",
    "        factor=R(coef)\n",
    "        f,r =F_p.quo_rem(factor)\n",
    "    if p%4==1:\n",
    "        coef1=[1, -1, -1, 1]\n",
    "        factor1=R(coef1)\n",
    "        f,r=F_p.quo_rem(factor1)\n",
    "    return f\n",
    "    \n",
    "def reduced_fekete(p):\n",
    "    f_p=fekete(p)\n",
    "    u=f_p.trace_polynomial()\n",
    "    g_p=u[0]\n",
    "    return g_p\n",
    "\n",
    "def fekete_reduction(p, q):\n",
    "    g_p=reduced_fekete(p)\n",
    "    g=g_p.change_ring(GF(q))\n",
    "    return g.factor()\n",
    "    \n",
    "def cycle(p,n):\n",
    "    for q in range(n):\n",
    "        if is_prime(q): \n",
    "            factor=fekete_reduction(p,q)\n",
    "            if len(factor)==2: \n",
    "                factor1=factor[0][0]\n",
    "                degree_1=factor1.degree()\n",
    "                if degree_1==1 and factor[0][1]==1 and factor[1][1]==1: \n",
    "                    return q\n",
    "    return  -1         \n",
    "                \n",
    "def irreducible(p,n):\n",
    "    for q in range(n):\n",
    "        if is_prime(q): \n",
    "            factor=fekete_reduction(p,q)\n",
    "            if len(factor)==1 and factor[0][1]==1:\n",
    "                    return q\n",
    "    return  -1         \n",
    "                \n",
    "       \n",
    "    \n",
    "def length_test(v):\n",
    "    #count the number of even entries in v\n",
    "    count2=0\n",
    "    for item in v:\n",
    "        if item==2:\n",
    "            count2 +=1\n",
    "    count_even=0     \n",
    "    for item in v:        \n",
    "        if item %2 ==0:\n",
    "            count_even +=1\n",
    "    if count2==count_even==1:\n",
    "        return True\n",
    "    return False    \n",
    "    \n",
    "def tranposition(p,n):\n",
    "    result=[]\n",
    "    g=reduced_fekete(p)\n",
    "    for q in range(n):\n",
    "        v=[]\n",
    "        if is_prime(q):\n",
    "            factor=fekete_reduction(p,q)\n",
    "            for item in factor:\n",
    "                v.append(item[0].degree())\n",
    "        if sum(v)==g.degree() and length_test(v) and length_test and len(v)>1:\n",
    "            return q\n",
    "    return -1     \n",
    "\n",
    "def search(p,n):\n",
    "    irr=irreducible(p,n)\n",
    "    print(f\"The first prime that g is irreducible is: q=\",irr)\n",
    "    q_cycle=cycle(p,n)\n",
    "    print(f\"The first prime that g has a cycle is: q=\", q_cycle)\n",
    "    q_tranposition=tranposition(p,n)\n",
    "    print(f\"The first prime that g has a tranposition is q=\", q_tranposition)\n",
    "    "
   ]
  },
  {
   "cell_type": "markdown",
   "metadata": {
    "collapsed": false
   },
   "source": [
    "Suppose that there exists a triple of primes $(q_1, q_2, q_3)$ such that the factorization of $g_p(x)$ modulo $q_i$ has the following property. \n",
    "\n",
    "(1) In $\\mathbb{F}_{q_1}[x]$, $g_p(x)$ is irreducible. \n",
    "\n",
    "(2) In $\\mathbb{F}_{q_2}[x]$, $g_p(x)$ has the form $(x+c) h(x)$ where $h(x)$ is an irreducible polynomial. \n",
    "\n",
    "(3) In $\\mathbb{F}_{q_3}[x]$, $g_p(x)$ has the form $(x^2+ax+b) k(x)$ where $k(x)$ is the product of distinct irreducible polynomials of odd degrees. \n",
    "\n",
    "Then we can conclude that the Galois group of $g_p(x)$ is $S_n$ where $n=\\deg(g_p)$.\n",
    "\n",
    "Fix $n$, say $n=10^6$. We will find the number of primes $p$ in the range $[10^3, 2 \\times 10^3]$ such that and there does not exists a triple $(q_1, q_2, q_3)$ in the range $[3,n]$ with the above property. We note that, this does not mean such triples do not exist: we might have to increase $n$ to find them. "
   ]
  },
  {
   "cell_type": "code",
   "execution_count": 8,
   "metadata": {
    "collapsed": false
   },
   "outputs": [
    {
     "name": "stdout",
     "output_type": "stream",
     "text": [
      "The number of primes p that (q_1, q_2, q_3) does not exists in this range is: 0\n",
      "CPU times: user 78.2 ms, sys: 0 ns, total: 78.2 ms\n",
      "Wall time: 91.6 ms\n"
     ]
    }
   ],
   "source": [
    "%%time\n",
    "P=Primes()\n",
    "p=7\n",
    "count=0\n",
    "n=10**6 \n",
    "while p<20:\n",
    "    p=P.next(p)\n",
    "    irr=irreducible(p,n)\n",
    "    q_cycle=cycle(p,n)\n",
    "    q_tranposition=tranposition(p,n)\n",
    "    if irr==-1 or q_cycle ==-1 or q_tranposition ==-1:\n",
    "        count +=1\n",
    "print(f\"The number of primes p that (q_1, q_2, q_3) does not exists in this range is:\", count)"
   ]
  },
  {
   "cell_type": "code",
   "execution_count": 0,
   "metadata": {
    "collapsed": false
   },
   "outputs": [
   ],
   "source": [
   ]
  },
  {
   "cell_type": "code",
   "execution_count": 9,
   "metadata": {
    "collapsed": false
   },
   "outputs": [
    {
     "name": "stdout",
     "output_type": "stream",
     "text": [
      "The prime we are considering is p= 1009\n"
     ]
    },
    {
     "name": "stdout",
     "output_type": "stream",
     "text": [
      "The first prime that g is irreducible is: q= 5393\n"
     ]
    },
    {
     "name": "stdout",
     "output_type": "stream",
     "text": [
      "The first prime that g has a cycle is: q= 4211\n"
     ]
    },
    {
     "name": "stdout",
     "output_type": "stream",
     "text": [
      "The first prime that g has a tranposition is q= 593\n",
      "CPU times: user 5min 19s, sys: 355 ms, total: 5min 19s\n",
      "Wall time: 5min 35s\n"
     ]
    }
   ],
   "source": [
    "%%time\n",
    "p=997\n",
    "P=Primes()\n",
    "p=P.next(p)\n",
    "n=10**5\n",
    "print(\"The prime we are considering is p=\", p)\n",
    "search(p,n)"
   ]
  },
  {
   "cell_type": "code",
   "execution_count": 11,
   "metadata": {
    "collapsed": false
   },
   "outputs": [
    {
     "name": "stdout",
     "output_type": "stream",
     "text": [
      "The prime we are considering is p= 1013\n"
     ]
    },
    {
     "name": "stdout",
     "output_type": "stream",
     "text": [
      "The first prime that g is irreducible is: q= 499\n"
     ]
    },
    {
     "name": "stdout",
     "output_type": "stream",
     "text": [
      "The first prime that g has a cycle is: q= 3049\n"
     ]
    },
    {
     "name": "stdout",
     "output_type": "stream",
     "text": [
      "The first prime that g has a tranposition is q= 43\n",
      "CPU times: user 1min 58s, sys: 163 ms, total: 1min 58s\n",
      "Wall time: 2min 2s\n"
     ]
    }
   ],
   "source": [
    "%%time\n",
    "p=1009\n",
    "P=Primes()\n",
    "p=P.next(p)\n",
    "n=10**5\n",
    "print(\"The prime we are considering is p=\", p)\n",
    "search(p,n)"
   ]
  },
  {
   "cell_type": "code",
   "execution_count": 12,
   "metadata": {
    "collapsed": false
   },
   "outputs": [
    {
     "name": "stdout",
     "output_type": "stream",
     "text": [
      "The prime we are considering is p= 1019\n"
     ]
    },
    {
     "name": "stdout",
     "output_type": "stream",
     "text": [
      "The first prime that g is irreducible is: q= 2687\n"
     ]
    },
    {
     "name": "stdout",
     "output_type": "stream",
     "text": [
      "The first prime that g has a cycle is: q= 1373\n"
     ]
    },
    {
     "name": "stdout",
     "output_type": "stream",
     "text": [
      "The first prime that g has a tranposition is q= 193\n",
      "CPU times: user 2min 20s, sys: 166 ms, total: 2min 21s\n",
      "Wall time: 2min 28s\n"
     ]
    }
   ],
   "source": [
    "%%time\n",
    "P=Primes()\n",
    "p=P.next(p)\n",
    "n=10**5\n",
    "print(\"The prime we are considering is p=\", p)\n",
    "search(p,n)"
   ]
  },
  {
   "cell_type": "code",
   "execution_count": 13,
   "metadata": {
    "collapsed": false
   },
   "outputs": [
    {
     "name": "stdout",
     "output_type": "stream",
     "text": [
      "The prime we are considering is p= 1021\n"
     ]
    },
    {
     "name": "stdout",
     "output_type": "stream",
     "text": [
      "The first prime that g is irreducible is: q= 11171\n"
     ]
    },
    {
     "name": "stdout",
     "output_type": "stream",
     "text": [
      "The first prime that g has a cycle is: q= 48187\n"
     ]
    },
    {
     "name": "stdout",
     "output_type": "stream",
     "text": [
      "The first prime that g has a tranposition is q= 79\n",
      "CPU times: user 25min 4s, sys: 3.06 s, total: 25min 7s\n",
      "Wall time: 26min 18s\n"
     ]
    }
   ],
   "source": [
    "%%time\n",
    "P=Primes()\n",
    "p=P.next(p)\n",
    "n=10**5\n",
    "print(\"The prime we are considering is p=\", p)\n",
    "search(p,n)"
   ]
  },
  {
   "cell_type": "code",
   "execution_count": 15,
   "metadata": {
    "collapsed": false
   },
   "outputs": [
    {
     "name": "stdout",
     "output_type": "stream",
     "text": [
      "The prime we are considering is p= 1031\n"
     ]
    },
    {
     "name": "stdout",
     "output_type": "stream",
     "text": [
      "The first prime that g is irreducible is: q= 983\n"
     ]
    },
    {
     "name": "stdout",
     "output_type": "stream",
     "text": [
      "The first prime that g has a cycle is: q= 547\n"
     ]
    },
    {
     "name": "stdout",
     "output_type": "stream",
     "text": [
      "The first prime that g has a tranposition is q= 1747\n",
      "CPU times: user 1min 55s, sys: 199 ms, total: 1min 55s\n",
      "Wall time: 2min\n"
     ]
    }
   ],
   "source": [
    "%%time\n",
    "P=Primes()\n",
    "p=P.next(p)\n",
    "n=10**5\n",
    "print(\"The prime we are considering is p=\", p)\n",
    "search(p,n)"
   ]
  },
  {
   "cell_type": "code",
   "execution_count": 16,
   "metadata": {
    "collapsed": false
   },
   "outputs": [
    {
     "name": "stdout",
     "output_type": "stream",
     "text": [
      "The prime we are considering is p= 1033\n"
     ]
    },
    {
     "name": "stdout",
     "output_type": "stream",
     "text": [
      "The first prime that g is irreducible is: q= 6131\n"
     ]
    },
    {
     "name": "stdout",
     "output_type": "stream",
     "text": [
      "The first prime that g has a cycle is: q= 1789\n"
     ]
    },
    {
     "name": "stdout",
     "output_type": "stream",
     "text": [
      "The first prime that g has a tranposition is q= 79\n",
      "CPU times: user 4min 7s, sys: 329 ms, total: 4min 7s\n",
      "Wall time: 4min 18s\n"
     ]
    }
   ],
   "source": [
    "%%time\n",
    "P=Primes()\n",
    "p=P.next(p)\n",
    "n=10**5\n",
    "print(\"The prime we are considering is p=\", p)\n",
    "search(p,n)"
   ]
  },
  {
   "cell_type": "code",
   "execution_count": 5,
   "metadata": {
    "collapsed": false
   },
   "outputs": [
    {
     "name": "stdout",
     "output_type": "stream",
     "text": [
      "The prime we are considering is p= 1039\n"
     ]
    },
    {
     "name": "stdout",
     "output_type": "stream",
     "text": [
      "The first prime that g is irreducible is: q= 4231\n"
     ]
    },
    {
     "name": "stdout",
     "output_type": "stream",
     "text": [
      "The first prime that g has a cycle is: q= 1367\n"
     ]
    },
    {
     "name": "stdout",
     "output_type": "stream",
     "text": [
      "The first prime that g has a tranposition is q= 383\n",
      "CPU times: user 3min 32s, sys: 594 ms, total: 3min 33s\n",
      "Wall time: 3min 43s\n"
     ]
    }
   ],
   "source": [
    "%%time\n",
    "p=1033\n",
    "P=Primes()\n",
    "p=P.next(p)\n",
    "n=10**5\n",
    "print(\"The prime we are considering is p=\", p)\n",
    "search(p,n)"
   ]
  },
  {
   "cell_type": "code",
   "execution_count": 3,
   "metadata": {
    "collapsed": false
   },
   "outputs": [
    {
     "name": "stdout",
     "output_type": "stream",
     "text": [
      "The prime we are considering is p= 1049\n"
     ]
    },
    {
     "name": "stdout",
     "output_type": "stream",
     "text": [
      "The first prime that g is irreducible is: q= 683\n"
     ]
    },
    {
     "name": "stdout",
     "output_type": "stream",
     "text": [
      "The first prime that g has a cycle is: q= 3407\n"
     ]
    },
    {
     "name": "stdout",
     "output_type": "stream",
     "text": [
      "The first prime that g has a tranposition is q= 17\n",
      "CPU times: user 2min 12s, sys: 150 ms, total: 2min 12s\n",
      "Wall time: 2min 18s\n"
     ]
    }
   ],
   "source": [
    "%%time\n",
    "p=1039\n",
    "P=Primes()\n",
    "p=P.next(p)\n",
    "n=10**5\n",
    "print(\"The prime we are considering is p=\", p)\n",
    "search(p,n)"
   ]
  },
  {
   "cell_type": "code",
   "execution_count": 8,
   "metadata": {
    "collapsed": false
   },
   "outputs": [
    {
     "name": "stdout",
     "output_type": "stream",
     "text": [
      "The prime we are considering is p= 1061\n"
     ]
    },
    {
     "name": "stdout",
     "output_type": "stream",
     "text": [
      "The first prime that g is irreducible is: q= 2027\n"
     ]
    },
    {
     "name": "stdout",
     "output_type": "stream",
     "text": [
      "The first prime that g has a cycle is: q= 3727\n"
     ]
    },
    {
     "name": "stdout",
     "output_type": "stream",
     "text": [
      "The first prime that g has a tranposition is q= 313\n",
      "CPU times: user 3min 31s, sys: 390 ms, total: 3min 32s\n",
      "Wall time: 3min 40s\n"
     ]
    }
   ],
   "source": [
    "%%time\n",
    "P=Primes()\n",
    "p=P.next(p)\n",
    "n=10**5\n",
    "print(\"The prime we are considering is p=\", p)\n",
    "search(p,n)"
   ]
  },
  {
   "cell_type": "code",
   "execution_count": 12,
   "metadata": {
    "collapsed": false
   },
   "outputs": [
    {
     "name": "stdout",
     "output_type": "stream",
     "text": [
      "The prime we are considering is p= 1063\n"
     ]
    },
    {
     "name": "stdout",
     "output_type": "stream",
     "text": [
      "The first prime that g is irreducible is: q= 2179\n"
     ]
    },
    {
     "name": "stdout",
     "output_type": "stream",
     "text": [
      "The first prime that g has a cycle is: q= 3259\n"
     ]
    },
    {
     "name": "stdout",
     "output_type": "stream",
     "text": [
      "The first prime that g has a tranposition is q= 179\n",
      "CPU times: user 3min 10s, sys: 235 ms, total: 3min 10s\n",
      "Wall time: 3min 18s\n"
     ]
    }
   ],
   "source": [
    "%%time\n",
    "p=1061\n",
    "P=Primes()\n",
    "p=P.next(p)\n",
    "n=10**5\n",
    "print(\"The prime we are considering is p=\", p)\n",
    "search(p,n)"
   ]
  },
  {
   "cell_type": "code",
   "execution_count": 13,
   "metadata": {
    "collapsed": false
   },
   "outputs": [
    {
     "name": "stdout",
     "output_type": "stream",
     "text": [
      "The prime we are considering is p= 1069\n"
     ]
    },
    {
     "name": "stdout",
     "output_type": "stream",
     "text": [
      "The first prime that g is irreducible is: q= 1973\n"
     ]
    },
    {
     "name": "stdout",
     "output_type": "stream",
     "text": [
      "The first prime that g has a cycle is: q= 211\n"
     ]
    },
    {
     "name": "stdout",
     "output_type": "stream",
     "text": [
      "The first prime that g has a tranposition is q= 433\n",
      "CPU times: user 1min 39s, sys: 139 ms, total: 1min 39s\n",
      "Wall time: 1min 43s\n"
     ]
    }
   ],
   "source": [
    "%%time\n",
    "P=Primes()\n",
    "p=P.next(p)\n",
    "n=10**5\n",
    "print(\"The prime we are considering is p=\", p)\n",
    "search(p,n)"
   ]
  },
  {
   "cell_type": "code",
   "execution_count": 14,
   "metadata": {
    "collapsed": false
   },
   "outputs": [
    {
     "name": "stdout",
     "output_type": "stream",
     "text": [
      "The prime we are considering is p= 1087\n"
     ]
    },
    {
     "name": "stdout",
     "output_type": "stream",
     "text": [
      "The first prime that g is irreducible is: q= 3863\n"
     ]
    },
    {
     "name": "stdout",
     "output_type": "stream",
     "text": [
      "The first prime that g has a cycle is: q= 1289\n"
     ]
    },
    {
     "name": "stdout",
     "output_type": "stream",
     "text": [
      "The first prime that g has a tranposition is q= 313\n",
      "CPU times: user 3min 17s, sys: 358 ms, total: 3min 18s\n",
      "Wall time: 3min 25s\n"
     ]
    }
   ],
   "source": [
    "%%time\n",
    "P=Primes()\n",
    "p=P.next(p)\n",
    "n=10**5\n",
    "print(\"The prime we are considering is p=\", p)\n",
    "search(p,n)"
   ]
  },
  {
   "cell_type": "code",
   "execution_count": 4,
   "metadata": {
    "collapsed": false
   },
   "outputs": [
    {
     "name": "stdout",
     "output_type": "stream",
     "text": [
      "The prime we are considering is p= 1091\n"
     ]
    },
    {
     "name": "stdout",
     "output_type": "stream",
     "text": [
      "The first prime that g is irreducible is: q= 211\n"
     ]
    },
    {
     "name": "stdout",
     "output_type": "stream",
     "text": [
      "The first prime that g has a cycle is: q= 6301\n"
     ]
    },
    {
     "name": "stdout",
     "output_type": "stream",
     "text": [
      "The first prime that g has a tranposition is q= 311\n",
      "CPU times: user 3min 46s, sys: 253 ms, total: 3min 46s\n",
      "Wall time: 3min 58s\n"
     ]
    }
   ],
   "source": [
    "%%time\n",
    "p=1087\n",
    "P=Primes()\n",
    "p=P.next(p)\n",
    "n=10**5\n",
    "print(\"The prime we are considering is p=\", p)\n",
    "search(p,n)"
   ]
  },
  {
   "cell_type": "code",
   "execution_count": 16,
   "metadata": {
    "collapsed": false
   },
   "outputs": [
    {
     "name": "stdout",
     "output_type": "stream",
     "text": [
      "The prime we are considering is p= 1093\n"
     ]
    },
    {
     "name": "stdout",
     "output_type": "stream",
     "text": [
      "The first prime that g is irreducible is: q= 41\n"
     ]
    },
    {
     "name": "stdout",
     "output_type": "stream",
     "text": [
      "The first prime that g has a cycle is: q= 10103\n"
     ]
    },
    {
     "name": "stdout",
     "output_type": "stream",
     "text": [
      "The first prime that g has a tranposition is q= 283\n",
      "CPU times: user 5min 40s, sys: 699 ms, total: 5min 40s\n",
      "Wall time: 5min 56s\n"
     ]
    }
   ],
   "source": [
    "%%time\n",
    "P=Primes()\n",
    "p=P.next(p)\n",
    "n=10**5\n",
    "print(\"The prime we are considering is p=\", p)\n",
    "search(p,n)"
   ]
  },
  {
   "cell_type": "code",
   "execution_count": 17,
   "metadata": {
    "collapsed": false
   },
   "outputs": [
    {
     "name": "stdout",
     "output_type": "stream",
     "text": [
      "The prime we are considering is p= 1097\n"
     ]
    },
    {
     "name": "stdout",
     "output_type": "stream",
     "text": [
      "The first prime that g is irreducible is: q= 1103\n"
     ]
    },
    {
     "name": "stdout",
     "output_type": "stream",
     "text": [
      "The first prime that g has a cycle is: q= 1607\n"
     ]
    },
    {
     "name": "stdout",
     "output_type": "stream",
     "text": [
      "The first prime that g has a tranposition is q= 173\n",
      "CPU times: user 1min 56s, sys: 199 ms, total: 1min 56s\n",
      "Wall time: 2min 1s\n"
     ]
    }
   ],
   "source": [
    "%%time\n",
    "P=Primes()\n",
    "p=P.next(p)\n",
    "n=10**5\n",
    "print(\"The prime we are considering is p=\", p)\n",
    "search(p,n)"
   ]
  },
  {
   "cell_type": "code",
   "execution_count": 15,
   "metadata": {
    "collapsed": false
   },
   "outputs": [
    {
     "name": "stdout",
     "output_type": "stream",
     "text": [
      "The prime we are considering is p= 1091\n"
     ]
    },
    {
     "name": "stdout",
     "output_type": "stream",
     "text": [
      "The first prime that g is irreducible is: q= 211\n"
     ]
    },
    {
     "name": "stdout",
     "output_type": "stream",
     "text": [
      "The first prime that g has a cycle is: q= 6301\n"
     ]
    },
    {
     "name": "stdout",
     "output_type": "stream",
     "text": [
      "The first prime that g has a tranposition is q= 311\n",
      "CPU times: user 3min 52s, sys: 310 ms, total: 3min 52s\n",
      "Wall time: 4min 1s\n"
     ]
    }
   ],
   "source": [
    "%%time\n",
    "P=Primes()\n",
    "p=P.next(p)\n",
    "n=10**5\n",
    "print(\"The prime we are considering is p=\", p)\n",
    "search(p,n)"
   ]
  },
  {
   "cell_type": "code",
   "execution_count": 5,
   "metadata": {
    "collapsed": false
   },
   "outputs": [
    {
     "name": "stdout",
     "output_type": "stream",
     "text": [
      "1009\n"
     ]
    },
    {
     "name": "stdout",
     "output_type": "stream",
     "text": [
      "1013\n"
     ]
    },
    {
     "name": "stdout",
     "output_type": "stream",
     "text": [
      "1019\n"
     ]
    },
    {
     "name": "stdout",
     "output_type": "stream",
     "text": [
      "1021\n"
     ]
    },
    {
     "name": "stdout",
     "output_type": "stream",
     "text": [
      "1031\n"
     ]
    },
    {
     "name": "stdout",
     "output_type": "stream",
     "text": [
      "1033\n"
     ]
    },
    {
     "name": "stdout",
     "output_type": "stream",
     "text": [
      "1039\n"
     ]
    },
    {
     "name": "stdout",
     "output_type": "stream",
     "text": [
      "1049\n"
     ]
    },
    {
     "name": "stdout",
     "output_type": "stream",
     "text": [
      "1051\n"
     ]
    },
    {
     "name": "stdout",
     "output_type": "stream",
     "text": [
      "1061\n"
     ]
    },
    {
     "name": "stdout",
     "output_type": "stream",
     "text": [
      "1063\n"
     ]
    },
    {
     "name": "stdout",
     "output_type": "stream",
     "text": [
      "1069\n"
     ]
    },
    {
     "name": "stdout",
     "output_type": "stream",
     "text": [
      "1087\n"
     ]
    },
    {
     "name": "stdout",
     "output_type": "stream",
     "text": [
      "1091\n"
     ]
    },
    {
     "name": "stdout",
     "output_type": "stream",
     "text": [
      "1093\n"
     ]
    },
    {
     "name": "stdout",
     "output_type": "stream",
     "text": [
      "1097\n",
      "The number of primes in this interval is: 16\n",
      "1103\n",
      "The number of primes p that $(q_1, q_2, q_3)$ does not exists in this range is: 0\n",
      "The list of these primes is: []\n",
      "CPU times: user 1h 14min 29s, sys: 9.05 s, total: 1h 14min 38s\n",
      "Wall time: 1h 20min 41s\n"
     ]
    }
   ],
   "source": [
    "%%time\n",
    "P=Primes()\n",
    "p=1009\n",
    "count=0\n",
    "n=10**6\n",
    "p_list=[]\n",
    "number_prime=0\n",
    "while p<1100:\n",
    "    number_prime +=1 \n",
    "    irr=irreducible(p,n)\n",
    "    q_cycle=cycle(p,n)\n",
    "    q_tranposition=tranposition(p,n)\n",
    "    print(p)\n",
    "    if irr==-1 or q_cycle ==-1 or q_tranposition ==-1:\n",
    "        count +=1\n",
    "        p_list.append(p)\n",
    "    p=P.next(p)\n",
    "print(f\"The number of primes in this interval is:\", number_prime)    \n",
    "print(p)    \n",
    "print(f\"The number of primes p that $(q_1, q_2, q_3)$ does not exists in this range is:\", count) \n",
    "print(f\"The list of these primes is:\", p_list)\n",
    "    "
   ]
  },
  {
   "cell_type": "code",
   "execution_count": 4,
   "metadata": {
    "collapsed": false
   },
   "outputs": [
    {
     "name": "stdout",
     "output_type": "stream",
     "text": [
      "1109\n"
     ]
    },
    {
     "name": "stdout",
     "output_type": "stream",
     "text": [
      "1117\n"
     ]
    },
    {
     "name": "stdout",
     "output_type": "stream",
     "text": [
      "1123\n"
     ]
    },
    {
     "name": "stdout",
     "output_type": "stream",
     "text": [
      "1129\n"
     ]
    },
    {
     "name": "stdout",
     "output_type": "stream",
     "text": [
      "1151\n"
     ]
    },
    {
     "name": "stdout",
     "output_type": "stream",
     "text": [
      "1153\n"
     ]
    },
    {
     "name": "stdout",
     "output_type": "stream",
     "text": [
      "1163\n"
     ]
    },
    {
     "name": "stdout",
     "output_type": "stream",
     "text": [
      "1171\n"
     ]
    },
    {
     "name": "stdout",
     "output_type": "stream",
     "text": [
      "1181\n"
     ]
    },
    {
     "name": "stdout",
     "output_type": "stream",
     "text": [
      "1187\n"
     ]
    },
    {
     "name": "stdout",
     "output_type": "stream",
     "text": [
      "1193\n",
      "The number of primes in this interval is: 11\n",
      "1201\n",
      "The number of primes p that $(q_1, q_2, q_3)$ does not exists in this range is: 0\n",
      "The list of these primes is: []\n",
      "CPU times: user 1h 3min 24s, sys: 6.99 s, total: 1h 3min 31s\n",
      "Wall time: 1h 6min 53s\n"
     ]
    }
   ],
   "source": [
    "%%time\n",
    "P=Primes()\n",
    "p=1109\n",
    "count=0\n",
    "n=10**6\n",
    "p_list=[]\n",
    "number_prime=0\n",
    "while p<1200:\n",
    "    number_prime +=1 \n",
    "    irr=irreducible(p,n)\n",
    "    q_cycle=cycle(p,n)\n",
    "    q_tranposition=tranposition(p,n)\n",
    "    print(p)\n",
    "    if irr==-1 or q_cycle ==-1 or q_tranposition ==-1:\n",
    "        count +=1\n",
    "        p_list.append(p)\n",
    "    p=P.next(p)\n",
    "print(f\"The number of primes in this interval is:\", number_prime)    \n",
    "print(p)    \n",
    "print(f\"The number of primes p that $(q_1, q_2, q_3)$ does not exists in this range is:\", count) \n",
    "print(f\"The list of these primes is:\", p_list)\n",
    "    "
   ]
  },
  {
   "cell_type": "code",
   "execution_count": 7,
   "metadata": {
    "collapsed": false
   },
   "outputs": [
    {
     "name": "stdout",
     "output_type": "stream",
     "text": [
      "1201\n"
     ]
    },
    {
     "name": "stdout",
     "output_type": "stream",
     "text": [
      "1213\n"
     ]
    },
    {
     "name": "stdout",
     "output_type": "stream",
     "text": [
      "1217\n"
     ]
    },
    {
     "name": "stdout",
     "output_type": "stream",
     "text": [
      "1223\n"
     ]
    },
    {
     "name": "stdout",
     "output_type": "stream",
     "text": [
      "1229\n"
     ]
    },
    {
     "name": "stdout",
     "output_type": "stream",
     "text": [
      "1231\n"
     ]
    },
    {
     "name": "stdout",
     "output_type": "stream",
     "text": [
      "1237\n"
     ]
    },
    {
     "name": "stdout",
     "output_type": "stream",
     "text": [
      "1249\n"
     ]
    },
    {
     "name": "stdout",
     "output_type": "stream",
     "text": [
      "1259\n"
     ]
    },
    {
     "name": "stdout",
     "output_type": "stream",
     "text": [
      "1277\n"
     ]
    },
    {
     "name": "stdout",
     "output_type": "stream",
     "text": [
      "1279\n"
     ]
    },
    {
     "name": "stdout",
     "output_type": "stream",
     "text": [
      "1283\n"
     ]
    },
    {
     "name": "stdout",
     "output_type": "stream",
     "text": [
      "1289\n"
     ]
    },
    {
     "name": "stdout",
     "output_type": "stream",
     "text": [
      "1291\n"
     ]
    },
    {
     "name": "stdout",
     "output_type": "stream",
     "text": [
      "1297\n",
      "The number of primes in this interval is: 15\n",
      "1301\n",
      "The number of primes p that $(q_1, q_2, q_3)$ does not exists in this range is: 0\n",
      "The list of these primes is: []\n",
      "CPU times: user 2h 38min 51s, sys: 16.6 s, total: 2h 39min 8s\n",
      "Wall time: 2h 51min 41s\n"
     ]
    }
   ],
   "source": [
    "%%time\n",
    "P=Primes()\n",
    "p=1201\n",
    "count=0\n",
    "n=10**6\n",
    "p_list=[]\n",
    "number_prime=0\n",
    "while p<1300:\n",
    "    number_prime +=1 \n",
    "    irr=irreducible(p,n)\n",
    "    q_cycle=cycle(p,n)\n",
    "    q_tranposition=tranposition(p,n)\n",
    "    print(p)\n",
    "    if irr==-1 or q_cycle ==-1 or q_tranposition ==-1:\n",
    "        count +=1\n",
    "        p_list.append(p)\n",
    "    p=P.next(p)\n",
    "print(f\"The number of primes in this interval is:\", number_prime)    \n",
    "print(p)    \n",
    "print(f\"The number of primes p that $(q_1, q_2, q_3)$ does not exists in this range is:\", count) \n",
    "print(f\"The list of these primes is:\", p_list)\n",
    "    "
   ]
  },
  {
   "cell_type": "code",
   "execution_count": 9,
   "metadata": {
    "collapsed": false
   },
   "outputs": [
    {
     "name": "stdout",
     "output_type": "stream",
     "text": [
      "1301\n"
     ]
    },
    {
     "name": "stdout",
     "output_type": "stream",
     "text": [
      "1303\n"
     ]
    },
    {
     "name": "stdout",
     "output_type": "stream",
     "text": [
      "1307\n"
     ]
    },
    {
     "name": "stdout",
     "output_type": "stream",
     "text": [
      "1319\n"
     ]
    },
    {
     "name": "stdout",
     "output_type": "stream",
     "text": [
      "1321\n"
     ]
    },
    {
     "name": "stdout",
     "output_type": "stream",
     "text": [
      "1327\n"
     ]
    },
    {
     "name": "stdout",
     "output_type": "stream",
     "text": [
      "1361\n"
     ]
    },
    {
     "name": "stdout",
     "output_type": "stream",
     "text": [
      "1367\n"
     ]
    },
    {
     "name": "stdout",
     "output_type": "stream",
     "text": [
      "1373\n"
     ]
    },
    {
     "name": "stdout",
     "output_type": "stream",
     "text": [
      "1381\n"
     ]
    },
    {
     "name": "stdout",
     "output_type": "stream",
     "text": [
      "1399\n",
      "The number of primes in this interval is: 11\n",
      "1409\n",
      "The number of primes p that $(q_1, q_2, q_3)$ does not exists in this range is: 0\n",
      "The list of these primes is: []\n",
      "CPU times: user 1h 10min 6s, sys: 7.23 s, total: 1h 10min 13s\n",
      "Wall time: 1h 16min 13s\n"
     ]
    }
   ],
   "source": [
    "%%time\n",
    "P=Primes()\n",
    "p=1301\n",
    "count=0\n",
    "n=10**6\n",
    "p_list=[]\n",
    "number_prime=0\n",
    "while p<1400:\n",
    "    number_prime +=1 \n",
    "    irr=irreducible(p,n)\n",
    "    q_cycle=cycle(p,n)\n",
    "    q_tranposition=tranposition(p,n)\n",
    "    print(p)\n",
    "    if irr==-1 or q_cycle ==-1 or q_tranposition ==-1:\n",
    "        count +=1\n",
    "        p_list.append(p)\n",
    "    p=P.next(p)\n",
    "print(f\"The number of primes in this interval is:\", number_prime)    \n",
    "print(p)    \n",
    "print(f\"The number of primes p that $(q_1, q_2, q_3)$ does not exists in this range is:\", count) \n",
    "print(f\"The list of these primes is:\", p_list)"
   ]
  },
  {
   "cell_type": "code",
   "execution_count": 3,
   "metadata": {
    "collapsed": false
   },
   "outputs": [
    {
     "name": "stdout",
     "output_type": "stream",
     "text": [
      "1409\n"
     ]
    },
    {
     "name": "stdout",
     "output_type": "stream",
     "text": [
      "1423\n"
     ]
    },
    {
     "name": "stdout",
     "output_type": "stream",
     "text": [
      "1427\n"
     ]
    },
    {
     "name": "stdout",
     "output_type": "stream",
     "text": [
      "1429\n"
     ]
    },
    {
     "name": "stdout",
     "output_type": "stream",
     "text": [
      "1433\n"
     ]
    },
    {
     "name": "stdout",
     "output_type": "stream",
     "text": [
      "1439\n"
     ]
    },
    {
     "name": "stdout",
     "output_type": "stream",
     "text": [
      "1447\n"
     ]
    },
    {
     "name": "stdout",
     "output_type": "stream",
     "text": [
      "1451\n"
     ]
    },
    {
     "name": "stdout",
     "output_type": "stream",
     "text": [
      "1453\n"
     ]
    },
    {
     "name": "stdout",
     "output_type": "stream",
     "text": [
      "1459\n"
     ]
    },
    {
     "name": "stdout",
     "output_type": "stream",
     "text": [
      "1471\n"
     ]
    },
    {
     "name": "stdout",
     "output_type": "stream",
     "text": [
      "1481\n"
     ]
    },
    {
     "name": "stdout",
     "output_type": "stream",
     "text": [
      "1483\n"
     ]
    },
    {
     "name": "stdout",
     "output_type": "stream",
     "text": [
      "1487\n"
     ]
    },
    {
     "name": "stdout",
     "output_type": "stream",
     "text": [
      "1489\n"
     ]
    },
    {
     "name": "stdout",
     "output_type": "stream",
     "text": [
      "1493\n"
     ]
    },
    {
     "name": "stdout",
     "output_type": "stream",
     "text": [
      "1499\n",
      "The number of primes in this interval is: 17\n",
      "1511\n",
      "The number of primes p that $(q_1, q_2, q_3)$ does not exists in this range is: 0\n",
      "The list of these primes is: []\n",
      "CPU times: user 3h 23min 46s, sys: 13.9 s, total: 3h 24min\n",
      "Wall time: 3h 29min 46s\n"
     ]
    }
   ],
   "source": [
    "%%time\n",
    "P=Primes()\n",
    "p=1409\n",
    "count=0\n",
    "n=10**6\n",
    "p_list=[]\n",
    "number_prime=0\n",
    "while p<1500:\n",
    "    number_prime +=1 \n",
    "    irr=irreducible(p,n)\n",
    "    q_cycle=cycle(p,n)\n",
    "    q_tranposition=tranposition(p,n)\n",
    "    print(p)\n",
    "    if irr==-1 or q_cycle ==-1 or q_tranposition ==-1:\n",
    "        count +=1\n",
    "        p_list.append(p)\n",
    "    p=P.next(p)\n",
    "print(f\"The number of primes in this interval is:\", number_prime)    \n",
    "print(p)    \n",
    "print(f\"The number of primes p that $(q_1, q_2, q_3)$ does not exists in this range is:\", count) \n",
    "print(f\"The list of these primes is:\", p_list)"
   ]
  },
  {
   "cell_type": "code",
   "execution_count": 3,
   "metadata": {
    "collapsed": false
   },
   "outputs": [
    {
     "name": "stdout",
     "output_type": "stream",
     "text": [
      "1511\n"
     ]
    },
    {
     "name": "stdout",
     "output_type": "stream",
     "text": [
      "1523\n"
     ]
    },
    {
     "name": "stdout",
     "output_type": "stream",
     "text": [
      "1531\n"
     ]
    },
    {
     "name": "stdout",
     "output_type": "stream",
     "text": [
      "1543\n"
     ]
    },
    {
     "name": "stdout",
     "output_type": "stream",
     "text": [
      "1549\n"
     ]
    },
    {
     "name": "stdout",
     "output_type": "stream",
     "text": [
      "1553\n"
     ]
    },
    {
     "name": "stdout",
     "output_type": "stream",
     "text": [
      "1559\n"
     ]
    },
    {
     "name": "stdout",
     "output_type": "stream",
     "text": [
      "1567\n"
     ]
    },
    {
     "name": "stdout",
     "output_type": "stream",
     "text": [
      "1571\n"
     ]
    },
    {
     "name": "stdout",
     "output_type": "stream",
     "text": [
      "1579\n"
     ]
    },
    {
     "name": "stdout",
     "output_type": "stream",
     "text": [
      "1583\n"
     ]
    },
    {
     "name": "stdout",
     "output_type": "stream",
     "text": [
      "1597\n",
      "The number of primes in this interval is: 12\n",
      "1601\n",
      "The number of primes p that $(q_1, q_2, q_3)$ does not exists in this range is: 0\n",
      "The list of these primes is: []\n",
      "CPU times: user 2h 42min 19s, sys: 13.8 s, total: 2h 42min 33s\n",
      "Wall time: 2h 45min 41s\n"
     ]
    }
   ],
   "source": [
    "%%time\n",
    "P=Primes()\n",
    "p=1511\n",
    "count=0\n",
    "n=10**6\n",
    "p_list=[]\n",
    "number_prime=0\n",
    "while p<1600:\n",
    "    number_prime +=1 \n",
    "    irr=irreducible(p,n)\n",
    "    q_cycle=cycle(p,n)\n",
    "    q_tranposition=tranposition(p,n)\n",
    "    print(p)\n",
    "    if irr==-1 or q_cycle ==-1 or q_tranposition ==-1:\n",
    "        count +=1\n",
    "        p_list.append(p)\n",
    "    p=P.next(p)\n",
    "print(f\"The number of primes in this interval is:\", number_prime)    \n",
    "print(p)    \n",
    "print(f\"The number of primes p that $(q_1, q_2, q_3)$ does not exists in this range is:\", count) \n",
    "print(f\"The list of these primes is:\", p_list)"
   ]
  },
  {
   "cell_type": "code",
   "execution_count": 0,
   "metadata": {
    "collapsed": false
   },
   "outputs": [
   ],
   "source": [
   ]
  },
  {
   "cell_type": "code",
   "execution_count": 0,
   "metadata": {
    "collapsed": false
   },
   "outputs": [
   ],
   "source": [
   ]
  }
 ],
 "metadata": {
  "kernelspec": {
   "display_name": "SageMath 9.4",
   "language": "sagemath",
   "metadata": {
    "cocalc": {
     "description": "Open-source mathematical software system",
     "priority": 10,
     "url": "https://www.sagemath.org/"
    }
   },
   "name": "sage-9.4",
   "resource_dir": "/ext/jupyter/kernels/sage-9.4"
  },
  "language_info": {
   "codemirror_mode": {
    "name": "ipython",
    "version": 3
   },
   "file_extension": ".py",
   "mimetype": "text/x-python",
   "name": "python",
   "nbconvert_exporter": "python",
   "pygments_lexer": "ipython3",
   "version": "3.9.5"
  }
 },
 "nbformat": 4,
 "nbformat_minor": 4
}