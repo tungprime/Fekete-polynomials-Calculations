{
 "cells": [
  {
   "cell_type": "code",
   "execution_count": 1,
   "metadata": {
    "collapsed": false
   },
   "outputs": [
   ],
   "source": [
    "R.<x> = PolynomialRing(ZZ)"
   ]
  },
  {
   "cell_type": "code",
   "execution_count": 2,
   "metadata": {
    "collapsed": false
   },
   "outputs": [
   ],
   "source": [
    "def fekete(p):\n",
    "    #compute f_p(x) \n",
    "    v=[kronecker(a+1,p) for a in range(0,p-1)]\n",
    "    F_p=R(v)\n",
    "    if p%4==3:\n",
    "        coef=[1, -1]\n",
    "        factor=R(coef)\n",
    "        f,r =F_p.quo_rem(factor)\n",
    "    if p%4==1:\n",
    "        coef1=[1, -1, -1, 1]\n",
    "        factor1=R(coef1)\n",
    "        f,r=F_p.quo_rem(factor1)\n",
    "    return f\n",
    "    \n",
    "def reduced_fekete(p):\n",
    "    f_p=fekete(p)\n",
    "    u=f_p.trace_polynomial()\n",
    "    g_p=u[0]\n",
    "    return g_p\n",
    "\n",
    "def fekete_reduction(p, q):\n",
    "    f_p=fekete(p)\n",
    "    f=f_p.change_ring(GF(q))\n",
    "    return f.factor()\n",
    "    \n",
    "def almost_cycle(p,n):\n",
    "    for q in range(n):\n",
    "        if is_prime(q): \n",
    "            factor=fekete_reduction(p,q)\n",
    "            if len(factor)==3: \n",
    "                factor1=factor[0][0]\n",
    "                factor2=factor[1][0]\n",
    "                degree1=factor1.degree()\n",
    "                degree2=factor2.degree()\n",
    "                if degree1==1 and degree2==1 and factor[0][1]==1 and factor[1][1]==1 and factor[2][1]==1: \n",
    "                    return q\n",
    "    return  -1         \n",
    "                \n",
    "def irreducible(p,n):\n",
    "    for q in range(n):\n",
    "        if is_prime(q): \n",
    "            factor=fekete_reduction(p,q)\n",
    "            if len(factor)==1 and factor[0][1]==1:\n",
    "                    return q\n",
    "    return  -1         \n",
    "                \n",
    "       \n",
    "    \n",
    "def length_test_2(v):\n",
    "    #count the number of even entries in v\n",
    "    count2=0\n",
    "    for item in v:\n",
    "        if item==2:\n",
    "            count2 +=1\n",
    "    count_even=0     \n",
    "    for item in v:        \n",
    "        if item %2 ==0:\n",
    "            count_even +=1\n",
    "    if count2==count_even==1:\n",
    "        return True\n",
    "    return False    \n",
    "\n",
    "def length_test_4(v):\n",
    "    #count the number of even entries in v\n",
    "    count4=0\n",
    "    for item in v:\n",
    "        if item==4:\n",
    "            count4 +=1\n",
    "    count_even=0     \n",
    "    for item in v:        \n",
    "        if item %2 ==0:\n",
    "            count_even +=1\n",
    "    if count4==count_even==1:\n",
    "        return True\n",
    "    return False    \n",
    "\n",
    "    \n",
    "def two_cycle(p,n):\n",
    "    result=[]\n",
    "    f=fekete(p)\n",
    "    for q in range(n):\n",
    "        v=[]\n",
    "        if is_prime(q):\n",
    "            factor=fekete_reduction(p,q)\n",
    "            for item in factor:\n",
    "                v.append(item[0].degree())\n",
    "        if sum(v)==f.degree() and length_test_2(v):\n",
    "            return q\n",
    "    return -1     \n",
    "\n",
    "def four_cycle(p,q):\n",
    "    result=[]\n",
    "    f=fekete(p)\n",
    "    for q in range(n):\n",
    "        v=[]\n",
    "        if is_prime(q):\n",
    "            factor=fekete_reduction(p,q)\n",
    "            for item in factor:\n",
    "                v.append(item[0].degree())\n",
    "        if sum(v)==f.degree() and length_test_4(v):\n",
    "            return q\n",
    "    return -1  \n",
    "    \n"
   ]
  },
  {
   "cell_type": "code",
   "execution_count": 3,
   "metadata": {
    "collapsed": false
   },
   "outputs": [
   ],
   "source": [
    "def search(p,n):\n",
    "    irr=irreducible(p,n)\n",
    "    print(f\"The first prime that g is irreducible is: q=\",irr)\n",
    "    q_cycle=cycle(p,n)\n",
    "    print(f\"The first prime that g has a cycle is: q=\", q_cycle)\n",
    "    q_tranposition=tranposition(p,n)\n",
    "    print(f\"The first prime that g has a tranposition is q=\", q_tranposition)\n",
    "def search_1(p,n):\n",
    "    irr=irreducible(p,n)\n",
    "    q_cycle=almost_cycle(p,n)\n",
    "    q_tranposition=two_cycle(p,n)\n",
    "    q_four_cycle=four_cycle(p,n)\n",
    "    res=(irr, q_cycle, q_tranposition)\n",
    "    return res"
   ]
  },
  {
   "cell_type": "markdown",
   "metadata": {
    "collapsed": false
   },
   "source": [
    "## Let us test the above codes for small $p$ and random $p$. "
   ]
  },
  {
   "cell_type": "code",
   "execution_count": 66,
   "metadata": {
    "collapsed": false
   },
   "outputs": [
    {
     "name": "stdout",
     "output_type": "stream",
     "text": [
      "f is irreducible at q=  5\n",
      "The factorization of f at q: \n",
      " x^8 + x^6 + 2*x^5 + 3*x^4 + 2*x^3 + x^2 + 1\n"
     ]
    }
   ],
   "source": [
    "#irreducibility test\n",
    "p=11\n",
    "n=100000\n",
    "q=irreducible(p,n)\n",
    "print(f\"f is irreducible at q= \", q)\n",
    "print(f\"The factorization of f at q: \\n\", fekete_reduction(p,q))"
   ]
  },
  {
   "cell_type": "code",
   "execution_count": 67,
   "metadata": {
    "collapsed": false
   },
   "outputs": [
    {
     "name": "stdout",
     "output_type": "stream",
     "text": [
      "f has a 2-cycle at q 7\n",
      "The factorization of f at q: \n",
      " (x^2 + 4*x + 1) * (x^3 + 5*x^2 + x + 3) * (x^3 + 5*x^2 + 4*x + 5)\n"
     ]
    }
   ],
   "source": [
    "#two_cycle_search\n",
    "p=11\n",
    "n=100000\n",
    "q=two_cycle(p,n)\n",
    "print(f\"f has a 2-cycle at q\", q)\n",
    "print(f\"The factorization of f at q: \\n\", fekete_reduction(p,q))"
   ]
  },
  {
   "cell_type": "code",
   "execution_count": 68,
   "metadata": {
    "collapsed": false
   },
   "outputs": [
    {
     "name": "stdout",
     "output_type": "stream",
     "text": [
      "f has a (2n-2)-cycle at q 23\n",
      "The factorization of f at q: \n",
      " (x + 4) * (x + 6) * (x^6 + 13*x^5 + 8*x^4 + x^3 + 8*x^2 + 13*x + 1)\n"
     ]
    }
   ],
   "source": [
    "#(2n-2)_cycle_search\n",
    "p=11\n",
    "n=100000\n",
    "q=almost_cycle(p,n)\n",
    "print(f\"f has a (2n-2)-cycle at q\", q)\n",
    "print(f\"The factorization of f at q: \\n\", fekete_reduction(p,q))"
   ]
  },
  {
   "cell_type": "code",
   "execution_count": 69,
   "metadata": {
    "collapsed": false
   },
   "outputs": [
    {
     "name": "stdout",
     "output_type": "stream",
     "text": [
      "f has a 4-cycle at q 73\n",
      "The factorization of f at q: \n",
      " (x + 7) * (x + 19) * (x + 21) * (x + 50) * (x^4 + 49*x^3 + 30*x^2 + 49*x + 1)\n"
     ]
    }
   ],
   "source": [
    "#four_cycle_search\n",
    "p=11\n",
    "n=100000\n",
    "q=four_cycle(p,n)\n",
    "print(f\"f has a 4-cycle at q\", q)\n",
    "print(f\"The factorization of f at q: \\n\", fekete_reduction(p,q))"
   ]
  },
  {
   "cell_type": "code",
   "execution_count": 70,
   "metadata": {
    "collapsed": false
   },
   "outputs": [
    {
     "name": "stdout",
     "output_type": "stream",
     "text": [
      "The prime we are considering is p= 11\n",
      "f is irreducible at q=  5\n",
      "The factorization of f at q: \n",
      " x^8 + x^6 + 2*x^5 + 3*x^4 + 2*x^3 + x^2 + 1\n"
     ]
    }
   ],
   "source": [
    "p=11\n",
    "n=100000\n",
    "print(f\"The prime we are considering is p=\", p)\n",
    "q=irreducible(p,n)\n",
    "print(f\"f is irreducible at q= \", q)\n",
    "print(f\"The factorization of f at q: \\n\", fekete_reduction(p,q))\n",
    "\n"
   ]
  },
  {
   "cell_type": "code",
   "execution_count": 9,
   "metadata": {
    "collapsed": false
   },
   "outputs": [
    {
     "name": "stdout",
     "output_type": "stream",
     "text": [
      "The degree of f is deg= 8\n",
      "f is irreducible at q=  5\n",
      "The factorization of f at q: \n",
      " x^8 + x^6 + 2*x^5 + 3*x^4 + 2*x^3 + x^2 + 1\n",
      "f has a (2n-2)-cycle at q 23\n",
      "The factorization of f at q: \n",
      " (x + 4) * (x + 6) * (x^6 + 13*x^5 + 8*x^4 + x^3 + 8*x^2 + 13*x + 1)\n",
      "f has a 4-cycle at q 73\n",
      "The factorization of f at q: \n",
      " (x + 7) * (x + 19) * (x + 21) * (x + 50) * (x^4 + 49*x^3 + 30*x^2 + 49*x + 1)\n",
      "f has a 2-cycle at q 7\n",
      "The factorization of f at q: \n",
      " (x^2 + 4*x + 1) * (x^3 + 5*x^2 + x + 3) * (x^3 + 5*x^2 + 4*x + 5)\n"
     ]
    }
   ],
   "source": [
    "#full_search\n",
    "p=11\n",
    "n=100000\n",
    "q=irreducible(p,n)\n",
    "f=fekete(p)\n",
    "print(f\"The degree of f is deg=\", f.degree())\n",
    "print(f\"f is irreducible at q= \", q)\n",
    "print(f\"The factorization of f at q: \\n\", fekete_reduction(p,q))\n",
    "n=100000\n",
    "q=almost_cycle(p,n)\n",
    "print(f\"f has a (2n-2)-cycle at q\", q)\n",
    "print(f\"The factorization of f at q: \\n\", fekete_reduction(p,q))\n",
    "\n",
    "q=four_cycle(p,n)\n",
    "print(f\"f has a 4-cycle at q\", q)\n",
    "print(f\"The factorization of f at q: \\n\", fekete_reduction(p,q))\n",
    "q=two_cycle(p,n)\n",
    "print(f\"f has a 2-cycle at q\", q)\n",
    "print(f\"The factorization of f at q: \\n\", fekete_reduction(p,q))"
   ]
  },
  {
   "cell_type": "code",
   "execution_count": 63,
   "metadata": {
    "collapsed": false
   },
   "outputs": [
    {
     "name": "stdout",
     "output_type": "stream",
     "text": [
      "The degree of f is deg= 8\n",
      "f is irreducible at q=  3\n",
      "The factorization of f at q: \n",
      " x^8 + 2*x^6 + 2*x^5 + 2*x^3 + 2*x^2 + 1\n",
      "f has a (2n-2)-cycle at q 19\n",
      "The factorization of f at q: \n",
      " (x + 2) * (x + 10) * (x^6 + 7*x^5 + 12*x^4 + 3*x^3 + 12*x^2 + 7*x + 1)\n",
      "f has a 4-cycle at q 103\n",
      "The factorization of f at q: \n",
      " (x + 36) * (x + 37) * (x + 39) * (x + 83) * (x^4 + 11*x^3 + 38*x^2 + 11*x + 1)\n",
      "f has a 2-cycle at q 31\n",
      "The factorization of f at q: \n",
      " (x^2 + 4*x + 1) * (x^3 + 17*x + 19) * (x^3 + 27*x^2 + 18)\n"
     ]
    }
   ],
   "source": [
    "#full_search\n",
    "p=13\n",
    "n=100000\n",
    "q=irreducible(p,n)\n",
    "f=fekete(p)\n",
    "print(f\"The degree of f is deg=\", f.degree())\n",
    "print(f\"f is irreducible at q= \", q)\n",
    "print(f\"The factorization of f at q: \\n\", fekete_reduction(p,q))\n",
    "n=100000\n",
    "q=almost_cycle(p,n)\n",
    "print(f\"f has a (2n-2)-cycle at q\", q)\n",
    "print(f\"The factorization of f at q: \\n\", fekete_reduction(p,q))\n",
    "\n",
    "q=four_cycle(p,n)\n",
    "print(f\"f has a 4-cycle at q\", q)\n",
    "print(f\"The factorization of f at q: \\n\", fekete_reduction(p,q))\n",
    "q=two_cycle(p,n)\n",
    "print(f\"f has a 2-cycle at q\", q)\n",
    "print(f\"The factorization of f at q: \\n\", fekete_reduction(p,q))\n"
   ]
  },
  {
   "cell_type": "code",
   "execution_count": 64,
   "metadata": {
    "collapsed": false
   },
   "outputs": [
    {
     "name": "stdout",
     "output_type": "stream",
     "text": [
      "The degree of f is deg= 12\n",
      "f is irreducible at q=  37\n",
      "The factorization of f at q: \n",
      " x^12 + 2*x^11 + 2*x^10 + 4*x^9 + 3*x^8 + 4*x^7 + 2*x^6 + 4*x^5 + 3*x^4 + 4*x^3 + 2*x^2 + 2*x + 1\n",
      "f has a (2n-2)-cycle at q 541\n",
      "The factorization of f at q: \n",
      " (x + 65) * (x + 283) * (x^10 + 195*x^9 + 307*x^8 + 91*x^7 + 488*x^6 + 504*x^5 + 488*x^4 + 91*x^3 + 307*x^2 + 195*x + 1)\n",
      "f has a 4-cycle at q 367\n",
      "The factorization of f at q: \n",
      " (x + 41) * (x + 188) * (x^3 + 51*x^2 + 14*x + 267) * (x^3 + 154*x^2 + 194*x + 11) * (x^4 + 302*x^3 + 362*x^2 + 302*x + 1)\n",
      "f has a 2-cycle at q 31\n",
      "The factorization of f at q: \n",
      " (x^2 + 20*x + 1) * (x^5 + 20*x^4 + 7*x^3 + 11*x^2 + 23*x + 10) * (x^5 + 24*x^4 + 29*x^3 + 10*x^2 + 2*x + 28)\n"
     ]
    }
   ],
   "source": [
    "#full_search\n",
    "p=17\n",
    "n=100000\n",
    "q=irreducible(p,n)\n",
    "f=fekete(p)\n",
    "print(f\"The degree of f is deg=\", f.degree())\n",
    "print(f\"f is irreducible at q= \", q)\n",
    "print(f\"The factorization of f at q: \\n\", fekete_reduction(p,q))\n",
    "n=100000\n",
    "q=almost_cycle(p,n)\n",
    "print(f\"f has a (2n-2)-cycle at q\", q)\n",
    "print(f\"The factorization of f at q: \\n\", fekete_reduction(p,q))\n",
    "\n",
    "q=four_cycle(p,n)\n",
    "print(f\"f has a 4-cycle at q\", q)\n",
    "print(f\"The factorization of f at q: \\n\", fekete_reduction(p,q))\n",
    "q=two_cycle(p,n)\n",
    "print(f\"f has a 2-cycle at q\", q)\n",
    "print(f\"The factorization of f at q: \\n\", fekete_reduction(p,q))"
   ]
  },
  {
   "cell_type": "code",
   "execution_count": 71,
   "metadata": {
    "collapsed": false
   },
   "outputs": [
    {
     "name": "stdout",
     "output_type": "stream",
     "text": [
      "The degree of f is deg= 16\n",
      "f is irreducible at q=  5\n",
      "The factorization of f at q: \n",
      " x^16 + 4*x^14 + x^12 + 2*x^11 + 3*x^10 + 2*x^9 + 3*x^8 + 2*x^7 + 3*x^6 + 2*x^5 + x^4 + 4*x^2 + 1\n",
      "f has a (2n-2)-cycle at q 307\n",
      "The factorization of f at q: \n",
      " (x + 148) * (x + 251) * (x^14 + 215*x^13 + 173*x^12 + 140*x^11 + 149*x^10 + 276*x^9 + 250*x^8 + 58*x^7 + 250*x^6 + 276*x^5 + 149*x^4 + 140*x^3 + 173*x^2 + 215*x + 1)\n",
      "f has a 4-cycle at q 503\n",
      "The factorization of f at q: \n",
      " (x + 337) * (x + 403) * (x^4 + 5*x^3 + 64*x^2 + 5*x + 1) * (x^5 + 11*x^4 + 283*x^3 + 283*x^2 + 244*x + 5) * (x^5 + 250*x^4 + 459*x^3 + 459*x^2 + 304*x + 302)\n",
      "f has a 2-cycle at q 31\n",
      "The factorization of f at q: \n",
      " (x^2 + 21*x + 1) * (x^7 + 19*x^6 + 11*x^5 + 2*x^4 + 6*x^3 + 17*x^2 + 25*x + 11) * (x^7 + 22*x^6 + 10*x^5 + 9*x^4 + 3*x^3 + x^2 + 13*x + 17)\n"
     ]
    }
   ],
   "source": [
    "#full_search\n",
    "p=19\n",
    "n=100000\n",
    "q=irreducible(p,n)\n",
    "f=fekete(p)\n",
    "print(f\"The degree of f is deg=\", f.degree())\n",
    "print(f\"f is irreducible at q= \", q)\n",
    "print(f\"The factorization of f at q: \\n\", fekete_reduction(p,q))\n",
    "n=100000\n",
    "q=almost_cycle(p,n)\n",
    "print(f\"f has a (2n-2)-cycle at q\", q)\n",
    "print(f\"The factorization of f at q: \\n\", fekete_reduction(p,q))\n",
    "\n",
    "q=four_cycle(p,n)\n",
    "print(f\"f has a 4-cycle at q\", q)\n",
    "print(f\"The factorization of f at q: \\n\", fekete_reduction(p,q))\n",
    "q=two_cycle(p,n)\n",
    "print(f\"f has a 2-cycle at q\", q)\n",
    "print(f\"The factorization of f at q: \\n\", fekete_reduction(p,q))"
   ]
  },
  {
   "cell_type": "code",
   "execution_count": 78,
   "metadata": {
    "collapsed": false
   },
   "outputs": [
    {
     "name": "stdout",
     "output_type": "stream",
     "text": [
      "The prime we are considering is p= 23\n",
      "The degree of f is deg= 20\n",
      "f is irreducible at q=  7\n",
      "The factorization of f at q: \n",
      " x^20 + 2*x^19 + 3*x^18 + 4*x^17 + 3*x^16 + 4*x^15 + 3*x^14 + 4*x^13 + 5*x^12 + 4*x^11 + 3*x^10 + 4*x^9 + 5*x^8 + 4*x^7 + 3*x^6 + 4*x^5 + 3*x^4 + 4*x^3 + 3*x^2 + 2*x + 1\n",
      "f has a (2n-2)-cycle at q 97\n",
      "The factorization of f at q: \n",
      " (x + 26) * (x + 56) * (x^18 + 17*x^17 + 63*x^16 + 59*x^15 + 49*x^14 + x^13 + 66*x^12 + 23*x^11 + 90*x^10 + 70*x^9 + 90*x^8 + 23*x^7 + 66*x^6 + x^5 + 49*x^4 + 59*x^3 + 63*x^2 + 17*x + 1)\n",
      "f has a 4-cycle at q 241\n",
      "The factorization of f at q: \n",
      " (x + 72) * (x + 77) * (x^4 + 236*x^3 + 127*x^2 + 236*x + 1) * (x^7 + 17*x^6 + 19*x^5 + 177*x^4 + 190*x^3 + 86*x^2 + 85*x + 51) * (x^7 + 82*x^6 + 134*x^5 + 240*x^4 + 46*x^3 + 24*x^2 + 161*x + 52)\n",
      "f has a 2-cycle at q 181\n",
      "The factorization of f at q: \n",
      " (x^2 + 156*x + 1) * (x^9 + 100*x^8 + 165*x^7 + 69*x^6 + 161*x^5 + 104*x^4 + 8*x^3 + 132*x^2 + 11*x + 42) * (x^9 + 108*x^8 + 29*x^7 + 95*x^6 + 149*x^5 + 34*x^4 + 118*x^3 + 172*x^2 + 11*x + 125)\n"
     ]
    }
   ],
   "source": [
    "#full_search\n",
    "P=Primes()\n",
    "p=19\n",
    "n=100000\n",
    "p=P.next(p)\n",
    "q=irreducible(p,n)\n",
    "f=fekete(p)\n",
    "print(f\"The prime we are considering is p=\", p)\n",
    "print(f\"The degree of f is deg=\", f.degree())\n",
    "print(f\"f is irreducible at q= \", q)\n",
    "print(f\"The factorization of f at q: \\n\", fekete_reduction(p,q))\n",
    "n=100000\n",
    "q=almost_cycle(p,n)\n",
    "print(f\"f has a (2n-2)-cycle at q\", q)\n",
    "print(f\"The factorization of f at q: \\n\", fekete_reduction(p,q))\n",
    "\n",
    "q=four_cycle(p,n)\n",
    "print(f\"f has a 4-cycle at q\", q)\n",
    "print(f\"The factorization of f at q: \\n\", fekete_reduction(p,q))\n",
    "q=two_cycle(p,n)\n",
    "print(f\"f has a 2-cycle at q\", q)\n",
    "print(f\"The factorization of f at q: \\n\", fekete_reduction(p,q))"
   ]
  },
  {
   "cell_type": "code",
   "execution_count": 79,
   "metadata": {
    "collapsed": false
   },
   "outputs": [
    {
     "name": "stdout",
     "output_type": "stream",
     "text": [
      "The prime we are considering is p= 29\n",
      "The degree of f is deg= 24\n",
      "f is irreducible at q=  53\n",
      "The factorization of f at q: \n",
      " x^24 + x^20 + 2*x^19 + 4*x^18 + 4*x^17 + 7*x^16 + 6*x^15 + 8*x^14 + 6*x^13 + 9*x^12 + 6*x^11 + 8*x^10 + 6*x^9 + 7*x^8 + 4*x^7 + 4*x^6 + 2*x^5 + x^4 + 1\n",
      "f has a (2n-2)-cycle at q 541\n",
      "The factorization of f at q: \n",
      " (x + 342) * (x + 454) * (x^22 + 286*x^21 + 104*x^20 + 244*x^19 + 433*x^18 + 248*x^17 + 169*x^16 + 482*x^15 + 276*x^14 + 15*x^13 + 235*x^12 + 117*x^11 + 235*x^10 + 15*x^9 + 276*x^8 + 482*x^7 + 169*x^6 + 248*x^5 + 433*x^4 + 244*x^3 + 104*x^2 + 286*x + 1)\n",
      "f has a 4-cycle at q 787\n",
      "The factorization of f at q: \n",
      " (x + 429) * (x + 521) * (x^4 + 256*x^3 + 221*x^2 + 256*x + 1) * (x^9 + 513*x^8 + 316*x^7 + 775*x^6 + 488*x^5 + 399*x^4 + 404*x^3 + 460*x^2 + 436*x + 746) * (x^9 + 642*x^8 + 699*x^7 + 566*x^6 + 259*x^5 + 372*x^4 + 365*x^3 + 357*x^2 + 333*x + 691)\n",
      "f has a 2-cycle at q 19\n",
      "The factorization of f at q: \n",
      " (x + 9) * (x + 17) * (x^2 + 13*x + 1) * (x^3 + 11*x^2 + 9*x + 15) * (x^3 + 12*x^2 + 2*x + 14) * (x^7 + 5*x^6 + 10*x^5 + 5*x^4 + 16*x^3 + 10*x^2 + 6*x + 7) * (x^7 + 9*x^6 + 15*x^5 + 5*x^4 + 17*x^3 + 15*x^2 + 17*x + 11)\n"
     ]
    }
   ],
   "source": [
    "#full_search\n",
    "P=Primes()\n",
    "n=100000\n",
    "p=P.next(p)\n",
    "q=irreducible(p,n)\n",
    "f=fekete(p)\n",
    "print(f\"The prime we are considering is p=\", p)\n",
    "print(f\"The degree of f is deg=\", f.degree())\n",
    "print(f\"f is irreducible at q= \", q)\n",
    "print(f\"The factorization of f at q: \\n\", fekete_reduction(p,q))\n",
    "n=100000\n",
    "q=almost_cycle(p,n)\n",
    "print(f\"f has a (2n-2)-cycle at q\", q)\n",
    "print(f\"The factorization of f at q: \\n\", fekete_reduction(p,q))\n",
    "\n",
    "q=four_cycle(p,n)\n",
    "print(f\"f has a 4-cycle at q\", q)\n",
    "print(f\"The factorization of f at q: \\n\", fekete_reduction(p,q))\n",
    "q=two_cycle(p,n)\n",
    "print(f\"f has a 2-cycle at q\", q)\n",
    "print(f\"The factorization of f at q: \\n\", fekete_reduction(p,q))"
   ]
  },
  {
   "cell_type": "code",
   "execution_count": 80,
   "metadata": {
    "collapsed": false
   },
   "outputs": [
    {
     "name": "stdout",
     "output_type": "stream",
     "text": [
      "The prime we are considering is p= 31\n",
      "The degree of f is deg= 28\n",
      "f is irreducible at q=  61\n",
      "The factorization of f at q: \n",
      " x^28 + 2*x^27 + x^26 + 2*x^25 + 3*x^24 + 2*x^23 + 3*x^22 + 4*x^21 + 5*x^20 + 6*x^19 + 5*x^18 + 4*x^17 + 3*x^16 + 4*x^15 + 3*x^14 + 4*x^13 + 3*x^12 + 4*x^11 + 5*x^10 + 6*x^9 + 5*x^8 + 4*x^7 + 3*x^6 + 2*x^5 + 3*x^4 + 2*x^3 + x^2 + 2*x + 1\n",
      "f has a (2n-2)-cycle at q 263\n",
      "The factorization of f at q: \n",
      " (x + 56) * (x + 155) * (x^26 + 54*x^25 + 178*x^24 + 262*x^23 + 36*x^22 + 34*x^21 + 157*x^20 + 244*x^19 + 175*x^18 + 183*x^17 + 141*x^16 + 52*x^15 + 199*x^14 + 43*x^13 + 199*x^12 + 52*x^11 + 141*x^10 + 183*x^9 + 175*x^8 + 244*x^7 + 157*x^6 + 34*x^5 + 36*x^4 + 262*x^3 + 178*x^2 + 54*x + 1)\n",
      "f has a 4-cycle at q 821\n",
      "The factorization of f at q: \n",
      " (x + 513) * (x + 813) * (x^4 + 380*x^3 + 5*x^2 + 380*x + 1) * (x^11 + 75*x^10 + 480*x^9 + 185*x^8 + 367*x^7 + 67*x^6 + 332*x^5 + 597*x^4 + 800*x^3 + 80*x^2 + 364*x + 279) * (x^11 + 684*x^10 + 15*x^9 + 150*x^8 + 779*x^7 + 678*x^6 + 577*x^5 + 428*x^4 + 86*x^3 + 90*x^2 + 168*x + 462)\n",
      "f has a 2-cycle at q 13\n",
      "The factorization of f at q: \n",
      " (x^2 + 8*x + 1) * (x^13 + 2*x^12 + 8*x^11 + 2*x^10 + 5*x^9 + 9*x^8 + 10*x^7 + 2*x^6 + 2*x^5 + 4*x^4 + 7*x^3 + 5*x^2 + 3*x + 11) * (x^13 + 5*x^12 + 4*x^11 + 3*x^10 + 11*x^9 + 12*x^8 + 12*x^7 + 8*x^6 + 2*x^5 + 4*x^4 + 12*x^3 + 9*x^2 + 12*x + 6)\n"
     ]
    }
   ],
   "source": [
    "#full_search\n",
    "P=Primes()\n",
    "n=100000\n",
    "p=P.next(p)\n",
    "q=irreducible(p,n)\n",
    "f=fekete(p)\n",
    "print(f\"The prime we are considering is p=\", p)\n",
    "print(f\"The degree of f is deg=\", f.degree())\n",
    "print(f\"f is irreducible at q= \", q)\n",
    "print(f\"The factorization of f at q: \\n\", fekete_reduction(p,q))\n",
    "n=100000\n",
    "q=almost_cycle(p,n)\n",
    "print(f\"f has a (2n-2)-cycle at q\", q)\n",
    "print(f\"The factorization of f at q: \\n\", fekete_reduction(p,q))\n",
    "\n",
    "q=four_cycle(p,n)\n",
    "print(f\"f has a 4-cycle at q\", q)\n",
    "print(f\"The factorization of f at q: \\n\", fekete_reduction(p,q))\n",
    "q=two_cycle(p,n)\n",
    "print(f\"f has a 2-cycle at q\", q)\n",
    "print(f\"The factorization of f at q: \\n\", fekete_reduction(p,q))"
   ]
  },
  {
   "cell_type": "code",
   "execution_count": 81,
   "metadata": {
    "collapsed": false
   },
   "outputs": [
    {
     "name": "stdout",
     "output_type": "stream",
     "text": [
      "The prime we are considering is p= 37\n",
      "The degree of f is deg= 32\n",
      "f is irreducible at q=  7\n",
      "The factorization of f at q: \n",
      " x^32 + 2*x^30 + 2*x^29 + 3*x^28 + 2*x^27 + 4*x^26 + 2*x^25 + 5*x^24 + 4*x^23 + x^22 + x^21 + 4*x^20 + 3*x^19 + 5*x^18 + 5*x^17 + 6*x^16 + 5*x^15 + 5*x^14 + 3*x^13 + 4*x^12 + x^11 + x^10 + 4*x^9 + 5*x^8 + 2*x^7 + 4*x^6 + 2*x^5 + 3*x^4 + 2*x^3 + 2*x^2 + 1\n",
      "f has a (2n-2)-cycle at q 19\n",
      "The factorization of f at q: \n",
      " (x + 3) * (x + 13) * (x^30 + 3*x^29 + 10*x^28 + 10*x^27 + 4*x^26 + 4*x^25 + 12*x^24 + 15*x^23 + 8*x^21 + 13*x^20 + x^19 + x^18 + 12*x^17 + 9*x^16 + 8*x^15 + 9*x^14 + 12*x^13 + x^12 + x^11 + 13*x^10 + 8*x^9 + 15*x^7 + 12*x^6 + 4*x^5 + 4*x^4 + 10*x^3 + 10*x^2 + 3*x + 1)\n",
      "f has a 4-cycle at q 53\n",
      "The factorization of f at q: \n",
      " (x + 6) * (x + 9) * (x^3 + 9*x^2 + 51*x + 19) * (x^3 + 25*x^2 + 20*x + 14) * (x^4 + 38*x^3 + 24*x^2 + 38*x + 1) * (x^5 + x^4 + 24*x^3 + 18*x^2 + 27*x + 12) * (x^5 + 6*x^4 + 50*x^3 + 14*x^2 + 11*x + 12) * (x^5 + 23*x^4 + 10*x^3 + 13*x^2 + 27*x + 31) * (x^5 + 42*x^4 + 28*x^3 + 2*x^2 + 31*x + 31)\n",
      "f has a 2-cycle at q 109\n",
      "The factorization of f at q: \n",
      " (x^2 + 64*x + 1) * (x^15 + 60*x^14 + 39*x^13 + 12*x^12 + 58*x^11 + 100*x^10 + 88*x^9 + 33*x^8 + 17*x^7 + 85*x^6 + 67*x^5 + 62*x^4 + 69*x^3 + 5*x^2 + 50*x + 33) * (x^15 + 94*x^14 + 53*x^13 + 12*x^12 + 25*x^11 + 78*x^10 + 29*x^9 + 93*x^8 + x^7 + 39*x^6 + 79*x^5 + 48*x^4 + 40*x^3 + 21*x^2 + 91*x + 76)\n"
     ]
    }
   ],
   "source": [
    "#full_search\n",
    "P=Primes()\n",
    "n=100000\n",
    "p=P.next(p)\n",
    "q=irreducible(p,n)\n",
    "f=fekete(p)\n",
    "print(f\"The prime we are considering is p=\", p)\n",
    "print(f\"The degree of f is deg=\", f.degree())\n",
    "print(f\"f is irreducible at q= \", q)\n",
    "print(f\"The factorization of f at q: \\n\", fekete_reduction(p,q))\n",
    "n=100000\n",
    "q=almost_cycle(p,n)\n",
    "print(f\"f has a (2n-2)-cycle at q\", q)\n",
    "print(f\"The factorization of f at q: \\n\", fekete_reduction(p,q))\n",
    "\n",
    "q=four_cycle(p,n)\n",
    "print(f\"f has a 4-cycle at q\", q)\n",
    "print(f\"The factorization of f at q: \\n\", fekete_reduction(p,q))\n",
    "q=two_cycle(p,n)\n",
    "print(f\"f has a 2-cycle at q\", q)\n",
    "print(f\"The factorization of f at q: \\n\", fekete_reduction(p,q))"
   ]
  },
  {
   "cell_type": "code",
   "execution_count": 82,
   "metadata": {
    "collapsed": false
   },
   "outputs": [
    {
     "name": "stdout",
     "output_type": "stream",
     "text": [
      "The prime we are considering is p= 41\n",
      "The degree of f is deg= 36\n",
      "f is irreducible at q=  107\n",
      "The factorization of f at q: \n",
      " x^36 + 2*x^35 + 2*x^34 + 4*x^33 + 5*x^32 + 6*x^31 + 6*x^30 + 8*x^29 + 9*x^28 + 12*x^27 + 12*x^26 + 14*x^25 + 13*x^24 + 14*x^23 + 12*x^22 + 14*x^21 + 11*x^20 + 14*x^19 + 10*x^18 + 14*x^17 + 11*x^16 + 14*x^15 + 12*x^14 + 14*x^13 + 13*x^12 + 14*x^11 + 12*x^10 + 12*x^9 + 9*x^8 + 8*x^7 + 6*x^6 + 6*x^5 + 5*x^4 + 4*x^3 + 2*x^2 + 2*x + 1\n",
      "f has a (2n-2)-cycle at q 743\n",
      "The factorization of f at q: \n",
      " (x + 116) * (x + 237) * (x^34 + 392*x^33 + 566*x^32 + 424*x^31 + 596*x^30 + 206*x^29 + 249*x^28 + 322*x^27 + 516*x^26 + 320*x^25 + 215*x^24 + 328*x^23 + 665*x^22 + 472*x^21 + 649*x^20 + 32*x^19 + 697*x^18 + 617*x^17 + 697*x^16 + 32*x^15 + 649*x^14 + 472*x^13 + 665*x^12 + 328*x^11 + 215*x^10 + 320*x^9 + 516*x^8 + 322*x^7 + 249*x^6 + 206*x^5 + 596*x^4 + 424*x^3 + 566*x^2 + 392*x + 1)\n"
     ]
    },
    {
     "name": "stdout",
     "output_type": "stream",
     "text": [
      "f has a 4-cycle at q 467\n",
      "The factorization of f at q: \n",
      " (x + 311) * (x + 464) * (x^4 + 40*x^3 + 224*x^2 + 40*x + 1) * (x^15 + 41*x^14 + 87*x^13 + 223*x^12 + 398*x^11 + 252*x^10 + 13*x^9 + 245*x^8 + 171*x^7 + 447*x^6 + 176*x^5 + 423*x^4 + 306*x^3 + 281*x^2 + 390*x + 180) * (x^15 + 80*x^14 + 357*x^13 + 422*x^12 + 446*x^11 + 84*x^10 + 415*x^9 + 71*x^8 + 170*x^7 + 314*x^6 + 375*x^5 + 381*x^4 + 393*x^3 + 413*x^2 + 200*x + 96)\n",
      "f has a 2-cycle at q 173\n",
      "The factorization of f at q: \n",
      " (x^2 + 130*x + 1) * (x^17 + 104*x^16 + 86*x^15 + 71*x^14 + 12*x^13 + 3*x^12 + 126*x^11 + 21*x^10 + 13*x^9 + 72*x^8 + 33*x^7 + 3*x^6 + 6*x^5 + 96*x^4 + 105*x^3 + 96*x^2 + 119*x + 127) * (x^17 + 114*x^16 + 28*x^15 + 9*x^14 + 28*x^13 + 45*x^12 + 109*x^11 + 161*x^10 + 21*x^9 + 11*x^8 + 71*x^7 + 80*x^6 + 109*x^5 + 90*x^4 + 100*x^3 + 126*x^2 + 88*x + 94)\n"
     ]
    }
   ],
   "source": [
    "#full_search\n",
    "P=Primes()\n",
    "n=100000\n",
    "p=P.next(p)\n",
    "q=irreducible(p,n)\n",
    "f=fekete(p)\n",
    "print(f\"The prime we are considering is p=\", p)\n",
    "print(f\"The degree of f is deg=\", f.degree())\n",
    "print(f\"f is irreducible at q= \", q)\n",
    "print(f\"The factorization of f at q: \\n\", fekete_reduction(p,q))\n",
    "n=100000\n",
    "q=almost_cycle(p,n)\n",
    "print(f\"f has a (2n-2)-cycle at q\", q)\n",
    "print(f\"The factorization of f at q: \\n\", fekete_reduction(p,q))\n",
    "\n",
    "q=four_cycle(p,n)\n",
    "print(f\"f has a 4-cycle at q\", q)\n",
    "print(f\"The factorization of f at q: \\n\", fekete_reduction(p,q))\n",
    "q=two_cycle(p,n)\n",
    "print(f\"f has a 2-cycle at q\", q)\n",
    "print(f\"The factorization of f at q: \\n\", fekete_reduction(p,q))"
   ]
  },
  {
   "cell_type": "code",
   "execution_count": 83,
   "metadata": {
    "collapsed": false
   },
   "outputs": [
    {
     "name": "stdout",
     "output_type": "stream",
     "text": [
      "The prime we are considering is p= 43\n",
      "The degree of f is deg= 40\n",
      "f is irreducible at q=  7\n",
      "The factorization of f at q: \n",
      " x^40 + 6*x^38 + 6*x^36 + 6*x^34 + 5*x^33 + 6*x^32 + x^30 + x^28 + 2*x^27 + 3*x^26 + 4*x^25 + 5*x^24 + 4*x^23 + 3*x^22 + 2*x^21 + 3*x^20 + 2*x^19 + 3*x^18 + 4*x^17 + 5*x^16 + 4*x^15 + 3*x^14 + 2*x^13 + x^12 + x^10 + 6*x^8 + 5*x^7 + 6*x^6 + 6*x^4 + 6*x^2 + 1\n",
      "f has a (2n-2)-cycle at q 751\n",
      "The factorization of f at q: \n",
      " (x + 29) * (x + 259) * (x^38 + 463*x^37 + 332*x^36 + 49*x^35 + 575*x^34 + 322*x^33 + 563*x^32 + 499*x^31 + 667*x^30 + 412*x^29 + 87*x^28 + 66*x^27 + 432*x^26 + 186*x^25 + 75*x^24 + 748*x^23 + 43*x^22 + 390*x^21 + 290*x^20 + 204*x^19 + 290*x^18 + 390*x^17 + 43*x^16 + 748*x^15 + 75*x^14 + 186*x^13 + 432*x^12 + 66*x^11 + 87*x^10 + 412*x^9 + 667*x^8 + 499*x^7 + 563*x^6 + 322*x^5 + 575*x^4 + 49*x^3 + 332*x^2 + 463*x + 1)\n",
      "f has a 4-cycle at q 23\n",
      "The factorization of f at q: \n",
      " (x^4 + 15*x^3 + 20*x^2 + 15*x + 1) * (x^7 + 14*x^6 + 5*x^5 + 10*x^4 + 3*x^3 + 2*x^2 + 14*x + 21) * (x^7 + 16*x^6 + 22*x^5 + 10*x^4 + 18*x^3 + 9*x^2 + 16*x + 11) * (x^11 + 9*x^10 + 18*x^9 + 6*x^8 + 14*x^7 + 4*x^6 + 6*x^5 + 14*x^4 + 6*x^3 + 7*x + 2) * (x^11 + 15*x^10 + 3*x^8 + 7*x^7 + 3*x^6 + 2*x^5 + 7*x^4 + 3*x^3 + 9*x^2 + 16*x + 12)\n"
     ]
    },
    {
     "name": "stdout",
     "output_type": "stream",
     "text": [
      "f has a 2-cycle at q 1237\n",
      "The factorization of f at q: \n",
      " (x^2 + 919*x + 1) * (x^19 + 683*x^18 + 1194*x^17 + 1127*x^16 + 673*x^15 + 483*x^14 + 315*x^13 + 1146*x^12 + 83*x^11 + 927*x^10 + 1129*x^9 + 1194*x^8 + 598*x^7 + 589*x^6 + 1020*x^5 + 1194*x^4 + 628*x^3 + 205*x^2 + 291*x + 433) * (x^19 + 872*x^18 + 389*x^17 + 190*x^16 + 377*x^15 + 608*x^14 + 647*x^13 + 827*x^12 + 377*x^11 + 314*x^10 + 1222*x^9 + 423*x^8 + 654*x^7 + 115*x^6 + 1001*x^5 + 1090*x^4 + 274*x^3 + 377*x^2 + 53*x + 20)\n"
     ]
    }
   ],
   "source": [
    "#full_search\n",
    "P=Primes()\n",
    "n=100000\n",
    "p=P.next(p)\n",
    "q=irreducible(p,n)\n",
    "f=fekete(p)\n",
    "print(f\"The prime we are considering is p=\", p)\n",
    "print(f\"The degree of f is deg=\", f.degree())\n",
    "print(f\"f is irreducible at q= \", q)\n",
    "print(f\"The factorization of f at q: \\n\", fekete_reduction(p,q))\n",
    "n=100000\n",
    "q=almost_cycle(p,n)\n",
    "print(f\"f has a (2n-2)-cycle at q\", q)\n",
    "print(f\"The factorization of f at q: \\n\", fekete_reduction(p,q))\n",
    "\n",
    "q=four_cycle(p,n)\n",
    "print(f\"f has a 4-cycle at q\", q)\n",
    "print(f\"The factorization of f at q: \\n\", fekete_reduction(p,q))\n",
    "q=two_cycle(p,n)\n",
    "print(f\"f has a 2-cycle at q\", q)\n",
    "print(f\"The factorization of f at q: \\n\", fekete_reduction(p,q))"
   ]
  },
  {
   "cell_type": "code",
   "execution_count": 84,
   "metadata": {
    "collapsed": false
   },
   "outputs": [
    {
     "name": "stdout",
     "output_type": "stream",
     "text": [
      "The prime we are considering is p= 47\n",
      "The degree of f is deg= 44\n",
      "f is irreducible at q=  107\n",
      "The factorization of f at q: \n",
      " x^44 + 2*x^43 + 3*x^42 + 4*x^41 + 3*x^40 + 4*x^39 + 5*x^38 + 6*x^37 + 7*x^36 + 6*x^35 + 5*x^34 + 6*x^33 + 5*x^32 + 6*x^31 + 5*x^30 + 6*x^29 + 7*x^28 + 8*x^27 + 7*x^26 + 6*x^25 + 7*x^24 + 6*x^23 + 5*x^22 + 6*x^21 + 7*x^20 + 6*x^19 + 7*x^18 + 8*x^17 + 7*x^16 + 6*x^15 + 5*x^14 + 6*x^13 + 5*x^12 + 6*x^11 + 5*x^10 + 6*x^9 + 7*x^8 + 6*x^7 + 5*x^6 + 4*x^5 + 3*x^4 + 4*x^3 + 3*x^2 + 2*x + 1\n",
      "f has a (2n-2)-cycle at q 419\n",
      "The factorization of f at q: \n",
      " (x + 57) * (x + 272) * (x^42 + 92*x^41 + 321*x^40 + 310*x^39 + 347*x^38 + 337*x^37 + 239*x^36 + 229*x^35 + 266*x^34 + 253*x^33 + 302*x^32 + 117*x^31 + 177*x^30 + 316*x^29 + 195*x^28 + 61*x^27 + 274*x^26 + 305*x^25 + 367*x^24 + 49*x^23 + 279*x^22 + 346*x^21 + 279*x^20 + 49*x^19 + 367*x^18 + 305*x^17 + 274*x^16 + 61*x^15 + 195*x^14 + 316*x^13 + 177*x^12 + 117*x^11 + 302*x^10 + 253*x^9 + 266*x^8 + 229*x^7 + 239*x^6 + 337*x^5 + 347*x^4 + 310*x^3 + 321*x^2 + 92*x + 1)\n",
      "f has a 4-cycle at q 409\n",
      "The factorization of f at q: \n",
      " (x^4 + 4*x^3 + 298*x^2 + 4*x + 1) * (x^7 + 63*x^6 + 226*x^5 + 404*x^4 + 152*x^3 + 88*x^2 + 244*x + 392) * (x^7 + 130*x^6 + 67*x^5 + 376*x^4 + 289*x^3 + 107*x^2 + 285*x + 24) * (x^13 + 219*x^12 + 52*x^11 + 271*x^10 + 281*x^9 + 396*x^8 + 70*x^7 + 197*x^6 + 387*x^5 + x^4 + 283*x^3 + 252*x^2 + 264*x + 29) * (x^13 + 404*x^12 + 51*x^11 + 179*x^10 + 268*x^9 + 239*x^8 + 35*x^7 + 355*x^6 + 197*x^5 + 52*x^4 + 235*x^3 + 30*x^2 + 205*x + 268)\n"
     ]
    },
    {
     "name": "stdout",
     "output_type": "stream",
     "text": [
      "f has a 2-cycle at q 421\n",
      "The factorization of f at q: \n",
      " (x + 278) * (x + 368) * (x^2 + 35*x + 1) * (x^7 + 169*x^6 + 19*x^5 + 380*x^4 + 231*x^3 + 389*x^2 + 68*x + 140) * (x^7 + 217*x^6 + 96*x^5 + 149*x^4 + 123*x^3 + 364*x^2 + 335*x + 418) * (x^13 + 289*x^12 + 338*x^11 + 201*x^10 + 59*x^9 + 8*x^8 + 209*x^7 + 103*x^6 + 176*x^5 + 50*x^4 + 313*x^3 + 146*x^2 + 225*x + 326) * (x^13 + 330*x^12 + 158*x^11 + 10*x^10 + 354*x^9 + 202*x^8 + 123*x^7 + 82*x^6 + 124*x^5 + 283*x^4 + 379*x^3 + 187*x^2 + 59*x + 226)\n"
     ]
    }
   ],
   "source": [
    "#full_search\n",
    "P=Primes()\n",
    "n=100000\n",
    "p=P.next(p)\n",
    "q=irreducible(p,n)\n",
    "f=fekete(p)\n",
    "print(f\"The prime we are considering is p=\", p)\n",
    "print(f\"The degree of f is deg=\", f.degree())\n",
    "print(f\"f is irreducible at q= \", q)\n",
    "print(f\"The factorization of f at q: \\n\", fekete_reduction(p,q))\n",
    "n=100000\n",
    "q=almost_cycle(p,n)\n",
    "print(f\"f has a (2n-2)-cycle at q\", q)\n",
    "print(f\"The factorization of f at q: \\n\", fekete_reduction(p,q))\n",
    "\n",
    "q=four_cycle(p,n)\n",
    "print(f\"f has a 4-cycle at q\", q)\n",
    "print(f\"The factorization of f at q: \\n\", fekete_reduction(p,q))\n",
    "q=two_cycle(p,n)\n",
    "print(f\"f has a 2-cycle at q\", q)\n",
    "print(f\"The factorization of f at q: \\n\", fekete_reduction(p,q))"
   ]
  },
  {
   "cell_type": "markdown",
   "metadata": {
    "collapsed": false
   },
   "source": [
    "## Next, we will find the smallest tuples $(q_1, q_2, q_3, q_4)$ for $p<200$. "
   ]
  },
  {
   "cell_type": "code",
   "execution_count": 10,
   "metadata": {
    "collapsed": false
   },
   "outputs": [
    {
     "data": {
      "text/plain": [
       "[[7, [3, 17, 17, 3]],\n",
       " [11, [5, 23, 7, 73]],\n",
       " [13, [3, 19, 31, 103]],\n",
       " [17, [37, 541, 31, 367]],\n",
       " [19, [5, 307, 31, 503]],\n",
       " [23, [7, 97, 181, 241]],\n",
       " [29, [53, 541, 19, 787]],\n",
       " [31, [61, 263, 13, 821]],\n",
       " [37, [7, 19, 109, 53]],\n",
       " [41, [107, 743, 173, 467]],\n",
       " [43, [7, 751, 1237, 23]],\n",
       " [47, [107, 419, 421, 409]],\n",
       " [53, [293, 631, 191, 41]],\n",
       " [59, [211, 1907, 53, 41]],\n",
       " [61, [197, 89, 487, 2161]],\n",
       " [67, [257, 227, 167, 337]],\n",
       " [71, [31, 97, 461, 601]],\n",
       " [73, [827, 149, 229, 919]],\n",
       " [79, [691, 173, 113, 71]],\n",
       " [83, [617, 367, 541, 331]],\n",
       " [89, [127, 449, 151, 1129]],\n",
       " [97, [53, 757, 157, 773]],\n",
       " [101, [1061, 1213, 149, 89]],\n",
       " [103, [457, 1013, 211, 4937]],\n",
       " [107, [797, 211, 139, 3307]],\n",
       " [109, [373, 467, 293, 797]],\n",
       " [113, [397, 631, 1217, 1549]],\n",
       " [127, [223, 1811, 97, 53]],\n",
       " [131, [499, 7549, 1319, 223]],\n",
       " [137, [839, 9619, 617, 2633]],\n",
       " [139, [839, 3607, 103, 1801]],\n",
       " [149, [107, 827, 1823, 5827]],\n",
       " [151, [1249, 359, 283, 1879]],\n",
       " [157, [229, 67, 2251, 2609]],\n",
       " [163, [1879, 13337, 991, 3163]],\n",
       " [167, [347, 379, 109, 79]],\n",
       " [173, [503, 409, 191, 3121]],\n",
       " [179, [421, 2069, 211, 1103]],\n",
       " [181, [569, 347, 727, 773]],\n",
       " [191, [509, 2909, 127, 101]],\n",
       " [193, [13, 307, 673, 4027]],\n",
       " [197, [5113, 617, 149, 31]],\n",
       " [199, [547, 787, 8581, 499]]]"
      ]
     },
     "execution_count": 10,
     "metadata": {
     },
     "output_type": "execute_result"
    }
   ],
   "source": [
    "p=7\n",
    "n=10**6\n",
    "P=Primes()\n",
    "res=[]\n",
    "while p<200:\n",
    "    q_irr=irreducible(p,n)\n",
    "    q_cycle=almost_cycle(p,n)\n",
    "    q_tranposition=two_cycle(p,n)\n",
    "    q_four_cycle=four_cycle(p,n)\n",
    "    res.append([p, [q_irr, q_cycle, q_tranposition, q_four_cycle]])\n",
    "    p=P.next(p)\n",
    "res   \n",
    "    \n"
   ]
  },
  {
   "cell_type": "markdown",
   "metadata": {
    "collapsed": false
   },
   "source": [
    "## Next, we find smallest tuples $(q_1, q_2, q_3, q_4)$ for 200<p<400. "
   ]
  },
  {
   "cell_type": "code",
   "execution_count": 11,
   "metadata": {
    "collapsed": false
   },
   "outputs": [
    {
     "data": {
      "text/plain": [
       "[[199, [547, 787, 8581, 499]],\n",
       " [211, [47, 947, 311, 1439]],\n",
       " [223, [2333, 3449, 449, 541]],\n",
       " [227, [317, 3271, 4157, 9001]],\n",
       " [229, [5519, 719, 1801, 2767]],\n",
       " [233, [1559, 9601, 2069, 29]],\n",
       " [239, [199, 809, 233, 179]],\n",
       " [241, [2857, 1231, 773, 617]],\n",
       " [251, [41, 433, 443, 277]],\n",
       " [257, [1129, 5779, 919, 15233]],\n",
       " [263, [4463, 239, 3769, 11171]],\n",
       " [269, [929, 6067, 97, 4129]],\n",
       " [271, [3067, 3343, 4363, 3931]],\n",
       " [277, [317, 3877, 1559, 1499]],\n",
       " [281, [3919, 23623, 2089, 1741]],\n",
       " [283, [89, 8629, 3251, 6691]],\n",
       " [293, [3373, 1823, 677, 883]],\n",
       " [307, [353, 487, 661, 557]],\n",
       " [311, [1523, 8317, 1531, 2347]],\n",
       " [313, [197, 5849, 263, 947]],\n",
       " [317, [3769, 1499, 383, 673]],\n",
       " [331, [53, 1861, 2833, 2081]],\n",
       " [337, [3257, 599, 4793, 3833]],\n",
       " [347, [8081, 173, 503, 197]],\n",
       " [349, [6823, 421, 3329, 2377]],\n",
       " [353, [1301, 4271, 3121, 1831]],\n",
       " [359, [1069, 9973, 443, 3881]],\n",
       " [367, [1459, 677, 2113, 2399]],\n",
       " [373, [5147, 3229, 151, 39113]],\n",
       " [379, [3061, 9421, 9719, 27043]],\n",
       " [383, [47, 6217, 59, 2551]],\n",
       " [389, [857, 16249, 1423, 3221]],\n",
       " [397, [3323, 5741, 7459, 3061]]]"
      ]
     },
     "execution_count": 11,
     "metadata": {
     },
     "output_type": "execute_result"
    }
   ],
   "source": [
    "p=199\n",
    "n=10**6\n",
    "P=Primes()\n",
    "res=[]\n",
    "while p<400:\n",
    "    q_irr=irreducible(p,n)\n",
    "    q_cycle=almost_cycle(p,n)\n",
    "    q_tranposition=two_cycle(p,n)\n",
    "    q_four_cycle=four_cycle(p,n)\n",
    "    res.append([p, [q_irr, q_cycle, q_tranposition, q_four_cycle]])\n",
    "    p=P.next(p)\n",
    "res   "
   ]
  },
  {
   "cell_type": "markdown",
   "metadata": {
    "collapsed": false
   },
   "source": [
    "## Next, we find smallest tuples $(q_1, q_2, q_3, q_4)$ for 400<p<600. "
   ]
  },
  {
   "cell_type": "code",
   "execution_count": 3,
   "metadata": {
    "collapsed": false,
    "scrolled": true
   },
   "outputs": [
    {
     "data": {
      "text/plain": [
       "[[397, [3323, 5741, 7459, 3061]],\n",
       " [401, [2729, 8269, 823, 11287]],\n",
       " [409, [2969, 4229, 157, 3559]],\n",
       " [419, [659, 8537, 3307, 7369]],\n",
       " [421, [3637, 431, 6983, 59]],\n",
       " [431, [1579, 2447, 2621, 601]],\n",
       " [433, [811, 2347, 5087, 2311]],\n",
       " [439, [3187, 2143, 1997, 4129]],\n",
       " [443, [5879, 4973, 10597, 7487]],\n",
       " [449, [241, 5419, 43, 3217]],\n",
       " [457, [10859, 13009, 47, 3229]],\n",
       " [461, [1531, 3691, 269, 211]],\n",
       " [463, [2753, 5119, 2087, 3347]],\n",
       " [467, [463, 12853, 1493, 9661]],\n",
       " [479, [5527, 5471, 1187, 3307]],\n",
       " [487, [991, 14051, 7477, 2837]],\n",
       " [491, [461, 12721, 3347, 1867]],\n",
       " [499, [4397, 14653, 4937, 6197]]]"
      ]
     },
     "execution_count": 3,
     "metadata": {
     },
     "output_type": "execute_result"
    }
   ],
   "source": [
    "p=397\n",
    "n=10**6\n",
    "P=Primes()\n",
    "res=[]\n",
    "while p<500:\n",
    "    q_irr=irreducible(p,n)\n",
    "    q_cycle=almost_cycle(p,n)\n",
    "    q_tranposition=two_cycle(p,n)\n",
    "    q_four_cycle=four_cycle(p,n)\n",
    "    res.append([p, [q_irr, q_cycle, q_tranposition, q_four_cycle]])\n",
    "    p=P.next(p)\n",
    "res   "
   ]
  },
  {
   "cell_type": "code",
   "execution_count": 4,
   "metadata": {
    "collapsed": false
   },
   "outputs": [
    {
     "name": "stdout",
     "output_type": "stream",
     "text": [
      "CPU times: user 2h 12min 29s, sys: 8.25 s, total: 2h 12min 37s\n",
      "Wall time: 2h 21min 25s\n"
     ]
    },
    {
     "data": {
      "text/plain": [
       "[[499, [4397, 14653, 4937, 6197]],\n",
       " [503, [89, 1913, 307, 19]],\n",
       " [509, [2729, 5483, 4201, 337]],\n",
       " [521, [701, 1069, 1747, 19379]],\n",
       " [523, [541, 5113, 2657, 12893]],\n",
       " [541, [4463, 1871, 367, 6761]],\n",
       " [547, [241, 1861, 1049, 3967]],\n",
       " [557, [4409, 271, 977, 5519]],\n",
       " [563, [593, 10181, 953, 15053]],\n",
       " [569, [7673, 5839, 197, 6803]],\n",
       " [571, [79, 1567, 1873, 2333]],\n",
       " [577, [421, 1759, 11177, 947]],\n",
       " [587, [7457, 17921, 17029, 13]],\n",
       " [593, [43, 2767, 16193, 12689]],\n",
       " [599, [1597, 3709, 7829, 23743]]]"
      ]
     },
     "execution_count": 4,
     "metadata": {
     },
     "output_type": "execute_result"
    }
   ],
   "source": [
    "%%time\n",
    "p=499\n",
    "n=10**6\n",
    "P=Primes()\n",
    "res=[]\n",
    "while p<600:\n",
    "    q_irr=irreducible(p,n)\n",
    "    q_cycle=almost_cycle(p,n)\n",
    "    q_tranposition=two_cycle(p,n)\n",
    "    q_four_cycle=four_cycle(p,n)\n",
    "    res.append([p, [q_irr, q_cycle, q_tranposition, q_four_cycle]])\n",
    "    p=P.next(p)\n",
    "res  "
   ]
  },
  {
   "cell_type": "markdown",
   "metadata": {
    "collapsed": false
   },
   "source": [
    "## Next we compute the running time for larger $p$."
   ]
  },
  {
   "cell_type": "code",
   "execution_count": 6,
   "metadata": {
    "collapsed": false
   },
   "outputs": [
    {
     "name": "stdout",
     "output_type": "stream",
     "text": [
      "CPU times: user 14min 14s, sys: 2.22 s, total: 14min 16s\n",
      "Wall time: 15min 8s\n"
     ]
    },
    {
     "data": {
      "text/plain": [
       "[[601, [9181, 4691, 499, 12409]]]"
      ]
     },
     "execution_count": 6,
     "metadata": {
     },
     "output_type": "execute_result"
    }
   ],
   "source": [
    "%%time\n",
    "p=599\n",
    "P=Primes()\n",
    "p=P.next(p)\n",
    "n=10**6\n",
    "P=Primes()\n",
    "res=[]\n",
    "q_irr=irreducible(p,n)\n",
    "q_cycle=almost_cycle(p,n)\n",
    "q_tranposition=two_cycle(p,n)\n",
    "q_four_cycle=four_cycle(p,n)\n",
    "res.append([p, [q_irr, q_cycle, q_tranposition, q_four_cycle]])\n",
    "res  "
   ]
  },
  {
   "cell_type": "code",
   "execution_count": 8,
   "metadata": {
    "collapsed": false
   },
   "outputs": [
    {
     "name": "stdout",
     "output_type": "stream",
     "text": [
      "CPU times: user 13min 57s, sys: 2.69 s, total: 14min\n",
      "Wall time: 15min 8s\n"
     ]
    },
    {
     "data": {
      "text/plain": [
       "[[607, [599, 7207, 7541, 9463]]]"
      ]
     },
     "execution_count": 8,
     "metadata": {
     },
     "output_type": "execute_result"
    }
   ],
   "source": [
    "%%time\n",
    "p=601\n",
    "P=Primes()\n",
    "p=P.next(p)\n",
    "n=10**6\n",
    "P=Primes()\n",
    "res=[]\n",
    "q_irr=irreducible(p,n)\n",
    "q_cycle=almost_cycle(p,n)\n",
    "q_tranposition=two_cycle(p,n)\n",
    "q_four_cycle=four_cycle(p,n)\n",
    "res.append([p, [q_irr, q_cycle, q_tranposition, q_four_cycle]])\n",
    "res  "
   ]
  },
  {
   "cell_type": "code",
   "execution_count": 4,
   "metadata": {
    "collapsed": false
   },
   "outputs": [
    {
     "name": "stdout",
     "output_type": "stream",
     "text": [
      "CPU times: user 22min 55s, sys: 2.61 s, total: 22min 57s\n",
      "Wall time: 24min 4s\n"
     ]
    },
    {
     "data": {
      "text/plain": [
       "[[613, [401, 27901, 1109, 7853]]]"
      ]
     },
     "execution_count": 4,
     "metadata": {
     },
     "output_type": "execute_result"
    }
   ],
   "source": [
    "%%time\n",
    "p=607\n",
    "P=Primes()\n",
    "p=P.next(p)\n",
    "n=10**6\n",
    "P=Primes()\n",
    "res=[]\n",
    "q_irr=irreducible(p,n)\n",
    "q_cycle=almost_cycle(p,n)\n",
    "q_tranposition=two_cycle(p,n)\n",
    "q_four_cycle=four_cycle(p,n)\n",
    "res.append([p, [q_irr, q_cycle, q_tranposition, q_four_cycle]])\n",
    "res  "
   ]
  },
  {
   "cell_type": "code",
   "execution_count": 5,
   "metadata": {
    "collapsed": false
   },
   "outputs": [
    {
     "name": "stdout",
     "output_type": "stream",
     "text": [
      "CPU times: user 51min 44s, sys: 5.22 s, total: 51min 49s\n",
      "Wall time: 54min 37s\n"
     ]
    },
    {
     "data": {
      "text/plain": [
       "[[617, [7307, 53731, 10597, 11171]]]"
      ]
     },
     "execution_count": 5,
     "metadata": {
     },
     "output_type": "execute_result"
    }
   ],
   "source": [
    "%%time\n",
    "p=613\n",
    "P=Primes()\n",
    "p=P.next(p)\n",
    "n=10**6\n",
    "P=Primes()\n",
    "res=[]\n",
    "q_irr=irreducible(p,n)\n",
    "q_cycle=almost_cycle(p,n)\n",
    "q_tranposition=two_cycle(p,n)\n",
    "q_four_cycle=four_cycle(p,n)\n",
    "res.append([p, [q_irr, q_cycle, q_tranposition, q_four_cycle]])\n",
    "res  "
   ]
  },
  {
   "cell_type": "code",
   "execution_count": 6,
   "metadata": {
    "collapsed": false
   },
   "outputs": [
    {
     "name": "stdout",
     "output_type": "stream",
     "text": [
      "CPU times: user 5min 52s, sys: 378 ms, total: 5min 53s\n",
      "Wall time: 6min 9s\n"
     ]
    },
    {
     "data": {
      "text/plain": [
       "[[619, [2039, 1553, 1051, 6221]]]"
      ]
     },
     "execution_count": 6,
     "metadata": {
     },
     "output_type": "execute_result"
    }
   ],
   "source": [
    "%%time\n",
    "p=617\n",
    "P=Primes()\n",
    "p=P.next(p)\n",
    "n=10**6\n",
    "P=Primes()\n",
    "res=[]\n",
    "q_irr=irreducible(p,n)\n",
    "q_cycle=almost_cycle(p,n)\n",
    "q_tranposition=two_cycle(p,n)\n",
    "q_four_cycle=four_cycle(p,n)\n",
    "res.append([p, [q_irr, q_cycle, q_tranposition, q_four_cycle]])\n",
    "res "
   ]
  },
  {
   "cell_type": "code",
   "execution_count": 7,
   "metadata": {
    "collapsed": false
   },
   "outputs": [
    {
     "name": "stdout",
     "output_type": "stream",
     "text": [
      "CPU times: user 45min 47s, sys: 4.27 s, total: 45min 51s\n",
      "Wall time: 47min 3s\n"
     ]
    },
    {
     "data": {
      "text/plain": [
       "[[631, [57329, 463, 359, 10847]]]"
      ]
     },
     "execution_count": 7,
     "metadata": {
     },
     "output_type": "execute_result"
    }
   ],
   "source": [
    "%%time\n",
    "p=619\n",
    "P=Primes()\n",
    "p=P.next(p)\n",
    "n=10**6\n",
    "P=Primes()\n",
    "res=[]\n",
    "q_irr=irreducible(p,n)\n",
    "q_cycle=almost_cycle(p,n)\n",
    "q_tranposition=two_cycle(p,n)\n",
    "q_four_cycle=four_cycle(p,n)\n",
    "res.append([p, [q_irr, q_cycle, q_tranposition, q_four_cycle]])\n",
    "res "
   ]
  },
  {
   "cell_type": "code",
   "execution_count": 8,
   "metadata": {
    "collapsed": false
   },
   "outputs": [
    {
     "name": "stdout",
     "output_type": "stream",
     "text": [
      "CPU times: user 18min 7s, sys: 1.56 s, total: 18min 8s\n",
      "Wall time: 18min 37s\n"
     ]
    },
    {
     "data": {
      "text/plain": [
       "[[641, [12689, 6577, 2647, 7753]]]"
      ]
     },
     "execution_count": 8,
     "metadata": {
     },
     "output_type": "execute_result"
    }
   ],
   "source": [
    "%%time\n",
    "p=631\n",
    "P=Primes()\n",
    "p=P.next(p)\n",
    "n=10**6\n",
    "P=Primes()\n",
    "res=[]\n",
    "q_irr=irreducible(p,n)\n",
    "q_cycle=almost_cycle(p,n)\n",
    "q_tranposition=two_cycle(p,n)\n",
    "q_four_cycle=four_cycle(p,n)\n",
    "res.append([p, [q_irr, q_cycle, q_tranposition, q_four_cycle]])\n",
    "res "
   ]
  },
  {
   "cell_type": "code",
   "execution_count": 9,
   "metadata": {
    "collapsed": false
   },
   "outputs": [
   ],
   "source": [
    "%%time\n",
    "p=641\n",
    "P=Primes()\n",
    "p=P.next(p)\n",
    "n=10**6\n",
    "P=Primes()\n",
    "res=[]\n",
    "q_irr=irreducible(p,n)\n",
    "q_cycle=almost_cycle(p,n)\n",
    "q_tranposition=two_cycle(p,n)\n",
    "q_four_cycle=four_cycle(p,n)\n",
    "res.append([p, [q_irr, q_cycle, q_tranposition, q_four_cycle]])\n",
    "res "
   ]
  },
  {
   "cell_type": "code",
   "execution_count": 0,
   "metadata": {
    "collapsed": false
   },
   "outputs": [
   ],
   "source": [
   ]
  }
 ],
 "metadata": {
  "kernelspec": {
   "display_name": "SageMath 9.4",
   "language": "sagemath",
   "metadata": {
    "cocalc": {
     "description": "Open-source mathematical software system",
     "priority": 10,
     "url": "https://www.sagemath.org/"
    }
   },
   "name": "sage-9.4",
   "resource_dir": "/ext/jupyter/kernels/sage-9.4"
  },
  "language_info": {
   "codemirror_mode": {
    "name": "ipython",
    "version": 3
   },
   "file_extension": ".py",
   "mimetype": "text/x-python",
   "name": "python",
   "nbconvert_exporter": "python",
   "pygments_lexer": "ipython3",
   "version": "3.9.5"
  }
 },
 "nbformat": 4,
 "nbformat_minor": 4
}